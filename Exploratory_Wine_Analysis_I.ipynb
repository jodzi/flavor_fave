{
 "cells": [
  {
   "cell_type": "code",
   "execution_count": 1,
   "metadata": {
    "collapsed": false
   },
   "outputs": [],
   "source": [
    "from pymongo import MongoClient\n",
    "from bs4 import BeautifulSoup\n",
    "import urllib2\n",
    "import pprint\n",
    "import pickle\n",
    "import pandas as pd\n",
    "import numpy as np\n",
    "import random\n",
    "import nltk\n",
    "import matplotlib.pyplot as plt\n",
    "from operator import itemgetter\n",
    "from textblob import TextBlob as tb\n",
    "from textblob.sentiments import NaiveBayesAnalyzer\n",
    "from sklearn import metrics\n",
    "from sklearn.feature_extraction import text\n",
    "from sklearn.cluster import MiniBatchKMeans\n",
    "% matplotlib inline"
   ]
  },
  {
   "cell_type": "code",
   "execution_count": 2,
   "metadata": {
    "collapsed": false
   },
   "outputs": [],
   "source": [
    "client = MongoClient()\n",
    "wine_info = client.wines.wine_info"
   ]
  },
  {
   "cell_type": "code",
   "execution_count": 19,
   "metadata": {
    "collapsed": true
   },
   "outputs": [],
   "source": [
    "def create_main_collection(filename):\n",
    "    \n",
    "    \"\"\"\n",
    "    Load data in from textfile into a mongo database; each record is a review.  If running make sure to drop the wine_info collection before the data is reloaded.\n",
    "    \"\"\"\n",
    "    wine_info = client.wines.wine_info    \n",
    "    \n",
    "    with open(filename, 'r') as f:\n",
    "        single_wine = {}\n",
    "        i = 0\n",
    "        for line in f:\n",
    "            if i == 9:\n",
    "                wine_info.save(single_wine)\n",
    "                single_wine = {}\n",
    "                i = 0\n",
    "            else:\n",
    "                row = line.split(':')\n",
    "                try:\n",
    "                    if row[0] == 'review/text':\n",
    "                        row[1] = row[1].decode('latin-1').strip()\n",
    "                        single_wine[row[0]] = row[1]\n",
    "                    else:\n",
    "                        single_wine[row[0]] = row[1].strip()\n",
    "                except:\n",
    "                    print row[1]\n",
    "                    break\n",
    "                i += 1"
   ]
  },
  {
   "cell_type": "markdown",
   "metadata": {},
   "source": [
    "#### Originally I wanted to look into food and wine pairings.  At first, it seemed the best thing to do was to just search for reviews containing the food in the review.  However, it became clear there was not much data science used in this process; even so, I learned a lot in trying to rank how well a wine paired with a particular food"
   ]
  },
  {
   "cell_type": "code",
   "execution_count": 3,
   "metadata": {
    "collapsed": false
   },
   "outputs": [],
   "source": [
    "steak_cursor = wine_info.find({ \"$text\" : { \"$search\": 'steak strip porterhouse ribeye mignon -tuna -salmon'}}, {'_id': 0})"
   ]
  },
  {
   "cell_type": "code",
   "execution_count": 4,
   "metadata": {
    "collapsed": false
   },
   "outputs": [
    {
     "data": {
      "text/plain": [
       "21356"
      ]
     },
     "execution_count": 4,
     "metadata": {},
     "output_type": "execute_result"
    }
   ],
   "source": [
    "steak_cursor.count()"
   ]
  },
  {
   "cell_type": "code",
   "execution_count": 5,
   "metadata": {
    "collapsed": true
   },
   "outputs": [],
   "source": [
    "locate_words = ['pair', 'match']\n",
    "steak_wines = []\n",
    "\n",
    "for wine in steak_cursor:\n",
    "    if any(word in wine['review/text'] for word in locate_words):\n",
    "        steak_wines.append(wine)"
   ]
  },
  {
   "cell_type": "code",
   "execution_count": 6,
   "metadata": {
    "collapsed": false
   },
   "outputs": [
    {
     "data": {
      "text/plain": [
       "3411"
      ]
     },
     "execution_count": 6,
     "metadata": {},
     "output_type": "execute_result"
    }
   ],
   "source": [
    "len(steak_wines)"
   ]
  },
  {
   "cell_type": "code",
   "execution_count": 7,
   "metadata": {
    "collapsed": true
   },
   "outputs": [],
   "source": [
    "steakdf = pd.DataFrame(steak_wines)"
   ]
  },
  {
   "cell_type": "code",
   "execution_count": 8,
   "metadata": {
    "collapsed": false,
    "scrolled": true
   },
   "outputs": [
    {
     "data": {
      "text/html": [
       "<div>\n",
       "<table border=\"1\" class=\"dataframe\">\n",
       "  <thead>\n",
       "    <tr style=\"text-align: right;\">\n",
       "      <th></th>\n",
       "      <th>review/points</th>\n",
       "      <th>review/text</th>\n",
       "      <th>review/time</th>\n",
       "      <th>review/userId</th>\n",
       "      <th>review/userName</th>\n",
       "      <th>wine/name</th>\n",
       "      <th>wine/variant</th>\n",
       "      <th>wine/wineId</th>\n",
       "      <th>wine/year</th>\n",
       "    </tr>\n",
       "  </thead>\n",
       "  <tbody>\n",
       "    <tr>\n",
       "      <th>0</th>\n",
       "      <td>89</td>\n",
       "      <td>Initially PnP, then consumed half the 750ml bo...</td>\n",
       "      <td>1334102400</td>\n",
       "      <td>181298</td>\n",
       "      <td>drrobvino</td>\n",
       "      <td>2008 L'Aventure C&amp;#244;te-&amp;#224;-C&amp;#244;te Estate</td>\n",
       "      <td>Red Rhone Blend</td>\n",
       "      <td>809034</td>\n",
       "      <td>2008</td>\n",
       "    </tr>\n",
       "    <tr>\n",
       "      <th>1</th>\n",
       "      <td>94</td>\n",
       "      <td>Did not know what to expect of a 27+ year bott...</td>\n",
       "      <td>1270339200</td>\n",
       "      <td>108108</td>\n",
       "      <td>Anonymous</td>\n",
       "      <td>1982 E. Guigal C&amp;#244;te-R&amp;#244;tie La Landonne</td>\n",
       "      <td>Syrah</td>\n",
       "      <td>65396</td>\n",
       "      <td>1982</td>\n",
       "    </tr>\n",
       "    <tr>\n",
       "      <th>2</th>\n",
       "      <td>90</td>\n",
       "      <td>This was a jeroboam I purchased last December....</td>\n",
       "      <td>1344816000</td>\n",
       "      <td>199258</td>\n",
       "      <td>M. Anthony Lee</td>\n",
       "      <td>1998 Sterling Vineyards Merlot</td>\n",
       "      <td>Merlot</td>\n",
       "      <td>45266</td>\n",
       "      <td>1998</td>\n",
       "    </tr>\n",
       "    <tr>\n",
       "      <th>3</th>\n",
       "      <td>94</td>\n",
       "      <td>Excellent wine! I was a bit concerned about ca...</td>\n",
       "      <td>1298764800</td>\n",
       "      <td>9181</td>\n",
       "      <td>Vinophiler</td>\n",
       "      <td>1996 Whitehall Lane Cabernet Sauvignon Reserve</td>\n",
       "      <td>Cabernet Sauvignon</td>\n",
       "      <td>2064</td>\n",
       "      <td>1996</td>\n",
       "    </tr>\n",
       "    <tr>\n",
       "      <th>4</th>\n",
       "      <td>95</td>\n",
       "      <td>This wine was brought to dinner by Mark and Li...</td>\n",
       "      <td>1183334400</td>\n",
       "      <td>2758</td>\n",
       "      <td>Vino Me</td>\n",
       "      <td>1987 Spring Mountain Vineyard Cabernet Sauvignon</td>\n",
       "      <td>Cabernet Sauvignon</td>\n",
       "      <td>2122</td>\n",
       "      <td>1987</td>\n",
       "    </tr>\n",
       "  </tbody>\n",
       "</table>\n",
       "</div>"
      ],
      "text/plain": [
       "  review/points                                        review/text  \\\n",
       "0            89  Initially PnP, then consumed half the 750ml bo...   \n",
       "1            94  Did not know what to expect of a 27+ year bott...   \n",
       "2            90  This was a jeroboam I purchased last December....   \n",
       "3            94  Excellent wine! I was a bit concerned about ca...   \n",
       "4            95  This wine was brought to dinner by Mark and Li...   \n",
       "\n",
       "  review/time review/userId review/userName  \\\n",
       "0  1334102400        181298       drrobvino   \n",
       "1  1270339200        108108       Anonymous   \n",
       "2  1344816000        199258  M. Anthony Lee   \n",
       "3  1298764800          9181      Vinophiler   \n",
       "4  1183334400          2758         Vino Me   \n",
       "\n",
       "                                           wine/name        wine/variant  \\\n",
       "0  2008 L'Aventure C&#244;te-&#224;-C&#244;te Estate     Red Rhone Blend   \n",
       "1    1982 E. Guigal C&#244;te-R&#244;tie La Landonne               Syrah   \n",
       "2                     1998 Sterling Vineyards Merlot              Merlot   \n",
       "3     1996 Whitehall Lane Cabernet Sauvignon Reserve  Cabernet Sauvignon   \n",
       "4   1987 Spring Mountain Vineyard Cabernet Sauvignon  Cabernet Sauvignon   \n",
       "\n",
       "  wine/wineId wine/year  \n",
       "0      809034      2008  \n",
       "1       65396      1982  \n",
       "2       45266      1998  \n",
       "3        2064      1996  \n",
       "4        2122      1987  "
      ]
     },
     "execution_count": 8,
     "metadata": {},
     "output_type": "execute_result"
    }
   ],
   "source": [
    "steakdf.head()"
   ]
  },
  {
   "cell_type": "markdown",
   "metadata": {},
   "source": [
    "#### Here I am looking at one particular wine and its reviews.  I'm then investigating the text for the food pairing."
   ]
  },
  {
   "cell_type": "code",
   "execution_count": 9,
   "metadata": {
    "collapsed": true
   },
   "outputs": [],
   "source": [
    "name_cursor = wine_info.find({'wine/name': '2003 Joseph Phelps Insignia'}, {'_id': 0})"
   ]
  },
  {
   "cell_type": "code",
   "execution_count": 10,
   "metadata": {
    "collapsed": false
   },
   "outputs": [
    {
     "data": {
      "text/plain": [
       "102"
      ]
     },
     "execution_count": 10,
     "metadata": {},
     "output_type": "execute_result"
    }
   ],
   "source": [
    "name_cursor.count()"
   ]
  },
  {
   "cell_type": "code",
   "execution_count": 11,
   "metadata": {
    "collapsed": false
   },
   "outputs": [
    {
     "name": "stdout",
     "output_type": "stream",
     "text": [
      "took to ruth chris after decanting. cherry, alcohol laden fruit bomb with decent tannin and strong long lasting after taste. while decent paired with a steak, the fruit is a bit too strong for my taste and reminds me almost of a new world or zinfandel. the fruit are very good but lacks complexity. seems best between 1.5 hr to 2.5 hr after decanting\n",
      "Brought my own bottle to a Brazilian steak house where copious amounts of red meat grace your plate every few minutes. My initial impressions were thin, short, and unsatisfactory. After a 1/2 hour in the bottle it seemed to open up a bit with sweet red fruit and mild oak. By the last few glasses this had evolved to an enjoyable Insignia albeit no comparison to the 02'. I've had much better for less, Verite La Joie comes to mind. Overall this wine stood up to the meat and made the meal an all around success. Seemed to match best with the spit roasted garlic top sirloin although my food obsessions are a compeletly different issue.\n",
      "Opened along with a Chateau Malescot St. Exupery. I served the two bottles side by side for my guest. Dinner was an excellent and peppery grilled steak. The guests loved both wines, but there was a slight preference for the Insignia. Wish I had the money to drink these wines on a regular basis. Great evening, with great friends and great wines.\n"
     ]
    }
   ],
   "source": [
    "for wine in name_cursor:\n",
    "    if any(word in wine['review/text'] for word in ['steak', 'strip', 'porterhouse', 'ribeye', 'mignon']):\n",
    "        print wine['review/text']"
   ]
  },
  {
   "cell_type": "markdown",
   "metadata": {},
   "source": [
    "#### Above is my attempt at only bringing in wines that have a food name in the review.  I am successful, however, I cannot pull ALL the wine reviews for each wine that gets returned.  It is only returning the one review that has the food term in it.  Maybe come back to this, but for now work with all wines in memory."
   ]
  },
  {
   "cell_type": "code",
   "execution_count": 3,
   "metadata": {
    "collapsed": false
   },
   "outputs": [
    {
     "data": {
      "text/plain": [
       "2025995"
      ]
     },
     "execution_count": 3,
     "metadata": {},
     "output_type": "execute_result"
    }
   ],
   "source": [
    "# Pull in all wines for analysis\n",
    "all_cursor = wine_info.find({},{\"_id\": 0})\n",
    "all_cursor.count()"
   ]
  },
  {
   "cell_type": "code",
   "execution_count": 4,
   "metadata": {
    "collapsed": true
   },
   "outputs": [],
   "source": [
    "# Turn cursor object into a list so I can turn it into a pandas dataframe\n",
    "all_wines = list(all_cursor)"
   ]
  },
  {
   "cell_type": "code",
   "execution_count": 5,
   "metadata": {
    "collapsed": false
   },
   "outputs": [],
   "source": [
    "# Create dataframe of all wines\n",
    "allwine_df = pd.DataFrame(all_wines)"
   ]
  },
  {
   "cell_type": "code",
   "execution_count": 6,
   "metadata": {
    "collapsed": false
   },
   "outputs": [],
   "source": [
    "# Seems to be ordered by review/userName? Let's randomly shuffle to mix it up\n",
    "allwine_df = allwine_df.iloc[np.random.permutation(len(allwine_df))]"
   ]
  },
  {
   "cell_type": "code",
   "execution_count": 7,
   "metadata": {
    "collapsed": false
   },
   "outputs": [
    {
     "data": {
      "text/plain": [
       "479750"
      ]
     },
     "execution_count": 7,
     "metadata": {},
     "output_type": "execute_result"
    }
   ],
   "source": [
    "# Total count of individual wines that have reviews\n",
    "len(allwine_df['wine/name'].value_counts())"
   ]
  },
  {
   "cell_type": "code",
   "execution_count": 17,
   "metadata": {
    "collapsed": true
   },
   "outputs": [],
   "source": [
    "# Change N/A's to nan to convert column to float\n",
    "allwine_df.replace('N/A', np.nan, inplace=True)\n",
    "allwine_df['review/points'] = allwine_df['review/points'].astype(float)"
   ]
  },
  {
   "cell_type": "code",
   "execution_count": 8,
   "metadata": {
    "collapsed": false
   },
   "outputs": [
    {
     "data": {
      "text/html": [
       "<div>\n",
       "<table border=\"1\" class=\"dataframe\">\n",
       "  <thead>\n",
       "    <tr style=\"text-align: right;\">\n",
       "      <th></th>\n",
       "      <th>review/points</th>\n",
       "      <th>review/text</th>\n",
       "      <th>review/time</th>\n",
       "      <th>review/userId</th>\n",
       "      <th>review/userName</th>\n",
       "      <th>wine/name</th>\n",
       "      <th>wine/variant</th>\n",
       "      <th>wine/wineId</th>\n",
       "      <th>wine/year</th>\n",
       "    </tr>\n",
       "  </thead>\n",
       "  <tbody>\n",
       "    <tr>\n",
       "      <th>1647093</th>\n",
       "      <td>95</td>\n",
       "      <td>Wow. This is fantastic pinot. Perfectly integr...</td>\n",
       "      <td>1342137600</td>\n",
       "      <td>209798</td>\n",
       "      <td>JenTomHank</td>\n",
       "      <td>2003 Dehlinger Pinot Noir Goldridge</td>\n",
       "      <td>Pinot Noir</td>\n",
       "      <td>97300</td>\n",
       "      <td>2003</td>\n",
       "    </tr>\n",
       "    <tr>\n",
       "      <th>1093567</th>\n",
       "      <td>98</td>\n",
       "      <td>This beautiful sophisticated Pomerol left me a...</td>\n",
       "      <td>1299283200</td>\n",
       "      <td>166661</td>\n",
       "      <td>rogerheaton</td>\n",
       "      <td>2000 Ch&amp;#226;teau La Providence</td>\n",
       "      <td>Red Bordeaux Blend</td>\n",
       "      <td>278601</td>\n",
       "      <td>2000</td>\n",
       "    </tr>\n",
       "    <tr>\n",
       "      <th>1595590</th>\n",
       "      <td>88</td>\n",
       "      <td>Distinctively Ramey, enjoyable.</td>\n",
       "      <td>1330905600</td>\n",
       "      <td>72805</td>\n",
       "      <td>rremiker</td>\n",
       "      <td>2007 Ramey Cabernet Sauvignon Napa Valley</td>\n",
       "      <td>Cabernet Sauvignon</td>\n",
       "      <td>947109</td>\n",
       "      <td>2007</td>\n",
       "    </tr>\n",
       "    <tr>\n",
       "      <th>545374</th>\n",
       "      <td>94</td>\n",
       "      <td>Savory and dripping with fruit. Terrific wine.</td>\n",
       "      <td>1170547200</td>\n",
       "      <td>12187</td>\n",
       "      <td>silton</td>\n",
       "      <td>2004 Sea Smoke Pinot Noir Southing</td>\n",
       "      <td>Pinot Noir</td>\n",
       "      <td>195510</td>\n",
       "      <td>2004</td>\n",
       "    </tr>\n",
       "    <tr>\n",
       "      <th>1564560</th>\n",
       "      <td>N/A</td>\n",
       "      <td>corked and foul - cork broke during extraction</td>\n",
       "      <td>1231632000</td>\n",
       "      <td>69796</td>\n",
       "      <td>IMeredith</td>\n",
       "      <td>2003 Chalk Hill Wines Cabernet Sauvignon</td>\n",
       "      <td>Cabernet Sauvignon</td>\n",
       "      <td>625969</td>\n",
       "      <td>2003</td>\n",
       "    </tr>\n",
       "  </tbody>\n",
       "</table>\n",
       "</div>"
      ],
      "text/plain": [
       "        review/points                                        review/text  \\\n",
       "1647093            95  Wow. This is fantastic pinot. Perfectly integr...   \n",
       "1093567            98  This beautiful sophisticated Pomerol left me a...   \n",
       "1595590            88                    Distinctively Ramey, enjoyable.   \n",
       "545374             94     Savory and dripping with fruit. Terrific wine.   \n",
       "1564560           N/A     corked and foul - cork broke during extraction   \n",
       "\n",
       "        review/time review/userId review/userName  \\\n",
       "1647093  1342137600        209798      JenTomHank   \n",
       "1093567  1299283200        166661     rogerheaton   \n",
       "1595590  1330905600         72805        rremiker   \n",
       "545374   1170547200         12187          silton   \n",
       "1564560  1231632000         69796       IMeredith   \n",
       "\n",
       "                                         wine/name        wine/variant  \\\n",
       "1647093        2003 Dehlinger Pinot Noir Goldridge          Pinot Noir   \n",
       "1093567            2000 Ch&#226;teau La Providence  Red Bordeaux Blend   \n",
       "1595590  2007 Ramey Cabernet Sauvignon Napa Valley  Cabernet Sauvignon   \n",
       "545374          2004 Sea Smoke Pinot Noir Southing          Pinot Noir   \n",
       "1564560   2003 Chalk Hill Wines Cabernet Sauvignon  Cabernet Sauvignon   \n",
       "\n",
       "        wine/wineId wine/year  \n",
       "1647093       97300      2003  \n",
       "1093567      278601      2000  \n",
       "1595590      947109      2007  \n",
       "545374       195510      2004  \n",
       "1564560      625969      2003  "
      ]
     },
     "execution_count": 8,
     "metadata": {},
     "output_type": "execute_result"
    }
   ],
   "source": [
    "allwine_df.head()"
   ]
  },
  {
   "cell_type": "code",
   "execution_count": 9,
   "metadata": {
    "collapsed": true
   },
   "outputs": [],
   "source": [
    "# Take a random sample of 250000 reviews to analyze\n",
    "sample_df = allwine_df.iloc[np.random.permutation(250000)]"
   ]
  },
  {
   "cell_type": "code",
   "execution_count": 10,
   "metadata": {
    "collapsed": true
   },
   "outputs": [],
   "source": [
    "# Initiate food list from scraping\n",
    "food_list = ['asparagus', 'baked', 'barbecue', 'beef', 'broccoli', 'sprouts', 'brisket', \\\n",
    "             'burrito', 'casserole', 'cheese', 'chicken', 'chili', 'greens', 'crab', \\\n",
    "             'dessert', 'fillet', 'fish', 'gyro', 'halibut', 'burger', 'hot dog', 'ice cream', 'kale', \\\n",
    "             'beans', 'lamb', 'lasagna', 'legumes', 'lentils', 'lobster', 'macaroni', \\\n",
    "             'potato', 'mozzarella', 'pizza', 'mussels', 'noodles', 'oyster', 'pasta', 'squash', \\\n",
    "             'poached', 'pork', 'prime rib', 'pretzel', 'quinoa', 'ravioli', 'roast', \\\n",
    "             'salami', 'salmon', 'sausage', 'scallops', 'shrimp', 'soup', 'spaghetti', 'spareribs', 'spinach', \\\n",
    "             'peas', 'squid', 'steak', 'stir-fry', 'sushi', 'tapioca', 'teriyaki', 'turkey', 'turnip', \\\n",
    "             'veal', 'venison', 'yam', 'zucchini', 'fried']\n",
    "\n",
    "red_meat = ['steak', 'mignon', 'strip', 'rib', 'rib-eye', 'spareribs']"
   ]
  },
  {
   "cell_type": "markdown",
   "metadata": {},
   "source": [
    "#### The loop below basically is a starting point for filtering.  It goes through each row in the dataframe and checks if the word \"pair\" or \"match\" is in the text and also if any food from a pre-compiled food list is present.  \n",
    "\n",
    "####From there, I then check to see if the word \"well\" is in the text potentially indicating a good pairing (will have to add negative words to avoid \"didn't pair well\" etc.).  If the review itself scored equal to or higher than 85, randomly assign a score between 0.8 to 1.0, otherwise 0.25 to 0.50.  \n",
    "\n",
    "#### If the word \"well\" did not appear, if the review was 85 or higher, I give a random score between 0.5 to 0.8, otherwise 0.05 to 0.25.  If none of these words are in the text I just append a 0."
   ]
  },
  {
   "cell_type": "code",
   "execution_count": 11,
   "metadata": {
    "collapsed": false
   },
   "outputs": [],
   "source": [
    "manual_scoring = []\n",
    "\n",
    "for index, row in sample_df.iterrows():\n",
    "    if ('pair' in row['review/text'] or 'match' in row['review/text']) and any(food in row['review/text'] for food in food_list):\n",
    "        if 'well' in row['review/text']:\n",
    "            if row['review/points'] >= '85':\n",
    "                manual_scoring.append((index, random.uniform(0.8, 1.0)))\n",
    "            else:\n",
    "                manual_scoring.append((index, random.uniform(0.25, 0.5)))\n",
    "        else:\n",
    "            if row['review/points'] >= '85':\n",
    "                manual_scoring.append((index, random.uniform(0.5, 0.8)))\n",
    "            else:\n",
    "                manual_scoring.append((index, random.uniform(0.05, 0.25)))\n",
    "    else:\n",
    "        manual_scoring.append((index, 0))"
   ]
  },
  {
   "cell_type": "markdown",
   "metadata": {},
   "source": [
    "#### I make sure the scores are floats and create a list of them, followed by creating a column in the dataframe"
   ]
  },
  {
   "cell_type": "code",
   "execution_count": 12,
   "metadata": {
    "collapsed": false
   },
   "outputs": [
    {
     "name": "stdout",
     "output_type": "stream",
     "text": [
      "Number of wines assigned a score: 2840\n"
     ]
    },
    {
     "name": "stderr",
     "output_type": "stream",
     "text": [
      "/Users/josephdziados/anaconda/lib/python2.7/site-packages/IPython/kernel/__main__.py:2: SettingWithCopyWarning: \n",
      "A value is trying to be set on a copy of a slice from a DataFrame.\n",
      "Try using .loc[row_indexer,col_indexer] = value instead\n",
      "\n",
      "See the the caveats in the documentation: http://pandas.pydata.org/pandas-docs/stable/indexing.html#indexing-view-versus-copy\n",
      "  from IPython.kernel.zmq import kernelapp as app\n"
     ]
    }
   ],
   "source": [
    "scores = [float(score) for (index, score) in manual_scoring]\n",
    "sample_df['score'] = scores\n",
    "print 'Number of wines assigned a score: {0}'.format(len(sample_df[sample_df['score'] > 0][['review/text', 'score']]))"
   ]
  },
  {
   "cell_type": "code",
   "execution_count": 18,
   "metadata": {
    "collapsed": false
   },
   "outputs": [
    {
     "name": "stdout",
     "output_type": "stream",
     "text": [
      "512613 0.649198116744\n",
      "530817 0.956458793836\n",
      "218694 0.613008330297\n",
      "1272277 0.521278653407\n",
      "1529188 0.705546676528\n",
      "99224 0.605483026736\n"
     ]
    }
   ],
   "source": [
    "# A little exploration on the scoring method\n",
    "i = 0\n",
    "for (index, score) in manual_scoring:\n",
    "    if score > 0:\n",
    "        print index, score\n",
    "        i += 1\n",
    "        if i == 6:\n",
    "            break"
   ]
  },
  {
   "cell_type": "markdown",
   "metadata": {},
   "source": [
    "#### The loop below looks through every review and appends a 1 if a word associated with steak appears in the review, otherwise appends a 0"
   ]
  },
  {
   "cell_type": "code",
   "execution_count": 16,
   "metadata": {
    "collapsed": true
   },
   "outputs": [],
   "source": [
    "steak_reviews = []\n",
    "\n",
    "for review in sample_df['review/text'].values:\n",
    "    if any(food in review for food in red_meat):\n",
    "        steak_reviews.append(1)\n",
    "    else:\n",
    "        steak_reviews.append(0)"
   ]
  },
  {
   "cell_type": "code",
   "execution_count": 50,
   "metadata": {
    "collapsed": true
   },
   "outputs": [],
   "source": [
    "#foods = urllib2.urlopen('http://www.enchantedlearning.com/wordlist/food.shtml')\n",
    "#page = BeautifulSoup(foods)\n",
    "\n",
    "#food_list = []\n",
    "#for font in page.find_all('font', {'size': '+0'}):\n",
    "#    if len(font.text) > 1:\n",
    "#        #food_list.append(font.text)\n",
    "#        foods = font.text.split('\\n')\n",
    "#        for food in foods:\n",
    "#            if food:\n",
    "#                food_list.append(food.strip())\n",
    "\n",
    "#food_list = food_list[1:]"
   ]
  },
  {
   "cell_type": "markdown",
   "metadata": {
    "collapsed": true
   },
   "source": [
    "### This is where I moved on to another angle.  I decided to analyze the descriptions of flavors in various wines and try to recommend wines that best showcase those flavors as well as whether or not they pair well with food."
   ]
  },
  {
   "cell_type": "code",
   "execution_count": null,
   "metadata": {
    "collapsed": true
   },
   "outputs": [],
   "source": []
  }
 ],
 "metadata": {
  "kernelspec": {
   "display_name": "Python 2",
   "language": "python",
   "name": "python2"
  },
  "language_info": {
   "codemirror_mode": {
    "name": "ipython",
    "version": 2
   },
   "file_extension": ".py",
   "mimetype": "text/x-python",
   "name": "python",
   "nbconvert_exporter": "python",
   "pygments_lexer": "ipython2",
   "version": "2.7.10"
  }
 },
 "nbformat": 4,
 "nbformat_minor": 0
}
