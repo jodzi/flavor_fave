{
 "cells": [
  {
   "cell_type": "code",
   "execution_count": 1,
   "metadata": {
    "collapsed": true
   },
   "outputs": [],
   "source": [
    "from pymongo import MongoClient\n",
    "import logging\n",
    "from gensim.corpora import BleiCorpus\n",
    "from gensim.models import LdaModel\n",
    "from gensim import corpora\n",
    "import os\n",
    "import time\n",
    "import multiprocessing\n",
    "import sys\n",
    "import string\n",
    "import pickle\n",
    "import pandas as pd\n",
    "import numpy as np\n",
    "import random\n",
    "#import nltk\n",
    "import matplotlib.pyplot as plt\n",
    "from nltk.stem.wordnet import WordNetLemmatizer\n",
    "from operator import itemgetter\n",
    "from collections import Counter\n",
    "from sklearn import metrics\n",
    "from sklearn.feature_extraction import text\n",
    "from sklearn.cluster import MiniBatchKMeans\n",
    "from sklearn.neighbors import LSHForest\n",
    "from sklearn.decomposition import TruncatedSVD\n",
    "from sklearn.svm import LinearSVC\n",
    "from sklearn.cross_validation import train_test_split\n",
    "% matplotlib inline"
   ]
  },
  {
   "cell_type": "code",
   "execution_count": 15,
   "metadata": {
    "collapsed": true
   },
   "outputs": [],
   "source": [
    "# connect to mongo client\n",
    "client = MongoClient()\n",
    "# connects to full collection of 2 million reviews\n",
    "#wine_info = client.wines.wine_info\n",
    "# connects to collection of compacted wine names but still separated by year\n",
    "#c_wines = client.wines.consolidated_wines\n",
    "# connect to collection of wine names with years stripped\n",
    "#no_year_wines = client.wines.stripped_year_wines\n",
    "red_corpus_collection = client.wines.red_corpus_collection"
   ]
  },
  {
   "cell_type": "code",
   "execution_count": 74,
   "metadata": {
    "collapsed": true
   },
   "outputs": [],
   "source": [
    "def consolidate_wines(dataframe):\n",
    "    \n",
    "    \"\"\"\n",
    "    Takes in a dataframe and groups by the wine name; creates lists containing the wine name, all of its reviews \n",
    "    concatenated into one string, the varietal, the year, and the average review points\n",
    "    \"\"\"\n",
    "    \n",
    "    review_text = []\n",
    "    avg_review_points = []\n",
    "    wine_name = []\n",
    "    wine_varietal = []\n",
    "    wine_year = []\n",
    "\n",
    "\n",
    "    for wine, iterables in dataframe.groupby('wine/name'):\n",
    "\n",
    "        # append wine name\n",
    "        wine_name.append(wine)\n",
    "\n",
    "        # combine all wine reviews in one string and append\n",
    "        review_text.append(' '.join(iterables['review/text'].values))\n",
    "\n",
    "        # append wine varietal\n",
    "        wine_varietal.append(iterables['wine/variant'].values[0])\n",
    "\n",
    "        # append wine year\n",
    "        wine_year.append(iterables['wine/year'].values[0])\n",
    "\n",
    "        # append average review score\n",
    "        avg_review_points.append(np.nanmean(iterables['review/points'].values))   \n",
    "        \n",
    "    keys = ['wine/name', 'wine/variant', 'review/text', 'review/points', 'wine/year']\n",
    "    individual_wines = zip(wine_name, wine_varietal, review_text, avg_review_points, wine_year)\n",
    "        \n",
    "    return [dict(zip(keys, wine)) for wine in individual_wines]"
   ]
  },
  {
   "cell_type": "code",
   "execution_count": 3,
   "metadata": {
    "collapsed": true
   },
   "outputs": [],
   "source": [
    "def vectorize_text(x):\n",
    "    additional_stop_words = ['wine', 'nose', 'br', 'years', 'time', 'hour', 'bottle']\n",
    "    additional_stop_words.extend(range(2010))\n",
    "    additional_stop_words.extend(string.punctuation)\n",
    "    stop_words = text.ENGLISH_STOP_WORDS.union(additional_stop_words)\n",
    "\n",
    "    vectorizer = text.TfidfVectorizer(min_df=1, stop_words=stop_words, ngram_range=(1,2))\n",
    "    tfidf_reviews = vectorizer.fit_transform(x)\n",
    "    print 'Shape of resulting tf-idf vectors: {0}'.format(tfidf_reviews.shape)\n",
    "    \n",
    "    return tfidf_reviews, vectorizer"
   ]
  },
  {
   "cell_type": "markdown",
   "metadata": {},
   "source": [
    "### Begin with all reviews"
   ]
  },
  {
   "cell_type": "code",
   "execution_count": 33,
   "metadata": {
    "collapsed": false
   },
   "outputs": [],
   "source": [
    "# pull all reviews in without id\n",
    "all_reviews = wine_info.find({}, {'_id': 0})\n",
    "print 'Total number of reviews: {0}'.format(all_reviews.count())"
   ]
  },
  {
   "cell_type": "code",
   "execution_count": null,
   "metadata": {
    "collapsed": true
   },
   "outputs": [],
   "source": [
    "all_reviews.alive"
   ]
  },
  {
   "cell_type": "code",
   "execution_count": 6,
   "metadata": {
    "collapsed": false
   },
   "outputs": [],
   "source": [
    "# create dataframe and replace 'N/A's in the review points column with NaN's in order to take averages on this column\n",
    "all_df = pd.DataFrame(list(all_reviews))\n",
    "all_df.replace({'review/points': {'N/A': np.nan}}, inplace=True)\n",
    "all_df['review/points'] = all_df['review/points'].astype(float)"
   ]
  },
  {
   "cell_type": "markdown",
   "metadata": {
    "collapsed": false
   },
   "source": [
    "#### Consolidate multiple reviews per wine into one wine with one review string, and add into mongodb"
   ]
  },
  {
   "cell_type": "code",
   "execution_count": 66,
   "metadata": {
    "collapsed": true
   },
   "outputs": [],
   "source": [
    "# call function to get a list of wine dictionaries to send into mongo\n",
    "#cons_wines = consolidate_wines(all_df)"
   ]
  },
  {
   "cell_type": "code",
   "execution_count": null,
   "metadata": {
    "collapsed": true
   },
   "outputs": [],
   "source": [
    "# create mongo collection to put wines\n",
    "#consolidated_wines = client.wines.consolidated_wines\n",
    "# loop through list and add wine to collection\n",
    "#for wine in cons_wines:\n",
    "#    consolidated_wines.save(wine)"
   ]
  },
  {
   "cell_type": "markdown",
   "metadata": {},
   "source": [
    "### Work with consolidated wine names to strip off year and consolidate on pure name"
   ]
  },
  {
   "cell_type": "code",
   "execution_count": 66,
   "metadata": {
    "collapsed": false
   },
   "outputs": [
    {
     "name": "stdout",
     "output_type": "stream",
     "text": [
      "Count of consolidated wines 479750\n"
     ]
    }
   ],
   "source": [
    "review_cursor = c_wines.find({}, {'_id': 0})\n",
    "print 'Count of consolidated wines {0}'.format(review_cursor.count())"
   ]
  },
  {
   "cell_type": "code",
   "execution_count": null,
   "metadata": {
    "collapsed": true
   },
   "outputs": [],
   "source": [
    "review_cursor.alive"
   ]
  },
  {
   "cell_type": "code",
   "execution_count": null,
   "metadata": {
    "collapsed": true
   },
   "outputs": [],
   "source": [
    "# create dataframe of consolidated wines\n",
    "cwine_df = pd.DataFrame(list(review_cursor))"
   ]
  },
  {
   "cell_type": "markdown",
   "metadata": {},
   "source": [
    "#### Strip the dates from the wine and consolidate to just the wine brand name"
   ]
  },
  {
   "cell_type": "code",
   "execution_count": null,
   "metadata": {
    "collapsed": true
   },
   "outputs": [],
   "source": [
    "stripped_names = []\n",
    "\n",
    "for wine_name in cwine_df['wine/name'].values:\n",
    "    if wine_name[0] in ['1','2']:\n",
    "        stripped_names.append(wine_name[4:].strip())\n",
    "    else:\n",
    "        stripped_names.append(wine_name)\n",
    "\n",
    "cwine_df['wine/name'] = stripped_names"
   ]
  },
  {
   "cell_type": "code",
   "execution_count": 75,
   "metadata": {
    "collapsed": true
   },
   "outputs": [],
   "source": [
    "names_no_years = consolidate_wines(cwine_df)"
   ]
  },
  {
   "cell_type": "code",
   "execution_count": 76,
   "metadata": {
    "collapsed": false
   },
   "outputs": [
    {
     "data": {
      "text/plain": [
       "199278"
      ]
     },
     "execution_count": 76,
     "metadata": {},
     "output_type": "execute_result"
    }
   ],
   "source": [
    "len(names_no_years)"
   ]
  },
  {
   "cell_type": "code",
   "execution_count": 77,
   "metadata": {
    "collapsed": true
   },
   "outputs": [],
   "source": [
    "# create mongo collection to put wines\n",
    "#stripped_year_wines = client.wines.stripped_year_wines\n",
    "# loop through list and add wine to collection\n",
    "#for wine in names_no_years:\n",
    "#    stripped_year_wines.save(wine)"
   ]
  },
  {
   "cell_type": "markdown",
   "metadata": {},
   "source": [
    "### Use truncated SVD to find principal components / PCA"
   ]
  },
  {
   "cell_type": "markdown",
   "metadata": {},
   "source": [
    "#### Pull in first level of consolidated wines; consolidated reviews per individual wine"
   ]
  },
  {
   "cell_type": "code",
   "execution_count": 34,
   "metadata": {
    "collapsed": false
   },
   "outputs": [
    {
     "name": "stdout",
     "output_type": "stream",
     "text": [
      "Count of consolidated reviews: 479750\n"
     ]
    }
   ],
   "source": [
    "reviews = c_wines.find({}, {'_id': 0, 'review/text': 1})\n",
    "print 'Count of consolidated reviews: {0}'.format(reviews.count())"
   ]
  },
  {
   "cell_type": "code",
   "execution_count": 35,
   "metadata": {
    "collapsed": false
   },
   "outputs": [
    {
     "name": "stdout",
     "output_type": "stream",
     "text": [
      "Count of wine reviews: 479750\n"
     ]
    }
   ],
   "source": [
    "# create a list of all reviews to vectorize using tf-idf\n",
    "reviews = [wine['review/text'] for wine in reviews]\n",
    "print 'Count of wine reviews: {0}'.format(len(reviews))"
   ]
  },
  {
   "cell_type": "code",
   "execution_count": 60,
   "metadata": {
    "collapsed": false
   },
   "outputs": [],
   "source": [
    "#tfidf_reviews, vectorizer = vectorize_text(reviews)"
   ]
  },
  {
   "cell_type": "markdown",
   "metadata": {},
   "source": [
    "#### Pull in second level of consolidated wines; strip year off wine name to consolidate single wines with different years"
   ]
  },
  {
   "cell_type": "code",
   "execution_count": 12,
   "metadata": {
    "collapsed": false
   },
   "outputs": [
    {
     "name": "stdout",
     "output_type": "stream",
     "text": [
      "Count of consolidated reviews: 199278\n"
     ]
    }
   ],
   "source": [
    "new_cursor = no_year_wines.find({}, {'_id': 0})#, 'review/text': 1})\n",
    "print 'Count of consolidated reviews: {0}'.format(new_cursor.count())"
   ]
  },
  {
   "cell_type": "code",
   "execution_count": 5,
   "metadata": {
    "collapsed": false
   },
   "outputs": [
    {
     "name": "stdout",
     "output_type": "stream",
     "text": [
      "Count of wine reviews: 199278\n"
     ]
    }
   ],
   "source": [
    "# create a list of reviews from most consolidated wine collection\n",
    "new_reviews = [wine['review/text'] for wine in new_cursor]\n",
    "print 'Count of wine reviews: {0}'.format(len(new_reviews))"
   ]
  },
  {
   "cell_type": "code",
   "execution_count": 6,
   "metadata": {
    "collapsed": false
   },
   "outputs": [
    {
     "name": "stdout",
     "output_type": "stream",
     "text": [
      "Shape of resulting tf-idf vectors: (199278, 7380131)\n"
     ]
    }
   ],
   "source": [
    "tfidf_reviews, vectorizer = vectorize_text(new_reviews)"
   ]
  },
  {
   "cell_type": "markdown",
   "metadata": {},
   "source": [
    "#### SVD with n components"
   ]
  },
  {
   "cell_type": "code",
   "execution_count": 58,
   "metadata": {
    "collapsed": false
   },
   "outputs": [
    {
     "name": "stdout",
     "output_type": "stream",
     "text": [
      "Shape of resulting principal components: (199278, 2)\n"
     ]
    }
   ],
   "source": [
    "svd = TruncatedSVD(n_components=2)\n",
    "X_reviews = svd.fit(tfidf_reviews).transform(tfidf_reviews)\n",
    "print 'Shape of resulting principal components: {0}'.format(X_reviews.shape)"
   ]
  },
  {
   "cell_type": "code",
   "execution_count": 378,
   "metadata": {
    "collapsed": true
   },
   "outputs": [],
   "source": [
    "def store_pickles(filename, to_store):\n",
    "    with open(filename, 'w') as f:\n",
    "        pickle.dump(to_store, f)\n",
    "        \n",
    "def eat_pickles(filename):\n",
    "    with open(filename, 'r') as f:\n",
    "        return pickle.load(f)"
   ]
  },
  {
   "cell_type": "code",
   "execution_count": 446,
   "metadata": {
    "collapsed": false
   },
   "outputs": [],
   "source": [
    "#store_pickles('svd_model50.pkl', svd)\n",
    "#store_pickles('svd_reviews50.pkl', X_reviews)\n",
    "#store_pickles('tfidf_reviews.pkl', tfidf_reviews)\n",
    "#store_pickles('vectorizer.pkl', vectorizer)"
   ]
  },
  {
   "cell_type": "markdown",
   "metadata": {},
   "source": [
    "#### Find the 100 largest word(s) in the array to evaluate as principal components"
   ]
  },
  {
   "cell_type": "code",
   "execution_count": 564,
   "metadata": {
    "collapsed": false
   },
   "outputs": [],
   "source": [
    "max_ind = svd.components_[0].argsort()[-100:][::-1]\n",
    "max_ind2 = svd.components_[1].argsort()[-100:][::-1]"
   ]
  },
  {
   "cell_type": "code",
   "execution_count": 10,
   "metadata": {
    "collapsed": false
   },
   "outputs": [],
   "source": [
    "# get feature names from the tf-idf vectorizer\n",
    "feat_names = vectorizer.get_feature_names()"
   ]
  },
  {
   "cell_type": "code",
   "execution_count": 565,
   "metadata": {
    "collapsed": true
   },
   "outputs": [
    {
     "name": "stdout",
     "output_type": "stream",
     "text": [
      "Principal Component 1: \n",
      "(u'fruit', u'good', u'finish', u'nice', u'palate', u'dark', u'red', u'medium', u'cherry', u'tannins', u'black', u'great', u'bit', u'acidity', u'color', u'little', u'oak', u'notes', u'light', u'like', u'spice', u'long', u'really', u'flavors', u'sweet', u'just', u'balanced', u'smooth', u'better', u'drink', u'quite', u'fruits', u'bodied', u'ripe', u'rich', u'balance', u'drinking', u'pinot', u'taste', u'tart', u'big', u'pepper', u'price', u'mouth', u'cherries', u'vanilla', u'earth', u'aromas', u'body', u'deep', u'plum', u'hours', u'lots', u'blackberry', u'red fruit', u'excellent', u'hint', u'soft', u'dry', u'chocolate', u'glass', u'slightly', u'citrus', u'berry', u'complex', u'opened', u'alcohol', u'fresh', u'ruby', u'long finish', u'touch', u'purple', u'decanted', u'structure', u'tasted', u'cab', u'dark fruit', u'apple', u'raspberry', u'day', u'lemon', u'acid', u'bright', u'food', u'floral', u'green', u'nicely', u'mineral', u'lovely', u'fruity', u'medium bodied', u'young', u'flavor', u'pretty', u'value', u'enjoyable', u'earthy', u'spicy', u'berries', u'leather')\n",
      "\n",
      "Principal Component 2: \n",
      "(u'citrus', u'apple', u'lemon', u'yellow', u'light', u'pear', u'acidity', u'crisp', u'white', u'peach', u'honey', u'mineral', u'tropical', u'green', u'grapefruit', u'lime', u'chardonnay', u'good', u'yellow color', u'minerality', u'dry', u'nice', u'golden', u'pineapple', u'green apple', u'fresh', u'clean', u'melon', u'pale', u'blanc', u'straw', u'apples', u'riesling', u'refreshing', u'gold', u'apricot', u'floral', u'sweet', u'palate', u'minerals', u'color', u'tropical fruit', u'light yellow', u'sweetness', u'creamy', u'stone', u'buttery', u'butter', u'petrol', u'summer', u'orange', u'tart', u'chard', u'notes', u'acid', u'grass', u'champagne', u'pears', u'flowers', u'bubbles', u'sauvignon blanc', u'peaches', u'golden color', u'finish', u'chablis', u'apple pear', u'pale yellow', u'good acidity', u'gold color', u'honeysuckle', u'sb', u'straw color', u'like', u'tropical fruits', u'lovely', u'flavors', u'zest', u'grassy', u'sauvignon', u'oily', u'honeyed', u'slightly', u'yeast', u'lychee', u'lemon lime', u'bright', u'touch', u'cream', u'sugar', u'medium', u'tart apple', u'yeasty', u'hint', u'apricots', u'stone fruit', u'peel', u'white flowers', u'viognier', u'nutty', u'quite')\n"
     ]
    }
   ],
   "source": [
    "print 'Principal Component 1: '\n",
    "print itemgetter(*max_ind)(feat_names)\n",
    "print\n",
    "print 'Principal Component 2: '\n",
    "print itemgetter(*max_ind2)(feat_names)"
   ]
  },
  {
   "cell_type": "markdown",
   "metadata": {},
   "source": [
    "### Create a scatter plot of the 2 principal components of the most consolidated collection labeled by wine color"
   ]
  },
  {
   "cell_type": "code",
   "execution_count": 11,
   "metadata": {
    "collapsed": false
   },
   "outputs": [
    {
     "data": {
      "text/plain": [
       "False"
      ]
     },
     "execution_count": 11,
     "metadata": {},
     "output_type": "execute_result"
    }
   ],
   "source": [
    "new_cursor.alive"
   ]
  },
  {
   "cell_type": "code",
   "execution_count": 13,
   "metadata": {
    "collapsed": false
   },
   "outputs": [],
   "source": [
    "df = pd.DataFrame(list(new_cursor))"
   ]
  },
  {
   "cell_type": "code",
   "execution_count": 101,
   "metadata": {
    "collapsed": true
   },
   "outputs": [
    {
     "data": {
      "text/plain": [
       "Pinot Noir                                     21254\n",
       "Chardonnay                                     16296\n",
       "Cabernet Sauvignon                             12529\n",
       "Riesling                                       11106\n",
       "Red Blend                                      10447\n",
       "Red Bordeaux Blend                              9079\n",
       "Syrah                                           7014\n",
       "Sauvignon Blanc                                 5562\n",
       "White Blend                                     5553\n",
       "Merlot                                          5367\n",
       "Zinfandel                                       4462\n",
       "Red Rhone Blend                                 3732\n",
       "Shiraz, Syrah                                   3655\n",
       "Sangiovese                                      3402\n",
       "Champagne Blend                                 3312\n",
       "Tempranillo                                     2818\n",
       "Cabernet Franc                                  2574\n",
       "Nebbiolo                                        2546\n",
       "Grenache Blend, Grenache                        2286\n",
       "Malbec                                          2252\n",
       "Ros&#233; Blend                                 2073\n",
       "Gew&#252;rztraminer                             1834\n",
       "Viognier                                        1818\n",
       "Chenin Blanc                                    1731\n",
       "Sangiovese Blend, Sangiovese                    1731\n",
       "Gamay                                           1645\n",
       "Barbera                                         1597\n",
       "Pinot Gris                                      1550\n",
       "Tempranillo Blend, Tempranillo                  1472\n",
       "Syrah Blend, Syrah                              1433\n",
       "Port Blend                                      1398\n",
       "Petite Sirah                                    1299\n",
       "Gr&#252;ner Veltliner                           1261\n",
       "Pinot Grigio, Pinot Gris                        1254\n",
       "Corvina Blend, Corvina                          1249\n",
       "Grenache                                        1243\n",
       "S&#233;millon-Sauvignon Blanc Blend             1123\n",
       "Chardonnay Blend, Chardonnay                     868\n",
       "Malt                                             844\n",
       "White Rhone Blend                                752\n",
       "Sp&#228;tburgunder, Pinot Noir                   738\n",
       "Prosecco                                         689\n",
       "Muscat                                           685\n",
       "S&#233;millon                                    666\n",
       "Shiraz Blend, Syrah                              664\n",
       "Montepulciano                                    649\n",
       "Merlot Blend, Merlot                             619\n",
       "Moscato, Muscat                                  597\n",
       "Pinot Blanc                                      557\n",
       "Cabernet-Shiraz Blend, Cabernet-Syrah Blend      515\n",
       "Carm&#233;n&#232;re                              511\n",
       "Primitivo, Zinfandel                             501\n",
       "dtype: int64"
      ]
     },
     "execution_count": 101,
     "metadata": {},
     "output_type": "execute_result"
    }
   ],
   "source": [
    "df['wine/variant'].value_counts()[df['wine/variant'].value_counts() > 500]"
   ]
  },
  {
   "cell_type": "code",
   "execution_count": 14,
   "metadata": {
    "collapsed": true
   },
   "outputs": [],
   "source": [
    "reds = ['Cabernet Sauvignon', 'Merlot', 'Cabernet Franc', 'Malbec', 'Shiraz, Syrah', 'Syrah', 'Red Blend', 'Grenache',\n",
    "        'Mourvedre', 'Rhone Red Blend', 'Pinot Noir', 'Gamay', 'Zinfandel', 'Petite Sirah', 'Tempranillo', 'Nebbiolo',\n",
    "        'Dolcetto', 'Nero d\\'Avola', 'Primitivo', 'Barbera', 'Sangiovese', 'Carmenere', 'Pinotage', 'Red Bordeaux Blend', \\\n",
    "       ]\n",
    "\n",
    "white = ['Chardonnay', 'Riesling', 'Sauvignon Blanc', 'White Blend', 'Champagne Blend', 'Cabernet Franc', \\\n",
    "        'Gew&#252;rztraminer', 'Viognier', 'Chenin Blanc', 'Pinot Gris']\n",
    "\n",
    "rose = ['Ros&#233; Blend']"
   ]
  },
  {
   "cell_type": "code",
   "execution_count": 77,
   "metadata": {
    "collapsed": true
   },
   "outputs": [],
   "source": [
    "color = []\n",
    "\n",
    "for variant in df['wine/variant'].values:\n",
    "    if variant in reds:\n",
    "        color.append('r')\n",
    "    elif variant in white:\n",
    "        color.append('y')\n",
    "    elif variant in rose:\n",
    "        color.append('m')\n",
    "    else:\n",
    "        color.append('w')"
   ]
  },
  {
   "cell_type": "code",
   "execution_count": 25,
   "metadata": {
    "collapsed": false
   },
   "outputs": [
    {
     "data": {
      "image/png": "[encoded data removed]",
      "text/plain": [
       "<matplotlib.figure.Figure at 0x2a8418f50>"
      ]
     },
     "metadata": {},
     "output_type": "display_data"
    }
   ],
   "source": [
    "plt.scatter(X_reviews[:,0], X_reviews[:,1], c=color)\n",
    "plt.show()"
   ]
  },
  {
   "cell_type": "markdown",
   "metadata": {},
   "source": [
    "#### Set up for Linear SVM classification"
   ]
  },
  {
   "cell_type": "code",
   "execution_count": 78,
   "metadata": {
    "collapsed": false
   },
   "outputs": [],
   "source": [
    "X = [(array, color) for (array, color) in zip(X_reviews, color) if color in ['r','y','m']]"
   ]
  },
  {
   "cell_type": "code",
   "execution_count": 79,
   "metadata": {
    "collapsed": false
   },
   "outputs": [],
   "source": [
    "y = []\n",
    "\n",
    "for wine in X:\n",
    "    if wine[1] == 'r':\n",
    "        y.append(0)\n",
    "    elif wine[1] == 'y':\n",
    "        y.append(1)\n",
    "    else:\n",
    "        y.append(2)"
   ]
  },
  {
   "cell_type": "code",
   "execution_count": 80,
   "metadata": {
    "collapsed": false
   },
   "outputs": [],
   "source": [
    "X = [array for (array, color) in X]"
   ]
  },
  {
   "cell_type": "code",
   "execution_count": 81,
   "metadata": {
    "collapsed": false
   },
   "outputs": [],
   "source": [
    "X_train, X_test, y_train, y_test = train_test_split(X, y, test_size=0.33)"
   ]
  },
  {
   "cell_type": "code",
   "execution_count": 82,
   "metadata": {
    "collapsed": false
   },
   "outputs": [
    {
     "name": "stdout",
     "output_type": "stream",
     "text": [
      "Length of X train set: 97515\n",
      "Length of y train set: 97515\n",
      "Length of X test set: 48031\n",
      "Length of y test set: 48031\n"
     ]
    }
   ],
   "source": [
    "print 'Length of X train set: {0}'.format(len(X_train))\n",
    "print 'Length of y train set: {0}'.format(len(y_train))\n",
    "print 'Length of X test set: {0}'.format(len(X_test))\n",
    "print 'Length of y test set: {0}'.format(len(y_test))"
   ]
  },
  {
   "cell_type": "code",
   "execution_count": 83,
   "metadata": {
    "collapsed": false
   },
   "outputs": [],
   "source": [
    "svm = LinearSVC(penalty='l2', dual=False, multi_class='ovr').fit(X_train, y_train)\n",
    "y_pred = svm.predict(X_test)"
   ]
  },
  {
   "cell_type": "code",
   "execution_count": 84,
   "metadata": {
    "collapsed": false
   },
   "outputs": [
    {
     "name": "stdout",
     "output_type": "stream",
     "text": [
      "             precision    recall  f1-score   support\n",
      "\n",
      "    class 0       0.89      0.97      0.93     31209\n",
      "    class 1       0.90      0.80      0.85     16161\n",
      "    class 2       0.00      0.00      0.00       661\n",
      "\n",
      "avg / total       0.88      0.90      0.89     48031\n",
      "\n"
     ]
    },
    {
     "name": "stderr",
     "output_type": "stream",
     "text": [
      "/Users/josephdziados/anaconda/lib/python2.7/site-packages/sklearn/metrics/classification.py:958: UndefinedMetricWarning: Precision and F-score are ill-defined and being set to 0.0 in labels with no predicted samples.\n",
      "  'precision', 'predicted', average, warn_for)\n"
     ]
    }
   ],
   "source": [
    "print metrics.classification_report(y_test, y_pred, target_names = ['class 0', 'class 1', 'class 2'])"
   ]
  },
  {
   "cell_type": "code",
   "execution_count": 85,
   "metadata": {
    "collapsed": false
   },
   "outputs": [
    {
     "name": "stdout",
     "output_type": "stream",
     "text": [
      "Cross Validation Accuracy: 0.90 (0.00)\n"
     ]
    }
   ],
   "source": [
    "from sklearn.cross_validation import ShuffleSplit\n",
    "from sklearn import cross_validation\n",
    "\n",
    "cv = ShuffleSplit(len(X), n_iter=7, test_size=0.30, random_state=0)\n",
    "cv_accuracy = cross_validation.cross_val_score(svm, X, y, scoring='accuracy', cv=cv)\n",
    "print 'Cross Validation Accuracy: {0:0.2f} ({1:0.2f})'.format(cv_accuracy.mean(), cv_accuracy.std())"
   ]
  },
  {
   "cell_type": "markdown",
   "metadata": {},
   "source": [
    "### LSH - Locality Sensitive Hashing"
   ]
  },
  {
   "cell_type": "code",
   "execution_count": 86,
   "metadata": {
    "collapsed": false
   },
   "outputs": [],
   "source": [
    "test_classification = svm.predict(X_reviews)"
   ]
  },
  {
   "cell_type": "code",
   "execution_count": 87,
   "metadata": {
    "collapsed": false
   },
   "outputs": [],
   "source": [
    "red_reviews = X_reviews[test_classification == 0]"
   ]
  },
  {
   "cell_type": "code",
   "execution_count": 88,
   "metadata": {
    "collapsed": false
   },
   "outputs": [
    {
     "data": {
      "text/plain": [
       "(136873, 2)"
      ]
     },
     "execution_count": 88,
     "metadata": {},
     "output_type": "execute_result"
    }
   ],
   "source": [
    "red_reviews.shape"
   ]
  },
  {
   "cell_type": "code",
   "execution_count": null,
   "metadata": {
    "collapsed": true
   },
   "outputs": [],
   "source": [
    "full_red = svd.inverse_transform(red_reviews)"
   ]
  },
  {
   "cell_type": "code",
   "execution_count": null,
   "metadata": {
    "collapsed": true
   },
   "outputs": [],
   "source": [
    "full_red.shape"
   ]
  },
  {
   "cell_type": "code",
   "execution_count": 28,
   "metadata": {
    "collapsed": false
   },
   "outputs": [
    {
     "name": "stderr",
     "output_type": "stream",
     "text": [
      "/Users/josephdziados/anaconda/lib/python2.7/site-packages/sklearn/random_projection.py:369: DataDimensionalityWarning: The number of components is higher than the number of features: n_features < n_components (20 < 32).The dimensionality of the problem will not be reduced.\n",
      "  DataDimensionalityWarning)\n"
     ]
    },
    {
     "data": {
      "text/plain": [
       "LSHForest(min_hash_match=4, n_candidates=50, n_estimators=10, n_neighbors=500,\n",
       "     radius=1.0, radius_cutoff_ratio=0.9, random_state=None)"
      ]
     },
     "execution_count": 28,
     "metadata": {},
     "output_type": "execute_result"
    }
   ],
   "source": [
    "# Initialize a LSH forest and fit the vectorized reviews\n",
    "lshf = LSHForest(n_neighbors = 500)\n",
    "lshf.fit(red_reviews)"
   ]
  },
  {
   "cell_type": "code",
   "execution_count": 43,
   "metadata": {
    "collapsed": true
   },
   "outputs": [],
   "source": [
    "testv = vectorizer.transform(['full bodied fruity blueberry cherry soft tannins'])"
   ]
  },
  {
   "cell_type": "code",
   "execution_count": 44,
   "metadata": {
    "collapsed": false
   },
   "outputs": [
    {
     "data": {
      "text/plain": [
       "(1, 7380131)"
      ]
     },
     "execution_count": 44,
     "metadata": {},
     "output_type": "execute_result"
    }
   ],
   "source": [
    "testv.shape"
   ]
  },
  {
   "cell_type": "code",
   "execution_count": 45,
   "metadata": {
    "collapsed": false
   },
   "outputs": [],
   "source": [
    "variable = svd.transform(testv)"
   ]
  },
  {
   "cell_type": "code",
   "execution_count": 46,
   "metadata": {
    "collapsed": false
   },
   "outputs": [
    {
     "data": {
      "text/plain": [
       "(1, 20)"
      ]
     },
     "execution_count": 46,
     "metadata": {},
     "output_type": "execute_result"
    }
   ],
   "source": [
    "variable.shape"
   ]
  },
  {
   "cell_type": "code",
   "execution_count": 47,
   "metadata": {
    "collapsed": false
   },
   "outputs": [
    {
     "name": "stdout",
     "output_type": "stream",
     "text": [
      "[  5036   7886  76074 129157  52752 126148  38931   3837  57098 110988\n",
      "  40597  76337  14190  71994  91104  16031  24313 123147   6907  57141\n",
      "  12277   9460  77368 114886  83382 134641  72407  11404  22396  53491\n",
      " 131623  44907 128912  67784 106724  75626  32783  43262  20695 105551\n",
      "  74069 128388  97597 112803 117760 120747  15219  52907 111529 106589\n",
      "  44360  14381  90941  31245  39279 114319  40170  53974  27790  78738\n",
      "  27262 134853  24710  35645 111696 137023 119074 113914  28576  71700\n",
      "  69398 109549  73320 102865 126604 109924  15208  15510  98991  32745\n",
      "   7020  55781  75128   5784  36230  63288 122641  63769  43462   8554\n",
      "  71347  38988  24617  36057  60809 134285  77623  78436  49736 112190]\n"
     ]
    }
   ],
   "source": [
    "neigh = lshf.kneighbors(variable)\n",
    "#print neigh[0][0][:10] \n",
    "print neigh[1][0][:100]"
   ]
  },
  {
   "cell_type": "code",
   "execution_count": 48,
   "metadata": {
    "collapsed": false
   },
   "outputs": [
    {
     "name": "stdout",
     "output_type": "stream",
     "text": [
      "7211 5036 Cherry-dominated, with currant and raspberry tones. High acidicy, moderate tannins. Light. Lt spice.\n",
      "11225 7886 Green pepper and cherry aromas. Earthy cassis and cherry flavors with slightly gritty tannins. Medium, drying finish. Don't buy again The nose is pleasant with blackberry jam aromas, but wine is thin and sharp.<br />$11.99 OH Retail.\n",
      "107714 76074 light and smooth drinkingwine with very slight acidity No discript simple wine with hints of rasberry, tabacco and dark cherry.\n",
      "186534 129157 What I'm looking for in a CdP. Current forward on the nose with a light, pleasant barnyard funk. Supple tannins with a moderately wide mouthfeel of current, dark cherry, shoe leather with a hint of metal. Moderate finish leaves an elegant impression.\n",
      "73195 52752 Light bodied, lovely with burgers. Pleasant medium bodied light cherry, musty richness in aroma This wine is a little gem. Easy to drink, delicate balance. Olive overtone helped pair beautifully with a vegeterian pizza and other food with garlic. Pronounced flavors of dark cherry and black olives abound in the medium-bodied wine that has abundant but well-integrated tannins. In addition to fruit, the bouquet offers forest overtones. Serve with grilled lamb with rosemary and black olives (elegant, black cherry, olives, medium-bodied) This wine from the Montebelli family in Tuscany is 100% organic red. The wine is made with 98% Sangiovese, 2% Ciliegiolo grapes and is a very intense, very dry red. <br /><br />The profile starts with aromos of cherry and plums on an early morning damp forest floor... that provides hints of bigger flavors to come. It has a medium-body (not as big as you'd expect from the aromo), and is definitely firm and and mature. It gives a warm mouthfeel with complex tannins, and yields a long dry finish. Hints of roasted coffee with Kalamata black olives -- nearly a meatlike taste. This wine is a bargain at near $13 and a real find for me. I'll come back often for this excellent Tuscan red. I would put this in the \"good bargain/QPR\" category. Nice complexity. Some sour cherry and leather. Garnet in the glass. Pleasant nose of cherry and olive (both green and black). Abundant flavors of cherry, cedar, and olive. Firm tannins. Dry, medium-bodied, nicely balanced (the tannins stand out a bit), with a solid finish. Nose of spices and candied cherries. Tastes of sour ripe cherry with hints of chocolate, leather, and olives. Biggish, round, and somewhat fuzzy tannins. Finishes with an acid kick and lingering wood. A big young perhaps, clearly a food wine. fruity but a bit dull and slightly bitter on the finish. Not exactly rich but what can you expect for $12. Good value.\n",
      "182322 126148 Garnet colored. Light to medium-bodied. Black cherry and raspberry with some bell pepper notes. Light tannins and some acidity. Better than I remembered some of the previous bottles. Drinking well and still has some life left in it. More earthiness an coffee/tobacco on the nose than previous tastings. Medium bodied with black cherry and maybe some currant. A bit green/vegetal on the finish. Not bad but probably best to drink these up over the next year.\n",
      "52439 38931 Dutch text bland (soft) redwine, soft tanins, deep purple colour. Slight cherry taste, not overly exciting\n",
      "5550 3837 Heritage Aromas of cooked fruits, stewed plums and strawberry jam. Currents and jalapeños. Also slightly herbaceous with mint/eucalyptus and basil.<br />On the palette its juicy with tastes of sour cherry, blackberry and concord grape jam.<br />Well balanced<br />Med + Acid<br />Med tannins<br />Med finsished<br />\n",
      "79248 57098 OK - A bit young maybe, not justifying the hype it has received A subdued nose of cherry and blackfruits. Medium bodied, the tannins are prominant and drying. Perhaps a green or twiggy edge to the finish A relatively inexpensive bottle that tastes much like one would expect<br /><br />dark inky abyss with faint hints of cherry on the nose<br />thin to medium bodied with a short finish-underwhelming-blackberry jam<br /><br />drank over two days (better day one)\n",
      "160904 110988 Lighter bodied with some classic Merlot floral and cherry notes. Light tannins frame the finish.\n",
      "55035 40597 Aromas of green peppers and cherry Halls (of all things!). Tastes of cinnamon. Dry with bold tannins. Finish is kind of short.\n",
      "108094 76337 This is not very successfully made wine. Sour cherries, no body, waterish.\n",
      "19487 14190 Moderately concentrated aromas of plum, cherry, smoke and soy. Medium bodied with light acidity and tannins on a decent finish. Interesting flavor profile for this grape.\n",
      "101865 71994 Very smooth, fruity (cherry, blackberry), lovely.\n",
      "130659 91104 Medium bodied raspberry jam and a little cranberry. Not much on the nose (but I'm a lousy sniffer). <br />This is a simple wine that doesn't aim for much, but it does accomplish what it aims for. A good bargain for an ultra-cheap every day wine. It is wine. Almost no nose. Rasberry flavors and some dark cherry but a bit unbalanced. No finish but some light tannins.\n",
      "22024 16031 Ripe and generous,soft,fruity,mocha,spice,coffee,cherry and plum.\n",
      "33034 24313 Wine tasting on 11/21/2004 with the winemaker arrived from France.<br /><br />Wine is definitely full body Red. I gave it a rating of 90. Wine can be aged for 6-20 years. medium dark ruby purple. tinge of floral on the nose. light bodied. cherries on the attack, a little hollow mid palate, black cherry and fine tannins on the back end. nice medium long finish. pretty decent quaffer for the price. Sehr schöner typischer Graves, gute Anlagen mit steinigem Geschmack von weißen Kieseln bei mittelschwerem Körper, der einen dunklen Schokoladenkern verbirgt und ebenso mittlerem Abgang.\n",
      "178254 123147 Black cherry jam nose, with some leather. Rich, lightly jammy and medicinal. Smooth tannins, light acidity to the point of flabbiness, medium body. Drink now Deep nose with a lot (almost too much) raisin, graphite and concord grape. Surprisingly it was pretty balanced on the palate and had a flavor and finish better than I expected.\n",
      "9828 6907 Blackberry and earth. Soft yet simple finish. A very full bodied merlot with a hint of smoke on the finish.\n",
      "79304 57141 Juicy blackberries and dark cherries on the nose and palate. Smooth and soft with a long finish. Red cherries on the nose. High acidity, and very light tannins. Medium bodied at best, this seemed quite thin, slightly hot, and not much more than some cherry/raspberry flavors. Not too thrilled with this, but for 10 dollars, it is definitely an enjoyable enough everyday dinner wine.\n",
      "17276 12277 Purple, medium concentration. A very fruity nose, cassis and blueberry. No perfumed violet or lactic tones to be seen anywhere. Full bodied palate, smooth, quite light and bright, but big, butch tannins (rarely seen nowadays). Cherry pips and sandalwood on the finish. Nice. Manages to be both full bodied and slender at the same time. Drink now.\n",
      "13384 9460 The faintest hint of brick emerging at the rim. Dusty black cherry, smells of hot earth and terracotta, touch of liquorice. Then some supple, suave and sweet tannins. Not at all grainy. Quite medium bodied. This is really drinking well now.\n",
      "109550 77368 Light sour cherry nose, hint of cedar. Lots of sour cherry and under-ripe raspberries upfront. Very light tannins. Long and very bitter cherry finish. If not for the extreme bitterness at the end, this would have been decent, although nothing special\n",
      "166821 114886 dark ruby colored in the glass. this has some rasberry and cherry aromas, but the palate is very light and weak. being a rare virginia malbec, i wanted to like this wine, but it is thin and has a short finish.\n",
      "118165 83382 Fruity but with an edge - will improve with time? fragrant nose of cedar, spice, cola, and acetone<br />medium bodied. I taste cherries and tea<br />Long finish.<br />Another excellent CrushPad production\n",
      "195572 134641 Consistent with last tasting note. Medium light reddish purple. Lithe in mouth with blackberries, cherries, leather and a touch of earthiness. Nice cherry finish but rather short. For $14 this was a steal.\n",
      "102562 72407 Easy mid-week bottle of wine. Extremely faint aromas of black cherry with notes of spice. Medium bodied and soft on the palate. Light acids and very light tannins lead to a short finish. Weak even for this price point. Not recommended. Flat and not great Very different from California cabs. Medium bodied, a little spicy, light tannins.\n",
      "16190 11404 {A$25, 13%, screwcap} Smoke and cherry aromas. A savoury palate, quite tarty despite the moderately low acid. Minimal grape tannins, short finish. Ho hum.\n",
      "30433 22396 Colour Blackberry aroma. Lighter taste than 2004. Smooth, not overly fruity with some mellow coffee and black cherry. Quite nice. Good Valencia. Quite heavy so needs food. Went well with both minestrome and ham & mushroom tagliatelle. The wine looks Crimson colored.<br />The legs are Medium.<br />It tastes like and Blackberry.<br />The body is Full.<br />The wine is textured Smooth.<br />The wine finishes Long. A nice Tempranillo but doesn't quite live up to other Spanish regions in my opinion. A fairly gentle wine, smooth texture with strawberry and cherry flavours, some blackberries perhaps. A bit of spice/coffee bitterness. This is a slightly above average wine at an attractive price point.\n",
      "74172 53491 Cherries, smoke, some spice on the nose. More cherry and dark berries on the palate. Good acidity, medium tannins. Really nice Chianti for the price. It's not super complex, but for $8 it's an excellent QPR! A light ruby in the glass; with scents of earth, cinnamon, herbs, and cherries. In the mouth there was a nice showcase of red fruits and herbs all wrapped up in a dry finish. WIML87<br /><br />Tasted at a retail tasting.<br /><br />Garnet color in the glass, clear hue throughout. Nose of black berries with a bit of flowers. Flavors of berries and sour cherries. Medium acidity and tannins, light to medium body. Drink now. I had this wine after the Pio Cesare Barolo, which was very tannic, so it may have affected my impression of this wine. It was pretty fruity for a Chianti, but the flavors seemed a little muted. The nose had lots of raspberry and cherry, with small amounts of spice and earth. The palate had cherry and raspberry, and a spicy finish.\n",
      "190081 131623 very light & smooth Beautiful raspberry flavour with soft tannin finish.<br />recommend with pasta and tomato-based sauce.\n",
      "61544 44907 Aromatic nose of dark fruits, earth, fig, mushrooms centered around cherry. Palate was acidic, light round subtle tannins with similar flavors from the nose. Finish medium length and complexity. Excellent.\n"
     ]
    },
    {
     "ename": "KeyboardInterrupt",
     "evalue": "",
     "output_type": "error",
     "traceback": [
      "\u001b[0;31m---------------------------------------------------------------------------\u001b[0m",
      "\u001b[0;31mKeyboardInterrupt\u001b[0m                         Traceback (most recent call last)",
      "\u001b[0;32m<ipython-input-48-0548fea7a51b>\u001b[0m in \u001b[0;36m<module>\u001b[0;34m()\u001b[0m\n\u001b[1;32m      1\u001b[0m \u001b[0;32mfor\u001b[0m \u001b[0mj\u001b[0m \u001b[0;32min\u001b[0m \u001b[0mneigh\u001b[0m\u001b[0;34m[\u001b[0m\u001b[0;36m1\u001b[0m\u001b[0;34m]\u001b[0m\u001b[0;34m[\u001b[0m\u001b[0;36m0\u001b[0m\u001b[0;34m]\u001b[0m\u001b[0;34m[\u001b[0m\u001b[0;34m:\u001b[0m\u001b[0;36m100\u001b[0m\u001b[0;34m]\u001b[0m\u001b[0;34m:\u001b[0m\u001b[0;34m\u001b[0m\u001b[0m\n\u001b[1;32m      2\u001b[0m     \u001b[0;32mfor\u001b[0m \u001b[0mi\u001b[0m \u001b[0;32min\u001b[0m \u001b[0mrange\u001b[0m\u001b[0;34m(\u001b[0m\u001b[0mlen\u001b[0m\u001b[0;34m(\u001b[0m\u001b[0mX_reviews\u001b[0m\u001b[0;34m)\u001b[0m\u001b[0;34m)\u001b[0m\u001b[0;34m:\u001b[0m\u001b[0;34m\u001b[0m\u001b[0m\n\u001b[0;32m----> 3\u001b[0;31m         \u001b[0;32mif\u001b[0m \u001b[0mnp\u001b[0m\u001b[0;34m.\u001b[0m\u001b[0marray_equal\u001b[0m\u001b[0;34m(\u001b[0m\u001b[0mX_reviews\u001b[0m\u001b[0;34m[\u001b[0m\u001b[0mi\u001b[0m\u001b[0;34m]\u001b[0m\u001b[0;34m,\u001b[0m \u001b[0mred_reviews\u001b[0m\u001b[0;34m[\u001b[0m\u001b[0mj\u001b[0m\u001b[0;34m]\u001b[0m\u001b[0;34m)\u001b[0m\u001b[0;34m:\u001b[0m\u001b[0;34m\u001b[0m\u001b[0m\n\u001b[0m\u001b[1;32m      4\u001b[0m             \u001b[0;32mprint\u001b[0m \u001b[0mi\u001b[0m\u001b[0;34m,\u001b[0m \u001b[0mj\u001b[0m\u001b[0;34m,\u001b[0m \u001b[0mnew_reviews\u001b[0m\u001b[0;34m[\u001b[0m\u001b[0mi\u001b[0m\u001b[0;34m]\u001b[0m\u001b[0;34m\u001b[0m\u001b[0m\n",
      "\u001b[0;32m/Users/josephdziados/anaconda/lib/python2.7/site-packages/numpy/core/numeric.pyc\u001b[0m in \u001b[0;36marray_equal\u001b[0;34m(a1, a2)\u001b[0m\n\u001b[1;32m   2365\u001b[0m     \u001b[0;32mif\u001b[0m \u001b[0ma1\u001b[0m\u001b[0;34m.\u001b[0m\u001b[0mshape\u001b[0m \u001b[0;34m!=\u001b[0m \u001b[0ma2\u001b[0m\u001b[0;34m.\u001b[0m\u001b[0mshape\u001b[0m\u001b[0;34m:\u001b[0m\u001b[0;34m\u001b[0m\u001b[0m\n\u001b[1;32m   2366\u001b[0m         \u001b[0;32mreturn\u001b[0m \u001b[0mFalse\u001b[0m\u001b[0;34m\u001b[0m\u001b[0m\n\u001b[0;32m-> 2367\u001b[0;31m     \u001b[0;32mreturn\u001b[0m \u001b[0mbool\u001b[0m\u001b[0;34m(\u001b[0m\u001b[0masarray\u001b[0m\u001b[0;34m(\u001b[0m\u001b[0ma1\u001b[0m \u001b[0;34m==\u001b[0m \u001b[0ma2\u001b[0m\u001b[0;34m)\u001b[0m\u001b[0;34m.\u001b[0m\u001b[0mall\u001b[0m\u001b[0;34m(\u001b[0m\u001b[0;34m)\u001b[0m\u001b[0;34m)\u001b[0m\u001b[0;34m\u001b[0m\u001b[0m\n\u001b[0m\u001b[1;32m   2368\u001b[0m \u001b[0;34m\u001b[0m\u001b[0m\n\u001b[1;32m   2369\u001b[0m \u001b[0;32mdef\u001b[0m \u001b[0marray_equiv\u001b[0m\u001b[0;34m(\u001b[0m\u001b[0ma1\u001b[0m\u001b[0;34m,\u001b[0m \u001b[0ma2\u001b[0m\u001b[0;34m)\u001b[0m\u001b[0;34m:\u001b[0m\u001b[0;34m\u001b[0m\u001b[0m\n",
      "\u001b[0;31mKeyboardInterrupt\u001b[0m: "
     ]
    }
   ],
   "source": [
    "for j in neigh[1][0][:100]:\n",
    "    for i in range(len(X_reviews)):\n",
    "        if np.array_equal(X_reviews[i], red_reviews[j]):\n",
    "            print i, j, new_reviews[i]"
   ]
  },
  {
   "cell_type": "markdown",
   "metadata": {},
   "source": [
    "### K Means on Principal Components"
   ]
  },
  {
   "cell_type": "markdown",
   "metadata": {},
   "source": [
    "#### Evaluate inertia to find best number of clusters"
   ]
  },
  {
   "cell_type": "code",
   "execution_count": 38,
   "metadata": {
    "collapsed": true
   },
   "outputs": [
    {
     "name": "stdout",
     "output_type": "stream",
     "text": [
      "Running K 1...\n",
      "Running K 2...\n",
      "Running K 3...\n",
      "Running K 4...\n",
      "Running K 5...\n",
      "Running K 6...\n",
      "Running K 7...\n",
      "Running K 8...\n",
      "Running K 9...\n",
      "Running K 10...\n",
      "Running K 11...\n",
      "Running K 12...\n",
      "Running K 13...\n",
      "Running K 14...\n",
      "Running K 15...\n",
      "Running K 16...\n",
      "Running K 17...\n",
      "Running K 18...\n",
      "Running K 19...\n",
      "Running K 20...\n",
      "Running K 21...\n",
      "Running K 22...\n",
      "Running K 23...\n",
      "Running K 24...\n",
      "Running K 25...\n",
      "Running K 26...\n",
      "Running K 27...\n",
      "Running K 28...\n",
      "Running K 29...\n",
      "Running K 30...\n",
      "Running K 31...\n",
      "Running K 32...\n",
      "Running K 33...\n",
      "Running K 34...\n",
      "Running K 35...\n",
      "Running K 36...\n",
      "Running K 37...\n",
      "Running K 38...\n",
      "Running K 39...\n"
     ]
    }
   ],
   "source": [
    "inertia_k = []\n",
    "\n",
    "for num_cluster in range(1,40):\n",
    "    print 'Running K {0}...'.format(num_cluster)\n",
    "    km = MiniBatchKMeans(n_clusters = num_cluster)\n",
    "    km.fit(X_reviews)\n",
    "    inertia_k.append(km.inertia_)"
   ]
  },
  {
   "cell_type": "code",
   "execution_count": 39,
   "metadata": {
    "collapsed": false
   },
   "outputs": [
    {
     "data": {
      "text/plain": [
       "[<matplotlib.lines.Line2D at 0x20c724e10>]"
      ]
     },
     "execution_count": 39,
     "metadata": {},
     "output_type": "execute_result"
    },
    {
     "data": {
      "image/png": "[encoded data removed]",
      "text/plain": [
       "<matplotlib.figure.Figure at 0x22c6c2310>"
      ]
     },
     "metadata": {},
     "output_type": "display_data"
    }
   ],
   "source": [
    "plt.plot(inertia_k)"
   ]
  },
  {
   "cell_type": "markdown",
   "metadata": {},
   "source": [
    "#### Fit k-means using minibatch on best number of clusters"
   ]
  },
  {
   "cell_type": "code",
   "execution_count": 30,
   "metadata": {
    "collapsed": false
   },
   "outputs": [
    {
     "data": {
      "text/plain": [
       "MiniBatchKMeans(batch_size=100, compute_labels=True, init='k-means++',\n",
       "        init_size=None, max_iter=100, max_no_improvement=10, n_clusters=25,\n",
       "        n_init=3, random_state=None, reassignment_ratio=0.01, tol=0.0,\n",
       "        verbose=0)"
      ]
     },
     "execution_count": 30,
     "metadata": {},
     "output_type": "execute_result"
    }
   ],
   "source": [
    "num_clusters = 25\n",
    "\n",
    "km = MiniBatchKMeans(n_clusters = num_clusters)\n",
    "km.fit(X_reviews)"
   ]
  },
  {
   "cell_type": "markdown",
   "metadata": {},
   "source": [
    "#### Loop through and print out each clusters centroid sentence, along with the variant, and the number of people who expressed similar views"
   ]
  },
  {
   "cell_type": "code",
   "execution_count": 29,
   "metadata": {
    "collapsed": true
   },
   "outputs": [
    {
     "name": "stdout",
     "output_type": "stream",
     "text": [
      "Centroid 1's Closest Sentence is \"This has blackcurrants and raspberries on the nose. Quite rich and full on the palate. Quite forward, easy drinking with good balance and character.\"\n",
      "Variant of wine: Red Blend\n",
      "183349 number of people expressed a similar view\n",
      "\n",
      "Centroid 2's Closest Sentence is \"Deep colour. Not a very dominant nose. OK, perhaps a bit innocuous. PnP served over 2 nights, both showing quite nicely. A lot of purity and complexity on the nose and palate, with another 5 years of very enjoyable drinking ahead of it. If you can find it, and you know it to have been stored properly, buy it, you won't be disappointed. Score Poured deep, purple/red still looking quite young, with a nose of classic cigar and blackcurrent. No sign of jam or over concentrated/cooked fruit here. Refreshing on the palate due to good acid and clean, ripe fruit, this Menzies was beautifully balanced and aged. A long length on the finish only added to the experience. The wine started to break-up a touch after two hours in the decanter, so I suspect that I it wont age for that much longer. Beautiful.<br /><br />Drank it with Sirloin done on the BBQ for a Pom and a South Korean. They too enjoyed the wine/steak combo. Pickles, tomato leaf and lead on the nose. Palate is disjointed, unpleasant and finishes short and hard. The nose has cassis and tobacco-leaf yet also a bit of bell pepper. The palate is sweet but a little hollow and unstructured on the mid-palate, yet on the aftertaste the fruit dies away and the structure comes apparent. Not unpleasant, but not really in balance either! Mellow brown color, slight but complex nose of fruit and caramel, structured taste of mellow fruit, smooth finish with a slight pleasant kick. A very pleasant wine with our diner, reminding me how good an aged wine can taste. Hazy notes Deep coffee & chocolate nose. Again, green cabernet flavours. Not overly tannic. Medium finish, fair wine. decent aussie Double blind tasting. A good drink but frankly at best moderately interesting today. Slightly green on finish. Had developed nicely in the glass with classic cabernet flavours of mild pencil sharpening/cedar with softened tannins and a good finish. The bouquet and taste are in good harmony and give the same impressions. You can taste the sun in this full bodied, juicy wine. There are This was drinking very well at age 14, yet could go another 6 years. The wine is well balanced and has quite a bit of personality. Fruit is toned down and no longer primary, but has good cassis concentration. Nice structure with some graphite, tobacco, and pencil notes. Good length and texture. Could pass for a Paulliac. 14% alc...opaque color...immediate nose of herbs, mint, eucalypt and chocolate covered raspberries and cherries...large on the palate, but still fairly gritty, petrol, deep menthol type notes, delicious, but unresolved right now. I'm going to wait another 6 months to a year to try another. Flat out delicious...a nose you'll never forget, basil, thyme, rosemary, eucalyptus, mint, blackberries...the palate is medium-full in body, flat out perfect with filet...dyno-mite. nice fruity, tobacco-y, complex nose but the palate is big and then flat, and doesn't follow thru. it's an ok wine but for the price is point way over priced. Popped and poured. This has changed significantly over three years. Nose of red currant, blackberry, menthol, mocha, tobacco, cedar, cherries, graphite. On the palate red fruits dominate, with mint, basil, tobacco, and cedar. Finishes with fine but sturday tannins and crisp acidity. Outstanding, great value. This has a lot of life left. Drink or hold. Nice nose of herbs and mocha. Large on the palate with menthol notes. Good, should get better. Mature cab-sauv with fine aromas and taste with lots o fruit. opened for a couple of hours we had this bottle immidialty after a Estate Montelena 1996, it wasnot as good but close enough rligt talt - var lidt i tvivl om vinen mske var iltet eller lignende. Duften er flot og harmonisk, farven dyb rd med let brunligt skr, men vinens alder taget i betragtning virkede det ikke alarmerende. Vinens smag forekom dog meget overraskende - ubalanceret, med en syrlig undertone, jeg ikke bryder mig om. Good, solid Cabernet - I'll save the last one for a bit. Quite satisfying with grilled pork baby back ribs... An amazingly expressive Cabernet nose. Cassis and blackberry fruit flavours on the palate, fat and well rounded with great balance, extract and structure. Excellent length. Wow. This was beautifull. The nose was full of black berries and black cherries along with eucalyptus and black licorice. All repeat with depth and purity on the palate. Perfectly balanced with nice acidity, integrated tannin, and rich fruit. Earthy and savoury with some briar, smoke and plum notes. The palate is slightly green tinged but it isn't too obtrusive. Drink over the next 5 years. Tasted at Yalumba Cellar Door This almost merlot-like dark purple wine was very soft, lacking structure and any sort of substansive finish. I have 2 more bottles of this -- hopefully this was just an off-bottle. Seemed very mature given its real age, but much improved over the second bottle. good QPR still a little tart and not as big as other cabs. 14% alc...100% Cab Sauv from Coonawarra...can sense the American oak & dill like qualities right off the bat, not a bad thing, just pronounced, sweet red fruits, minty...medium-bodied and classic Yalumba style, never over-extracted or alcoholic, odd in this category, loads of that Coonawarra character, with almost a Rutherford like dust quality as well. Nice Cab. *** out of *****. Deep purple in colour this wine had a dusty, earthy nose showing liquorice and leaf tobacco characters with a hint of sweetness. The palate is pretty rustic - actually seemed a bit all over the place - spice, acid and tannins all hit you at once. Opened 3 hr prior to drinking. First time I had this wine was at a large wine tasting featuring about 100 wines from all over Australia. The Yalumba table was one of the last ones I visited so the palate was tiring a little. Despite this I thought the '02 Menzies and the '02 Octavius stood out to be 2 of the best wines of the day.<br /><br />when I decided to drink this I wondered whether the amount of alcohol I had consumed at the tasting prior to trying this wine had influenced my decision to purchase. My worries were unwaranted in the end. This is a very elegant wine. Medium-bodied, it had a lovely nose and an even stronger palate. There was plenty of cassis on the palate but very little greeness (which is a typical coonawarra trait) and the balance was impeccable. The wine was still evolving by the time we finished the bottle which suggusts it still has another 5-8 years left in it yet. Past vintages I've tried typically drink well for at least 10 years.<br /><br />A classy wine from a not so good vintage. Still a good wine although the acid was poking out a little and it seemed a bit green. Consistent with my previous notes. Good wine but will never be a 'great' Menzies IMO (product of the cool vintage more than anything). Very savory good aftertaste with lingering finish Cool sensation (eucalyptuys? maybe) Classic aussi power Night 1 Fruity but elegant wine with black currant on the nose along with some truffels. Sweet. Rounded tannins and it turned out to be very drinkable at this time. I am not sure it will evolve much more but certainly weel worth its price. Nose closed up tight. Youthful and well balanced but quite austere at this stage. Give this a couple more years. Taken to Aussie OL in Laguna. Red fruit and bit of green/asparagus on the finish. It was off-putting to me, but some didn't like it. I thought it was drinking nicely, closer to a young Bdx than to a Cali Cab. Eucalyptus and bluberries on the nose. A bit on light side as far as body goes but decent palate of fruit, oak and nuances. ready to drink. Tight and slightly tannic but good fruit I agree with most recent notes. Corking it overnight seemed to only increase the tartness of the fruit. count me out Full; Round nose; Soft; Very easy drinking Notes of balsam wood, black and red currants, sweet tobacco, and dried herbs. Acidity a bit on the high side. Tasted at the retail tasting. This is terribly shut down right now. Dusty/chalky nose of stem and smoke. On the palate, black currant and loamy earth. Stemmy finish, with green, chalky tannins. I do not recommend drinking this now. No rating. Rather herbaceous and lean for NW wine. Will need to reexamine under better circumstances. Color with rosemary roasted beef. Fabulous cab. Had Mondavi Reserve cab same night and although Mondavi reserve usually is very good, it was sour and lacking in comparison Surprisingly Bordeauxlais for an Australian cab, with a shifting nose that's enticing at best and well-developed secondary nuances with a (too) acidic backbone. This isn't getting any better in the next five years and I don't know if the fruit will last long enough to carry it beyond that. Strong fruit depth, plum, good finsih,firm tannins Plum with a strong mid palate of dry sweet fruit and good finish Not your typical Aussie. Downright austere. I do think there is enough fruit balanced with green pepper and white pepper and scorched earth to give this wine some intrigue. This would be fun to put in blind with old world and see if people could guess. it's not easy being oprah's menge....fantastic.. Despite the bad press here thus far, I found this to be outstanding. Nice fruit, blackberries, plenty of tannins, and long finish. Will benefit from more aging, and I am looking forward to the next one. Fun wine, thoroughly enjoyed this one. Creme de Casis, blackberries and tobacco. Aging well. Very nice and complex wine. wow! this a powerful wine. dark dark colour and a massive nose of dark fruit. the finish is a bit spicy and hot but i thik that will mellow with a bit more time. This is either shut down right now or the worst $50 bottle of wine I've ever had. Spicy, woody, very vegetal aroma. Some purple fruit on the palate. Little complexity and high acidity. I'll hold off on final judgement, because this can't be right. D Muted nose, mineral YES. Good quality to price ratio. Looks black in the glass, an above average Oz CB with good blackberry fruits, smooth tannins and not too hot (13.5), relatively speaking. I remember drinking this back in 1999 and really liked it. Easy drinking, good without food. A \"buy it, if you see it wine\" rather than one you would buy to keep. But, very acceptable. Loved this as always. Nice plum (black fruits too) and mint on the nose. Although the tannins aren't as soft as I remember the last bottle being, there was sufficient fruit on the palate and a good finish. This is almost austere and probably needs some more time to unfold. But, decanted for an hour or so and loved it.<br />Just read through some of the earlier notes and i concur with whoever mention the Bordeaux qualities of this wine. Not quite opaque as it clears near the edges of the glass. Near black in color. Nice floral characteristics on the nose lead to a disappointing palate. Lacking fruit and a distinct smokiness take away from a smooth wine with mostly resolved tannins. Somewhat thin and short on the finish compared to previous bottles which I have loved. Maybe a bad bottle or getting over the hill. Disappointing. Pretty nice bottle of wine but nothing special. It's an everyday wine with a bit of dis-coordination on its flavors. Drink now. I recently tasted the 2002 vintage of this wine, and was very unimpressed. I think I summed it up nicely when I said it was \"a bit all over the place.\" Given that review I decided to drink the 2004 in my cellar - boy was I surprised how different it was! <br /><br />Deep purple in colour this vintage had a mainly savoury nose - mineral, herb and oak characters, with a hint of candied fruit at the end. The palate was intense! Great depth of fruit, excellent oak integration and supple tannins. Very nice indeed.<br /><br />\"Improvements in the vineyard have put Menzies, head and shoulders above the old style\" Huon Hooke and Bob Campbell, Australian Gourmet Traveller, December '07/January '08 issue. I think I agree! No formal notes. Some green notes on the nose. Gives hints of a Napa Cab. Smooth and silky. Just barely ready to drink. Drink or hold. Excellent. 90+ good but could use a little time. big tannins. Major cork damage No formal note. Really love this wine with Coonawarra typicity, perfectly subtle minty in the mid-palate. Just remember to decant if I put my hands on another one of these as there is a ton of sediments... and it's got a long life ahead. Nose displays rich dark fruit-complexity. Hard to believe this was scored under 90. Taste reveals what the nose implies. Some complexity with a dark fruit finish. The finish does not last 30+ seconds however-it does have a polished ending one can enjoy. While complexity of taste and finish does not bode for a score in the 93+ range it also demands in my opinion a score around 91 reflecting the fact this wine has some refined attributes. After being ppened 30+ minutes nose offers up coffee and dark chocolate. I will be buying more. I like this wine. None of that bright cheap cherry taste. This wine had dark colour and the fruit was a bit overpowered by some tannins - another few years and this should be an excellent marriage of fruit and oak. Lovely - solidly built - as another reviewer noted similar to a California cab on the nose - mineral, herb (a little green maybe). Tannins backing it all up but not dominating. Nice finish. Would buy more if they become available. Reddish purple in colour and opaque but lightening at the edges. BANG!.......nose of Bazooka bubblegum mixed with barnyard, tons of blackcurrant and blackberry fruit, lots of alcohol and nail polish. Lovely on the palate.......bitter mocha coffee, lovely deep rich blackberries and peach stones, tannic but not too much so. Good length with some resonance but austere, brooding and headachingly young. This could be a great wine in 10-15 years. Purple, through & through. Initial nose is all alcohol. Nice mouthfeel, silky, big time wave of cassis, blue fruits, sweeping tannins, dry lingering finish. Nice. With a goat cheese salad and time in the glass the nose opens up to match the palte, with a bit of dusty fruit. Bitterness gone, cabby, like this, nice effort. Well made young Aussie. This will give you bad gas. Young 05? Smell like Ebenezers . Quite nice. Aussie  Ken/Kells. USA  Tim/Bosh Ripe and floral up front. Candied red rose petals and maraschino cherry. Trs bon vin, bien fait. Rien n'accroche, mais pas de wow factor. Trs digeste pour un australien (mes prjugs diminueront). Bcp trop cher toutefois. Bcp de vin de la moiti du prix en offre autant.  revoir demain avec le reste de la bouteille. Perfect Saint Valentin wine. Been a while since I tasted a 40$ + wine that deserved its selling price (I'm from an overtaxed country). Accompanied perfectly my spicy tomato seafood pasta and this evening... I'm a happy man ! superb, fruity nose, short finish The cigar is the baby brother of this wine. Black currants, with some grip, shows some secondary. Huge Cabernet, plenty of rich fruit with hint of cassis - alcohol giving weight but no heat, lots of tobbacco leaf, some mint and lovely oak support - backed by powdery drying tannins - no rush on this one and should come together further over the next 2-3 years Ripe red fruit, flabby palate. Nose Nose Really big and rich. Needs way more time.\"\n",
      "Variant of wine: Cabernet Sauvignon\n",
      "15929 number of people expressed a similar view\n",
      "\n"
     ]
    }
   ],
   "source": [
    "clustered_sentences = sorted(zip(km.labels_, X_reviews, new_reviews), key=itemgetter(0))\n",
    "\n",
    "for num_cluster in range(num_clusters):\n",
    "    indiv_cluster = [clust_sent for clust_sent in clustered_sentences if clust_sent[0] == num_cluster]\n",
    "    get_matrix = itemgetter(1) \n",
    "    cluster_vector = map(get_matrix, indiv_cluster)\n",
    "    dist = [metrics.pairwise_distances(vector, km.cluster_centers_[num_cluster]) for vector in cluster_vector]\n",
    "    min_dist = np.argmin(dist)\n",
    "    variant = no_year_wines.find({'review/text': indiv_cluster[min_dist][2]}, {'_id': 0, 'wine/variant': 1})\n",
    "    print 'Centroid {0}\\'s Closest Sentence is \\\"{1}\\\"'.format(num_cluster + 1, indiv_cluster[min_dist][2].encode('ascii', 'ignore'))\n",
    "    print 'Variant of wine: {0}'.format(str(variant.next()['wine/variant']))\n",
    "    print '{0} number of people expressed a similar view'.format(len(cluster_vector))\n",
    "    print"
   ]
  },
  {
   "cell_type": "markdown",
   "metadata": {
    "collapsed": true
   },
   "source": [
    "#### Pick a particular cluster and print out all reviews for that cluster with its variant"
   ]
  },
  {
   "cell_type": "code",
   "execution_count": 25,
   "metadata": {
    "collapsed": true
   },
   "outputs": [
    {
     "name": "stdout",
     "output_type": "stream",
     "text": [
      "Needs quite a bit of time to open up still. Nose of cedar and black fruit gives way to rich boysenberry, oak and chocolate flavors with smoky/meaty undertones. Strong tannins. Long finish. Good now (after a good, long decanting) but will lay down for years.\n",
      "Wine Variant: Malbec\n",
      "I had heard great things about this winery from more than one person so I was pumped that my dad gave me a bottle after he got back from WW. This must be their entry level blend as it didn't have much going on except a little bit of fruit and more oak that I would have expected. Mostly cab and merlot . Not sure how much this costs, but I don't think I'll be buying any. 85pts. Needs about an hour to open up, then there is quite a difference. First taste was a little harsh. Set decanted for one hour and the wait is worth it. Scent of fruit and light mineral. Taste of cherry, cola and an anise finish. Smooth yet complex. The four of us are giving this an 88. Young but refined, very elegant. Could use more time or decant in advance. Nice bottle. Opened and drank with a 2 hour decant. Medium dark color lightening at its edges. Distinctive notes of crushed rock, rose petal, red currant and cherry throughout the nose and alive on the palate. Smooth feel and fine firm tannins along with secondary notes of cedar, cocoa and tea. Nice juicy lingering finish. This is a delicious wine, drinking well now with a decant and nicely structured for medium-term aging. 92+\n",
      "Wine Variant: Red Bordeaux Blend\n",
      "Big & chewy. Lots of sour fruit, with oak and strong tannins. Fruity, very ripe black berries. Plums, chocolate, strong tannins. Full bodied. Extracted, fake and smooth; sweet and artificial. Packed too full of everything. I didn't like it. Ripe berries, plums, chocolate. Hardly any tannins. Medium/full bodied. Not as good as 2005. Dark ruby. Plum, a little spice and some smoke.<br />Fruity and a bit too chewy in the mouth. Medium body.\n",
      "Wine Variant: Tempranillo\n",
      "dark fruit restrained nose; spicy! Nice mix, fun, bright red fruit mixed with zin fruit, hint of candy soda, quirky & very drinkable Very fruit forward plum fruit, well made wine, no detracting characteristics, very enjoyable but lacked depth and complexity Great Cali syrah, fruit forward but well balanced, 91-92. PnP. Amazing wine. Kept opening up and getting more complex. This is an awesome bottle of wine. Great nose tons of fruits. Really good drinking wine with or with out dinner. I paired it with Chocolate Lava cake. I had this bottle in my wine rack for about 3 months. I bought it from the vineyard and I have to say everything that I tried at this vineyard was really good. This bottle really stood out though. Okay ON to the tasting notes. The flavors hit each of the areas of the tongue. Blackberry, Cherry, Leather, and earth. Lite tannins but still there.\n",
      "Wine Variant: Syrah Blend, Syrah\n",
      "Classic GSM - nice nose! Great spice & concentrated fruit, long finish, great balance, full body, very fruit focused, mellow tannin Great stuff, drank half the bottle at Monarch Cafe, and kept the rest overnight. Used some to cook with (Bolognese sauce) and drank the last of it. Really great GSM red. Following a festival with Michigan wines (whites can be solid; reds have flavor but no complexity or body). I needed real wine. PnP. Nearly opaque ruby/brick red. Wild tart cherries with multi-spice, heavy on the pepper. Long finish. Continued to evolve and soften. This is just what I needed Decanted for 90 min. and served two bottles with stuffed pork loin. Great pairing. Rich dark red. Full body. Classic GSM. Wonderful wine. Had a headache after this one and it wasnt only me. I would have given more points otherwise. Forgot to change my drinking window, and popped another. Damn! It's a great wine, and will be even better if I can remember not to drink it too soon. My new window is 2013-17, but I suspect it will go until 2020 or more. PS Decanted 1 hour. Deep burgundy color. Body full- . Great flavor. Zin instead of M in the GSM is nice twist. Still a little tight. I am going to keep the rest of my stash for a few extra years. Window will be '13 - xxxx. Bright flavors of dark fruits well-balanced with pepper and spice and a long finish of chocolate, coffee, a little cinnamon, and lots of cassis.\n",
      "Wine Variant: Red Rhone Blend\n",
      "Rounder and fuller than the Brusset. Smooth, bit of spice on nose, but not on palate. Very giving, with a sweet nose. Soft on the palate. Raspberry liquor. Tasty and easy going, but has some guts. Tasty stuff. 89+ Took a long time in the decanter to open up. Brambly red and black fruit on the nose. Similar notes on the palate with underlying black tea notes and tea-like tannins. Slightly bitter medium length finish. Medium acid and tannin. Overall a bit awkward.\n",
      "Wine Variant: Red Rhone Blend\n",
      "Grenache at Momo's Dark, black red color; hot, earthy, peppery, oak nose; stiff, oaky, pepper palate with high tannins; medium tannic finish Nasty. Cloudy, oxidized, funky just bad. I expected more from Kermit Lynch and Texier, especially after the success of bottle one. Something, probably a spoilage organism, seems to have affectet this in the bottle but the defect is due to bad winemaking, not a bad external factor like cork so it is fair to rate is for shit. Drank during son's baptism weekend with family so no detailed notes. I remember it was better than I thought it would be and certainly worth $18. terribly acidic. Too bad. Liked this last time. Liked this alot again. Very minerally. the black olive, mineral type of syrah rather than the fruit and chocolate version. But very enjoyable with dinner. Seems like the previously noted village designate makes all the difference. So this time I noticed that the wine is Vieilles Vignes des Cadinieres. Were the last two just the regular St. Gervais or not? Anyhow, at first no noticable nose and little taste - but none of the flaws of the prior two bottles. Then it opened up in the decanter. Would have been better a year or two ago but still nice. Very grenache with a herbaceousnecss coming out after a few hours. Herbs, tea, raspberries and cherries. dark red, some brick<br />N A more red toned nose that the Chusclan, with a charming spiciness and savouryness. A brighter wine on the palate also than the Chusclan with a more red oriented and acidic style, but still with upright tannins. It doesn't seem so ripe and dark as the Chusclan. Ripe but again light on its feet. Very enjoyable. Enjoyed this Grenache blend very much, which is not too perfumed. Red berry and cherry fruit, kept nicely in check by just the right amount of gritty, earthy notes in the midpalate and aftertaste. Light to medium ruby. Leafy nose. Licorice, little fruit, very green profile, and somewhat thin. Unimpressive. I really enjoyed this. Fruity and forward. Very berry. I liked the crunch of acidity and the touch of earth. I think this is a versatile wine, and would appeal to a great deal of drinkers. However, I noted a high toned soapy note, sort of like dish detergent, that I found distracting. This is the only element that keeps this wine from commanding a wholly positive note. This persnickity complaint may be due to my general avoidance (don''t want to say aversion) to Rhone wines not from the north. I have also experienced this sort of perfumey fragrance in the CdP's that my father in law loves. Could be endemic to the species. For all the griping (or belaboring) I would happily drink this many more times.\n",
      "Wine Variant: Grenache Blend, Grenache\n",
      "Thin on the finish and a touch dark. Group #7, My #11 - Full soft red violet color. Big spicy canned red fruit nose - a bit off putting. Awkward tannic black fruit. Just an odd wine from my perspective. Good fruit and spice and a long finish. Black pepper and plum. finally mellowed really nice after decant Outastnding. Ripe, but not overly so. Plenty of complexity. Strawberry, brambles, aromatic herbs, coffee and incense. Long warm finish. This wine stood out as almost over ripe in this tasting. Black cherry, black berry, plum, some garrigue, and earth flavors w/ medium depth. Comes across as very young for an '01 and slightly odd. 90pts on day 2. I'm very surprised by this wine. It started very very oaky, so much that I put the bottle back in the fridge and hope for the best.<br />A week later, still oaky but not to the point of being undrinkable anymore. Very ripe, borderline overripe, raisiny with black fruits and a hint of leather. Full body, nice texture.<br />I was not expected that from this wine and it is somehow a big disappointment. Simple ripe fruit, but finely balanced. Not scored. pretty light for c9dp. in the beginning too herbacious, but later becomes more harmonious. tastes a bit like a 1cru burg. candiy, caramel. sweet. pleasant. but not supergreat not bad. evolving in a pretty strange fashion. tried first bottle 2 years ago and it was not drinkable. green medicine. drank another a year ago - was more like cdp but needed time. now it is turning burgundian! i like the direction of this and will keep trying...\n",
      "Wine Variant: Red Rhone Blend\n",
      "Reduction, roasted black fruit nose; roasted black fruit, tar palate; medium-plus finish Popped and poured. Minerals in the bouquet as well as the taste. A lot of sweetness and a lot of alcohol in the finish. Not really refined. Good red fruit, but nothing interesting. Seems a little subdued.\n",
      "Wine Variant: Durif, Petite Sirah\n",
      "Tart black fruit nose; tart black fruit, tar, pepper palate; medium finish A drinkable quaffer.\n",
      "Wine Variant: Syrah\n",
      "Nondescript black fruit nose; simple black fruit palate; short-medium finish\n",
      "Wine Variant: Zinfandel\n",
      "Still has tannins. Old world flavor with good complexity. Nice bottle of Cabernet Sauvignon. Very nice smell of oak and fruit. Good flavor with an extended finish. Very good CA Cab, a little young still, but very interesting blend of Sonoma and Napa. Smooth finish, good nose, great buy for $11.49 Licorice, black berry, medium complexity with a slight astringent finish. Taste better when paired with food, not a cocktail wine. This is a sleeper. High degree of complexity with layers and layers of rich black fruit, earth, roasted coffee bean, cocoa. Well integrated tannins with a long and dry finish. A beauty and only 20 bones. Very smooth and rich. Test <br />Z/ Pretty nose, milk chocolate, toasted wood, cassis, some damp earth; the Cab Franc integrates nicely. Palate lacks fruit concentration, however, with basic red berry and red currants up front, thin midpalate, with decent late tannins to provide a little structure. 84-85 points. Overpriced at $19. Blackstone 2008 oaky medium light konjam kasha karathu Not bad for the price. Decanted for 60 minutes and paired with beef kabobs. <br />Initial caramel and fig, then black pepper and some spice. Cherry finish that lingers on the palate\n",
      "Wine Variant: Cabernet Sauvignon\n",
      "From 375mL. Medium burgundy colour to pink rim. Aromas of alcohol, candied currant, cherry, cinnamon. Light-bodied, with candied cherry and orange rind. Soft in the mouth. Short, tart finish, 10s, with cherry and cranberry. Nice ruby color. Not much nose, but hints of red fruit and possibly mint/menthol. Beautiful soft round mouthfeel that sets off the nice cherry/red fruit flavours mingled with vanilla. Slight aftertaste of earth. Excellent, fuller-bodied Gamay.\n",
      "Wine Variant: Gamay Noir, Gamay\n",
      "The nose was full of burnt forest, with some licorice and blueberry liqueur. The palate had blackberry and cedar, and finished with some licorice and earth. Decanted for 9 hours. Purple/black in color. No heat at all from this 16.5% wine. Deep brooding nose of cedar, licorice and blackberry which was glorious. To be honest, the flavors did not reach the heights of the nose until the wine had been open for 10 hours. It is amazing how much air time this wine needs. At first, the palate only showed some dark berries along with smooth tannins. At the 10 hour mark, the mouth was AWESOME just like the nose, with wonderful mouth-filling flavors of blackberries and blueberries. A huge but completely balanced wine. I was craving more when we finished the bottle. My impressions of this wine continue to be very positive over the years. It is big, but it has backbone, great fruit, interesting secondary character and a nice mouthfeel. Still seems young but I don't know that holding will pay off much. I've had this a few times and I cannot put my finger on what is going on. The nose is huge and interesting. This is a full-flavored wine that manages to be complex and in my amateur opinion achieves balance. This wine is certainly not for everybody. Not as tasty as I had a year ago. Maybe a bottle variation or I just PnP'd and didn't allow it to get its wind. Minty and full force on the nose. Extracted, rich, almost savory with its full bore power. Massive and unforgiving. This sucker is going to take no prisoners. I don't have all the descriptive verbage but this is an excellent big drinking Shiraz. There is such a huge disparity when you drink wine with friends around a meal rather than with a group of wine drinkers examining wines in a line up. Australian High Alcohol 16+ with dense blue fruits. WOW. Came in that slick three box set. Now I can't drink the second one because I wouldl only have one left Notes from rather foggy memory- drank july '08<br />opened LATE, like late at night, 3 a.m.?<br />- thick, huge blueberry pie. That's what i remember most, massive Blueberry. Great feel, creamy. Can't really remember heat on the nose or in the mouth. Aussie for sure. Can't say mush else. It was great. Left it out in the bottle for a day uncorked, better with more air, day two, still amazing. Comparing it to other aussie shiraz I'd say 96+, prolly won't open other bottle for a couple years... This wine is just amazing. concentrated black and blue fruit power this beast,along with pepper and some oaky accents. Very consistent with other bottles I have previously enjoyed. The bottle took about an hour in the decanter to completely open up, but as with most good reds, kept developing subtle and pleasant changes throughout the evening. Seemed better than the 97 Ornellaia we had the previous night. That says a lot. 2nd bottled to date and this is my favorite Auzzie Shiraz, better than carnival of love and block 6. Blueberries and black raspberries galore. This is a major fruit forward wine with a high alcohol content, yet while drinking this, you don't notice any overwhelming heat, though spices and white pepper. This was heavy, but like a fine liquer made for sipping. I even found this better than the penfolds grange I enjyed earlier this year. A+ This wine was drunk while descending Mt Rainer and tasted like a gift from the Gods, I tasted a toasty blueberry liquer, and like the bottle shows, it's magical in the power of envigorating a worn out climber. Could compete with my favorite Aus wines, like Amery Kay Brothers Block 6, from 2004 or 2005. High alcohol, definitely not for those afraid of some heat. What the hell is this? It's like drinking a Sumo wrestler. Fat, creamy, pruney, peppery blackberry, massive extract, unforgiving bruiser of a wine. Absolutely lacking structure, complexity, & nuance. While enjoyable as a curiosity, this will meet a gruesome end once the fruit starts to mellow. An insult to the winemaking tradition; a hedonistic parkerized McGriddler of a wine and I'm not even a member of the antiflavor elite! $50, 79 points or something. Hard to rate as it has its merits but is certainly not what I would call a 'good' wine. Massive. Needs plenty of air! Menthol or almost eucalyptol on initial nose. After a half hour some mint showed up & then after another hr beautiful red fruit with mint on the nose. Nice complexity on the modest side. Raspberries & cherries up front with mild acidity & tannins. Moderate finish with the longing to have another sip.\n",
      "Wine Variant: Shiraz, Syrah\n",
      "Hard not to rate this up more from the last time but it is still emerging and I need some place to go with the rating. Same red currant on the nose with tiny bite on the roof of the mouth - peppery kind of thing. Decanted for an hour again but this didn't completely open up until more than another hour had passed. Very smooth in the mouth, delicious dark plum/prune kind of thing in the back of the mouth as it slid away with just a tiny touch of licorice. Very nice! Decanted and gave it about an hour and it still needed to open some after that. Red Currant and dark fruit on the nose giving way to gentle tannin and a mouthfull of full dark fruit with a touch of peppery spice. Really good stuff. This is going to just get better. Left bank blend. <br />Aromatics of wet stone, ripe plums and earth tones. Approachable tannins and solid entry on the palate. Not as masculine as a CA CS but still big! Espresso Coffee bean , toast and dark plum on the palate<br />A solid long elegant finish. This wine will cellar for many, many years.\n",
      "Wine Variant: Cabernet Sauvignon\n",
      "Poured at a retailer tasting. Ruby color, with red fruit notes and chewy tannins, finishing with a nice spicy quality. Very enjoyable. A pleasant surprise. I was at my usual wine shoppe when the reps were in talking to the owner. I was at a local restaurant and they had the wine on their list. An excellent Cab! I would highly recommend. One of my favorites! This is a great wine. This was consumed with several dinners over the course of the work week. This is truly a great find for everyday dinner wine. A wonderful QPR. The thing I like the most about this wine is it is ready to drink now, it is fruit forward, and yet it is smooth and has no bitterness or other negative traits. Many more expensive wines cannot live up to its standard. a lot of fruits, quite a bit of tannins, nice and drinkable Fruit-forward, and not complex at all. Very drimkable and enjoyable. So new world; I doubt worth cellaring. We poured this for an open house at our business, most clients not knowledgable in wines, but very well received. Nose of pomegranates (sp?) and red roses. Mouth has flavor of bright berries, sweet cherries. Short finish. No hint of bitterness; no tannins to speak of. Not complex, so if you are in a thinking mood, go elsewhere. Enjoyable and nonthinking mood, very delightful. Expressive cassis and plum aromas. There's some fruit in the center--plum, mostly--with cedar and spice notes in the smooth finish. Not a bold cab, but very drinkable. Soft, oh so soft. Very fruity/juicy and no tannin, no structure. But easily quaffable by itself, no need to age. Cab, Merlot, PV. 18% new oak. $17. A little hot, but it's a bit too warmed. Cedar and plummy, cassis aromas and flavors. Pure, cassis fruit and tobacco on the midpalate. Exceptionally good for the price. Wish we'd purchased more. I t is a good Cab and at BB prices it is a great cab\n",
      "Wine Variant: Cabernet Sauvignon\n",
      "Decanted, not much sediment. Paired with a grilled rib eye steak. Wine was very smooth. Smokey notes along with cranberries and plums. Both tart and sweet on the palate with more red fruit flavors. Great QPR. Would purchase again. Full of ripe red fruit flavors--raspberry, cherry, plum. The nose had a sweet flavor; it reminded me of red twizzlers or cotton candy. Overall a smooth, easy drinking wine. this was delicious. lots of red fruit without being jammy. great balance and went wonderfully with lamb Most fruit already gone. not pleasant drinking. pity....would love to see another small guy succeed.\n",
      "Wine Variant: Merlot Blend, Merlot\n",
      "Awesome Plum and berry flavors, with a bit of smoke and spice. Still, the fruit flavors were a bit muted. Drink now. This wine was a fairly simple Pinot, although pleasing, but not too much to it. Notes of spice and bright cherry. A blend of 25+ year old Pommard and Wadensvil vines (since pulled out in 2009 due to Phyloxera). 25% new French oak<br />Nose of plums and soft earth<br />Flavors coat the palate with a complexity of fruit, earth and spice. Nice integration of wild brambles, spice, earth, and fruit, but also elegant and balanced with a touch of plum sweetness. Very long spicy finish. A blend of 25 + year old pommard and Wadensvil vines (since pulled out in 2009 due to Phyloxera). 25% new french oak with native fermentation. <br />Clear red ruby color with nose of red fruits and dust. Good structure here with good acid, complexity and integrated soft tannin. Silkier earth flavors and a bit chewy with more background red fruit but even greater length of wild brambly earth and red fruits. Quite balanced and long. I think this will age and improve for 5-10 years easy..\n",
      "Wine Variant: Pinot Noir\n",
      "Very solid. Finished 2nd out 5 in our Super Bowl blind tasting. No secret why the reserve comes from this vineyard. Was a very worthy competitor in our tasting; outshone wines of high regard. Would be quite happy with a little aging but actually wasn't tasting too terribly young. The wine looks Purple colored.<br />It smells like Blackberry, and Cherry.<br />It tastes like and Cherry.<br />The body is Medium/Full.<br />The wine finishes Medium. Very dark red violet color; tart plum, roasted black fruit nose; tight, tart black fruit, roasted black fruit palate with medium acidity; needs 2-plus years; medium-plus finish 90+ points Great with simple skirt steak with salt and pepper, plus mushroom with herbs du provence and sunflowers in a blue vase to complete a wonderful family meal.\n",
      "Wine Variant: Syrah\n",
      "I had this bottle at the Epic Roasthouse in San Francisco. This was my third meal of a Napa/San Fran trip and the theme of the restuarnts that I went to was serving the wine way to warm. Unfortunately this wine was served luke warm. The restaurant provided very nice Schott Sweisel stemware but must be keeping thier wine in the kitchen. I think the wine may have been better than my notes but to me this wine seemed a bit green and a bit too oaky. The acid seemed a bit out of wack with the fruit component, which I did like although it had an artichoke component. At GlassHalfull. On opening quite closed but with real rich black fruit. Began to open up fairly quickly adding gamey notes, spice and a bit of eucalyptus. Some tarry, burnt and earthy flavors. Some tannin and the alcohol shows through just the littlest bit. Love this wine, partially because it's such a nice change of pace from heavy, syrupy, and oaky syrahs I've been drinking lately. Focused nose of violet, blackberry, strawberry, meat, forest floor, and pepper. Tart cherry and blackberry on the palate. Lots of juicy acidity -- kind of minerally and chalky. Terrific mouthfeel, spicy, full, but light. It's one of those wines that you just keep sipping until you've realized you're on your fourth glass. True story. Will hold next bottle for awhile to resolve some of the tannins. 90-91 This bottle is deeper and darker than the first one. Some of the freshness is gone but it's still very food friendly. Cherry, meat, violets, lilac, pepper, blackberry, herbs, incense, and a little lavender on the nose. Tart and sweet cherry, black cherry, pepper, flowers, blackberry, and herbs on the palate. Bright acidity. I love how the flowers (violets, lilacs) pick up in the mid palate. Nice finish. Went surprisingly well with a taco salad with black olives. Delicious. 91-92 Dark cherry red color; roasted plum, light berry, olive nose; roasted plum, light pepper, olive palate; medium-plus finish (Durrell clone, with 3% Viognier) Drank at Christmas dinner at the club, had a kind of funky nose, but opened up on the palate. Decent bottle of wine, don't know if I'd pony up the sticker price though... Poured into decanter and started drinking immediately (just try and stop me, wifey!), but drank over the course of the evening.<br /><br />Leather, horse manure, funk, brined olives, and topsoil on the nose.<br />Flavor is similar to taking a giant spoonful of raspberry and black cherry jam and spreading it over a steak au poive. Deep umami mouthfeel..almost soysauce or mushrooms... long finish..balance is spectacular..this is a 13 year old Chinese gymnast at the Olympics.<br /><br />If guy fieri and the maitre d' from Daniel NYC were both bitten by the same radioactive spider and also gained suits of iron and fought evil and also served wine, this would be said wine. Explosive flavor (Guy's \"flavortown\") meets old world sophistication, depth, and class (Daniel NYC). <br /><br />I hate Guy Fieri, but that hair and all of the bracelets and everything. I mean that guy must know fine wine and food, right? Who could go wrong serving \"Donkey sauce\" to friends? But then I go to a place I see on the show by coincidence and alas, I too want to go and buy and 67 SS Camaro and drive it places and spike my hair and talk funny and perpetually wear sunglasses backwards on my head WTF? and stick my fat porcine fingers into the stockpots of innumerable diner waitresses. <br /><br />Likewise, who wants to be the stuck-up, know-it-all, old guard of a maitre d' at Daniel? But then you see the way that he gracefully moves from table to table..a joke here, a smile, noting the gentlemen when needed but never forgetting the ladies. Always, always paying attention to the ladies. And you see the way that these older upper east siders look at him with suspicion and wonder and awe and desire.<br /><br />Moral of the story is that guy and mr maitre d are two of the worlds greatest poonhounds and this wine is too. Pour this wine on your next date. If you dont succeed...you're doing it wrong.<br /><br />Music Medium garnet ruby color. A little cloudy. Nose of fresh raspberries and leather. Palate is red-fruited with an animal funk reminiscent of Beaucastel (in a good way). Finishes with black pepper and a mouth-watering acidity. My wife thought for sure this was French. I'll agree except in that she did not mean it as a compliment! Very nice bottle of wine, drinking well right now.\n",
      "Wine Variant: Syrah\n",
      "This wine was an education for us in many ways. First off, it was our first Claret (but definitely not our last). Second, it was an education in sediment.<br />As for the wine itself, we really enjoyed it. When I first unscrewed the cap, there was a strong and pleasant scent of dark chocolate and cherries. Yum. Later, after the wine had been open for a couple of hours, we also detected a peppery scent overtaking the chocolate.<br />The color was pure garnet and was the only thing about this wine that didn't change over time.<br />When I first tasted the wine and began enjoying the glass, it was before dinner. I tasted a lot of cherry and chocolate, and was pleasantly surprised. I popped a Ghiradelli raspberry chocolate square and the wine only got better. For dinner, we ended up having a citrus pork dish, and the wine did not accent the meal at all. We switched to water. By the time we got back to the wine, the chocolate had receded and we were tasting a lot of pepper. I'm generally turned off by peppery wines, unlike Kev in, but this was softer and I didn't really mind it. By the second night (after properly storing the bottle), we were back to chocolate, but softer, and a little less on the cherry, with very very small amounts of pepper. <br />Interestingly, at the end of the bottle, in our glasses, was a large amount of sediment. We'd never encountered such a large amount of sediment before and I had to do a little research to reassure myself that it was all okay. I can only assume this was an unfiltered wine. Next time, we'll decant first.<br />Overall, we really enjoyed the Claret. It was our first Claret and definitely an interesting introduction. I'll pick up this wine again soon, or at least as soon as we plow through some more of the overwhelming stacks of Reds we have sitting around. ;-) On our own scale of 1-10, we give this an 8.5. Maybe even a 9 for the extra education. Three options with this wine. 1 Decant well, for at least two hours. 2. Open, and leave the wine in the fridge with the stelvin turned back tight for 2-3 days and then drink. 3. Cellar for 2-3 years. Why? Read on. 33% Cabernet Franc, 28% Cabernet Sauvignon, 22% Merlot, 15% Syrah, 1% Grenache and 1% Malbec. Day 1 Not bad. Slightly smokey. Had some cherry, but mostly black fruit and tobacco, etc... Actually, mdstenner's notes are right on. Mine was left in the trunk, so it was technically a little cooked, but it didn't show in the wine. Given that, I'd rate it 83 pts. Light, fruity and balanced, this makes an excellent food wine with fish and chicken. The nose had black currant and plum, mixed with chocolate, nutmeg, and a touch of oak. The palate had raspberry and spice, along with oak and plum. The finish was good. Nice bottle of wine for the money ($12.00)<br />Nice spicey nose with dark fruit forward taste that transitions into a spicey peppery dark complex fruit finish. Yums! Bought two on a whim at Whole Foods, then drank one at the Kahn family dinner. Lives up to its label as dark and complex. Hard to pin down what went into it, but I'll guess a lot of mourvedre and cab franc. Very thick, long finish, on par with a $20 Bordeaux. Drank with Steve, Amy and grandfolks to accompany a lamb roast. Gentle, oaky, with a full, long lasting flavor that paired well with the meal. Everyone's favorite... wish I had a few more bottles. Sweet dark fruit on the nose, lots of toasty oak. Medium body, not a complex wine but not too simple either. Solid and approachable. Good balance. Drank with Dev while watching a movie. Pretty good, but my least favorite offering by Ato Z thus far. Terriffic nose but found it a bit over-oaked and the finish was a bit unbalanced. Other users gave a 15% Syrah percentage; I would have guessed much higher. Not bad and probably would have shown better with food, but probably not really worth trying again when there is so much else out there at this price range.\n",
      "Wine Variant: Red Bordeaux Blend\n",
      "Mature dark red cherry fruit. Quite yummy. I was out of this and a generous friend gave one of his last bottles. It didn't disappoint but I would drink them up over the next six to nine months. This wine was a great surprise. I hadn't tried one in about a year. Well balanced, fruit forward, good acidity, solid finish. Drak cherry and plums. Dark brooding fruit. Cassis and mature black cherry. Decent amount of cedar and tar box. Great QPR. This wine is still holding up nicely. Starting to get more mature flavors of cab fruit Tasty. And despite the community drinking window, plenty of mileage left here.\n",
      "Wine Variant: Cabernet Sauvignon\n",
      "Tasted @ Food Network's 3rd Annual Atlantic City Food & Wine Festival's Grand Market event @ Bally's Casino. Limited production red, which should age nicely. A nose of dark fruits and spice, dark purple in color. A full bodied, still young Cab, decanted for an hour plus, with blackberry, cassis, vanilla and spicy oak, layers of flavor with a long finish. Drinks more like a higher end Napa Cab, great value. www.winelx.com A nose of dark black cherry fruit and spice, dark amber in color. A full bodied and smooth for a very young but delicious Cab, with blackberry, black cherry, and dark cocoa, with a long toasty and spicy finish, decant now but will only improve with age. www.winelx.com\n",
      "Wine Variant: Cabernet Sauvignon\n",
      "Very dark red violet color; ripe cassis, ripe plum, roasted plum nose; tart plum, tart black fruit, oak palate; medium-plus finish 87+ points (85% Cabernet Sauvignon, with Malbec, Cabernet Franc, Petit Verdot and Merlot; 24 mos. in new French oak)\n",
      "Wine Variant: Red Bordeaux Blend\n",
      "TCA on nose and palate It's impolite to urge others to taste something decent and post a note while failing to do so myself. Since the '93s were referenced, here's to doing my part. Full deep purplish garnet color which could have belonged to an '02. Very open nose of deep, dark fruit, violets, wax polish and forest floor. Texture is soft and silky with well-integrated tannins but sucking in a little air with it unleashes bold cherry fruit flavors and real power of those flavors. Real gravitas with wonderful length. Great showing for a 15 yr old 1er cru wine. Could have passd for a GC without skipping a beat! Very fresh black cherry fruits mixed with sous bois notes and a faint note of coffee. Good balance on the palate with medium to medium+ body flavors of red and black cherry fruits that lead to a spicy midpalate and finish. Good resolve and very nice acid balance that keeps the overall feel juicy and energetic. Excellent resolve.\n",
      "Wine Variant: Pinot Noir\n",
      "Very dark red violet color; lifted, violet, tart plum nose; floral, violet, tart plum palate; ready now; medium-plus finish Barrel sample - opaque black red violet color; tar, tart black fruit nose; tar, tart black fruit, sweet herbs, oak palate; needs 4 years; medium-plus finish 88-90 points\n",
      "Wine Variant: Petite Sirah\n",
      "We had some doubts about the 2003 holding up but it is still drinking well. Remarkable to find a wine like this from Oregon Very good. Super soft and rounded with loads of dark fruits and gamey notes. A very balanced wine. Nose is perhaps a bit hotter than the finish. Lots of red fruit on the mid palate with rounded juicy tannins appearing on the finish. A good bottle for the price point. We plan to drink up as this one is not likely to be much better tomorrow. Another beautifully balanced bottle of wine, great mouthfeel and nose. Another one that meets the criteria \"wish we had more of that\". Certainly has not turned the corner yet. Overwhelmed by funk/barnyard/mushroom, eeesh. This was a great Claret that held up well over two nights. Cassis, dark fruits and coffee. On the second night just a touch of prune snuck in. Fine, well integrated tannins. Soft on the nose, with remarkable silky texture, densely purple hue. Juicy berry pie, notes of spice, medium finish. Highly drinkable now. Rich dark fruit nose, sun-dried tomato, dark chocolate and cedar. Some hints of old leaves in there too. Smells pretty good. Medium-to-full bodied. Ripe berry flavors, some plum fruit, dark chocloate, great acidity, relaxed, late-hitting tannin. Decently balanced, with a relaxed approach that doesn't overpower your meal. Fantastic with my ribeye steak. Barely showing age, but still rather primary. Drinking well now but will get more interesting as time goes on. 89+\n",
      "Wine Variant: Red Bordeaux Blend\n",
      "Sorry to be simplistic, but this was just good stuff. Day two when fully opened was a bit barnyardy, but otherwise cherry candy---a lip smacker! dark garnet color; spice, black cherry, and some underbrush on the nose. Serious extraction, as always from this producer---WAIT! I strongly expect this to improve... Drank over two nights. First night was very good - dark berry, pepper & spice. Pretty tannic but not overwhelming. It did not hold up for the second night at all. It tasted like something that tastes a little like red wine. A great red wine for everyday. A pleasing, simple Grenache that exudes primary characteristics of cherry and strawberry to the nose and plum and licorice to the mouth. It's nicely balanced, with good acidity, and provides touches of spice and sweetness in equal measure. A bit simple and lacks depth. Poor QPR  better quality Rhône and Spanish Garnacha is available for half the price. Bing Cherry flavors dominate this food friendly wine.\n",
      "Wine Variant: Grenache\n",
      "Very dark red violet color; sandalwood, tart berry nose; tight, dried berry, tart berry palate; needs 3-4 years; medium-plus finish 91+ points (24 mos. in barrique, 4 years in bottle) I thought we we're going to save this bottle but then came what I could call an \"odd-ball\" tasting. A $90 Tempranillo from Oregon?! That would qualify as odd, I'd say... Opened but no decant for 6 hours, it's essentially the same as my last note. Black cherry, some raspberry, leather, tar, and tannins and then some more tannins! It would still be fun to have one in 2015. After a \"Vinturi decant\" for an hour, this wine appears to be miles from plateau. The color is a deep, dark garnet w/ purple tinges. The nose is moderate and somewhere between a young port and Ribera. The palate is all about deep black fruit and leather. You're sitting there trying to appreciate and name some of the nuances and then the tannins give your palate a kick and say \"sorry, wait a decade!\". About 180 cases produced and it's a non-friendly price point so where do you go? I'll save my second (and last) for a 2005 Bordeaux tasting to be held in 2015 (it'll be a ringer in a blind flight and given the tannin level similarity to the '05 Bordeaux, it MIGHT be a challenge). It reminds me a bit of their 1998 Tempranillo which was perhaps one of the most tannic (non-Tannat) wines I've ever had. Deep, rich, tight wine. Let age several years.\n",
      "Wine Variant: Tempranillo Blend, Tempranillo\n",
      "Still a dark near purple color, it has a nice mix of black fruit and earth tones. As good the next day. Double decanted for 1 hour. Nose is ripe blackberries, tobacco, earth and slight herbal note, possibly basil. On the palate immediately sweet strawberries, tart blackberries leading into a somewhat hollow mid-palate then a wash of tobacco, earth and tannin. The acid and tannin on the end linger for 30 seconds at least and are pleasant. Overall the wine is somewhat off-balance. I would say it is not ready to drink, I would think age would help smooth the tannin and acid and help the flavors integrate. The wine did pair nicely with a medium-rare lamb chop and asparagus. First bottle ever of this wine. At first I was somewhat disappointed. <br />For a new world syrah, it was tight, ungiving, showed nothing on either the nose or palate. So, put in decanter, come back an hour later, and, voila - it had blossomed. Excellent value, and probably has a long life ahead of it. Very cote-rotie-like. For $45 this should be on par with some of the best syrahs in the PNW. Unfortunately, it was not. Bright red and black fruit, baking spices, hint of bacon. I did not get a lot of acidy or structure from this. It seemed one-dimensional to me and lacked minerality. It was smooth drinking, but felt over extracted and missing that je ne sais quoi for the upper end of their portfolio. Tasted at the new tasting room. Deep ruby red in color with good concentration of fruit. Very well balanced wine. This wine is drinking well now. Given a small amount of time this wine opens up even more. Another great example of what Southern Oregon can do with Syrah grapes. This is vintage is very polished. Very well balanced and not too dry.\n",
      "Wine Variant: Syrah\n",
      "Part of a 2001-2004 vertical tasting; ranked #1! We decanted for 3+ hours as suggested. Excellent. Part of a 2001-2004 vertical tasting; ranked 3rd or 4th Part of a 2001-2004 vertical tasting; ranked 3rd or 4th Juicy dark fruit with a hint of chocolate and mocha. It fades a bit with time, perhaps due to its age. Pleasantly lush tannins; Have to confess I fail to detect what the fuss is all about with this one This was a good one. Red berry, smoke/bacon, with a little chocolate on the finish. Nicely balanced. Great fruit and earthiness. Nice QPR as well! Can't beat the mix of fruit, acidity and earth that comes through on the palate. Part of a 2001-2004 vertical tasting; ranked #2 after the 2001 Very good, we really enjoyed, and are glad we have more. It is very smooth, typical \"peppery\" taste of Syrah. Not overly complex, but wouldn't expect at this price point. Paired nicely with steak. Good everyday, and picked up for 30% off, so good value for the price Not at all integrated and the fruit is completely muted. All I get is heat and acid with just a little cassis. Too bad because the nose is sweet with figs, smoke and tar. Perhaps after a day it will develop some more fruit. Rich juicy, jammy dark red fruit and well-integrated oak with a hint of something else like tobacco leaf. Well-balanced and tasty.\n",
      "Wine Variant: Syrah\n",
      "Appealing blackberry, floaty black fruit nose; tasty, deep black fruit, blackberry and smoke palate; medium-plus finish 90+ pts. Very dark ruby color; focused, tart berry, tart black fruit, tar nose; tight, tar, tart black fruit palate; needs 3-plus years; medium-plus finish 90+ points Aromatic, berry, tar, anise nose; tight, tasty, tart black fruit, tart plum palate with good acidity; needs 3-plus years; medium-plus finish (100% French oak for 13 mos., 1 year in bottle) This is the top of the line Tempranillo from Abecela in the Umpqua Valley. This is only their third release of a reserve. The nose is very expressive and quite large consisting of blackberry, leather, lavender, graphite and cedar sawdust. The mouth feel is full with large fruit of black currant with layers of acid, vanilla. The tannin on the finish is firm and numbing with length and character. A wonderful Tempranillo from Southern Oregon. We need more of these at its best with food From a couple of tasters over the course of a night at an event\n",
      "Wine Variant: Tempranillo\n",
      "Amazing wine for its lack of pedigree. Black fruit w/ hints of herbs/brush/tobacco. Nice length and backbone, plenty of time. Bretty, Leathery, anise filled nose. Very dark purple/black. Very young still. Lots of nice bark berry fruits n the palate but its covered up by the brett. still, I love it. medium garnet colour. The nose is very interesting, though a bit bretty. This wine smells like bandol which is a real compliment. Its a bit hot on the palate but the flavor is great. Very rhonelike, provincial herbs, lavender. Very intriguing wine. beautiful purple in color,nose was great with lots of ripe fruit and a hint of truffle. very smooth and well balanced although a little short on the finish. Plum and berry... nice and dry extracted and structured with dusty dark fruit; wood, tannins are well integrated;long finish; needs more time but could be great Need to breathe for at least an hour or so. Nose of violet and a bit of baking spice. Fine tannins, plum and just a slight bit of oak. Very nice.\n",
      "Wine Variant: Tempranillo\n",
      "Dark red in color. The nose on this wine keeps drawing me back with it's mix of raspberries, bacon fat, pepper, oak, vanilla, and anise aromas. Creamy soft in the mouth with an elegant balance of tannins and acid. Flavors of pure raspberries, minerals, black raspberries, pepper, cinnamon and violets all mingle on the palate. Incredibly well made wine. 4.5/5 The nose is pure vanilla, raspberry with light minerals and with time smokey bacon fat. In the mouth the acidity is great with subdued tannins. Flavors of oak, vanilla, and black pepper give way with time to sweet cherry/raspberry, smoke and towards the finish coffee and chocolate flavors. Long finish and a wine that needs some air to fully realize it's potential. 4.5/5 Vino de pago 100% Syrah. The pago stands at about 750 altitude in sandy soil. Inky purple, almost black from the younger vines of the property. The malolactic fermentation in new french oak barrels and the 24 months it spent there gives it an absurdly smooth, creamy texture. Toffee, caramel, late, dark fruit, spices, dark pepper, toasted notes. Great body, excelent tannins, very fine. An unbelievable persistent finish. This wine is a blockbuster. Outstanding caracter, the best of the night. Ruby muito escuro, tons violaceos, limpido. Fruta escura, couro, especiarias. Na boca bom corpo e boa acidez. Taninos macios e boa persistencia. Elegante, complexo. Potencial para evolução. Claramente novo, falta integração da madeira. Café, tostado, cassis, caramelo, especiarias. Leve amargor final. Dos melhores Syrah que já provei. Dark and rich red color to this wine. The nose straight out the bottle shows oaky chocolate notes with rich raspberry and black raspberry aromas. In the mouth this wine has firm tannis that are soft and lush with a palate showing wound up black raspberry, and chocolate espresso notes. Nice wine but needs some air. Day two Color\n",
      "Wine Variant: Syrah\n",
      "Lives up to the expectations of this \"baby Brunello.\" Very solid baby! Predominately earthy on the nose, with some stewed/baked black cherry and \"forest floor\". Medium body, with quite high tannin and med acid. Black cherry with big tobacco on the finish. Finish is lengthy but quite tannic. Very old world. This is not a $20 bottle.... Not a formal tasting. Plum, cherry, vanilla, LOTS of earth. Nice. How this was a suggested to buy - confuses me - really poor This is nice, dark cherry with a touch of dried herb and bitterness\n",
      "Wine Variant: Sangiovese\n",
      "Smell of dark fruit, leather. A bit short on the mid palate, but nice texture.\n",
      "Wine Variant: Grenache\n",
      "Rien à redire Carcassonne 18; 14% abv; 10 months in French oak of which 70% is new. And, no surprise, from such a figure, this is very much oak dominated. The liquorous, sweet and over-ripe fruit vies with the oak for dominance. Sweet, concentrated, liquorous, oaky, plump, confected but with good acidity. The Australian owners seem to have recreated a Barossa clone in the Minervois! If S. Austrian fruit bombs are what you like, this is actually great quality for a very fair price. I prefer to drink something else, however. A clear varietal nose with notes of menthol, olives, wood and smoked meat complementing the baked red and dark fruit.<br />Fullbodied and concentrated on the palate with actually pretty adequate structure to back up the ripe darkish fruit. Menthol, medicinal notes, olives, dark chocolate, liquorice and chewy meatiness. Lengthy.<br />Surprisingly pleasent! This would make for a really nice Barossa Shiraz, but it isn't half bad even as a modern Languedoc wine. Popped and poured, allowed to open up in the glass for some 20 mins. This is a lively garnet red with a violet hue to it. The nose is quite oak dominated, bacon and blood, but bright red fruits are coming through as well. The palate has a bitter grapefruit aspect to the otherwise strong fruit, with some tannins, and leaving a very nice finish of bright red fruits. This is somewhat of a power wine, but with a bit of elegance coming in, it might well calm down into very nice wine. Very good now as well. Carcassonne\n",
      "Wine Variant: Syrah\n",
      "Mainly used this for cooking but it drank pretty well for a ten dollar vacqueras. Ruby red with a light nose of cherry and alcohol. On the palate there is earth and cherries with firm tannins and a short finish. This is simple and straight forward but is pleasureable and gives good quality for the price. Heritage Rhone blend, mostly syrah -- but bigger riper fruit than typical of the region -- reminiscent of a bordeaux blend. Some sour cherry on the nose and a streak of thyme on the palette. Very good wine for the price. Definitely Rhone, although not necessarily like other Vacqueyras I've had. Darker sweeter fruits, pencil shavings, some tobacco. Tastes a little bit like a Chateauneuf-du-pape instead of say Sang des Cailloux. The tannins have resolved nicely. A steal for $12. I wish I had some more. A Grape Expectations import. @ Purple Cafe, Woodinville WA.<br />Medium red colour, opaque with a decent nose. A little rough on the palate since it's quite young - the tannins are quite potent but not overpowering. Quite well-extracted and almost new-world in flavor, lots of black berries, blackcurrants, cherries without any sweetness. Well balanced and smooth going down. The dark fruit is pretty overwhelmed by pepper. Thin mouthfeel. Not a bad wine for price, but not a repeat purchase for me. This wine was ruby/purple in color, dense and clear with signs of glycerol. Nots of white pepper, black cherry, black currant and earth on the nose. Plenty of acidity with drying tannins and a bitter aftertaste. I've had wine from this producer before and liked it. This might be a bad bottle, but there's an overwhelming diaper poo on the nose and palate. It's not brett. Also, this seems riper and more new world than prior wine I've had from this producer. The quality seems more like a Cotes du Rhone. It was priced like a Cotes du Rhone, so I guess the value was there. Just not as good as before. A Grape Expectations import. This is a decent grenache from France. Pretty easy drinking and a good value\n",
      "Wine Variant: Red Rhone Blend\n",
      "Not much fruit or flavor, tasted old vine but without depth. Didn't open up even after a few hours. Not bad, just not good. Tasted side by side with 2000 Margaux Pavillion Rouge and 2001 Caro bordeaux style blends. This was the most rich and aromatic of the group. Dark purple, sweet merlot influenced, blend with long smooth finish. Clearly California style. Would happily drink again, but it was the only bottle of this gem in my cellar and I don't remember how it got there. Very good Still impressive. Tannins very mild. This wine did not change much in 18 months. Absolutely YUMMY! This wine was very smooth with hints of chocolate on the finish. Mild tannins. We opened this bottle to taste prior to a steak dinner and had none left at mealtime. So glad I have another bottle......can't wait to taste next year. I had this wine this summer and loved it. I don't remember what I paid for it, but dont think it was too much. Got alot of fruit and spice wich we really like. I thinks its a zin based wine. Have two more bottles and will drink again next year A nice sipper. Solid aromas that started to tantalize me from 3' away; getting your nose in the glass confirms a nice blend of dark fruit and licorice. Smooth on the palate with few tannins, the fruit and licorice continue in the mount with a little alchohol zing and medium smooth mouthfeel This is a nice wine for sipping in the late evening while surfing wine sites online! very jammy with the classic chocaltey richness of Paso wines FINE's wine Value tasting - Easy drinking smooth tannins Easy drink. Simple but not too boring cherry taste. Good basic table wine Vinegar nose. VA problem. Cherry cough medicine. Reduced. Poor wine making.\n",
      "Wine Variant: Syrah Blend, Syrah\n",
      "Very thick, blackberry flavor. Long finish. range of flavours - earth, wood, plum, black cherry, a bit smoky. Tannins give it some heft. Worth a try. Good body, good flavor. Hints of wood and chocolate. stong woody flavours and aromas Yum. Lots of dark, rich fruit. Gave to Bill Nichols...a client in Benton Harbor Earth and blueberry nose. On palate, softer with red fruit and more blueberries, earth and peppery spice with cool menthol notes mid to finish. Silky tannins feels and long finish. Great wine. Very nice bottle of wine. Smooth, rich fruit flavors but not over the top. Left me wanting more and plan to purchase additional bottles. Fireplace Rondad bartender rec Good everyday wine.\n",
      "Wine Variant: Zinfandel Blend, Zinfandel\n",
      "Purchased on release for $12. I was pleasantly surprised by the amount of juicy plum and blueberry flavor this wine was still exhibiting. No signs of tiring, other than a muted color. Impressive shelf life for a jammy style zin. ($12) Translucent with a clear rim. Slightly cloudy. Nose of strawberry and cranberry and balsam? Along with a little spice. Too much alcohol for the level of fruit perhaps, but not flawed. Nice price, but I think it was a \"clearance\" thing. ($12) Gorgeous blueberry fruit nose - very exuberant. Ripe palate with initial sweetness and blueberry fruit just like the nose. The wine quickly loses cohesion and fades away though. I didn't pick up many secondary flavors, maybe some earth, but I was eating Indian at the time. Fun, inexpensive, short, but great nose. I love blueberry in wine. ($12) Zin's Tasted Blind at Fadi's Deep amber purple. Nose of jammy plum, blackberry, and light smokey oak. med weight, with alcohol noiticeable on the finish. Flavors of pepper, spice, black cherry, vanilla and toast. Nice rich and well balanced. Garnet color. Aroma of bay leaf and black pepper. Hints of chocolate with a bit of berry. Nice balance of tannins and acid. Medium finish.\n",
      "Wine Variant: Zinfandel\n",
      "Not a great wine, but way better the WS would lead you to believe. Fruit is a little bit muted, but dark cherry and blackberry. Good licorice and chocolate tones. Not a huge finish, but good acidity and balanced against a chicken verde. Deeper purple than many Pinots. Good mouth feel. Full of black cherry and oak, with lingering hints of pepper, clove and chocolate. Really reflects the terroir of this vineyard - delightful with grilled salmon. Buy more Good get more Nice, not over-the-top, raspberry and plum fruit, graduating to some baking spice. Not especially complex. Doesn't really remind me of CA or French Pinot. Still, it was a pretty good wine.\n",
      "Wine Variant: Pinot Noir\n",
      "Very nice profile that starts with black cherry fruit shifts to some cola then finishes with an oaky earthiness. Nicely balanced and made a great pairing with clams & chorizo stew. First bottle in a while from Acacia that I can really say I wish I had another couple of them in my cellar. Excellent. Drank with thanksgiving dinner. Very new world, but well balanced. Great nose of rich red fruit and berries. Full bodied with cola and dark berries. Modest aging potential. Look forward to enjoying more over the next few years. Finest bottle from Acacia that we've had. Nice nose of dark berries and cedar. Wonderful mouth feel of cherries and blackberries. Slightly hot and long finish. A good bottle of Pinot with hints of plum and dark berries. Nice earthy tones with a spreadable finish on the back of the tongue. Great bouquet!\n",
      "Wine Variant: Pinot Noir\n",
      "Dark purple red violet color; appealing, lifted, ripe berry, red berry, Satsuma plum nose; very tasty, ripe berry, Satsuma plum, violets, tart black cherry palate; medium-plus finish 92+ points (w/Tempranillo, Merlot and Cabernet Franc) Very dark ruby color; violets, rich plum, black fruit nose; tasty, violets, tart berry, plum palate with integrating French oak; medium-plus finish 92+ points (with Tempranillo, Merlot and Cab Franc)\n",
      "Wine Variant: Malbec\n",
      "This has an incredibly lush mouthfeel and the fruit is very pure. The acidity is in perfect harmony giving this wine an elegant structure. No trace of oak, not sure if it's steel fermented or just perfectly integrated. There isn't A cab this good anywhere in the world for 13$ Popped & poured. Strong dark fruit Hints of pepper - which blinded would have me guessed some zin blend. Moderate tannins suggest to drink sooner, rather than later. Nice legs in glass. Overall very good QPR. Dark fruit, somewhat forward. Integrated tannins, though not completely balanced. Decant for 1 hr. Before then it tasted very acidic. After the hour it opened up and was very YUMMY!\n",
      "Wine Variant: Cabernet Sauvignon\n",
      "Rich, dark reddish purple in color. Nose of ripe black fruit...blackberries, stewey dark plum, and a little bit of a greenish, vegetal component. Palate of big, dark fruit, as well, with that stewey character which was present on the nose. Also, green pepper, vegetal quality, and a mineral quality, reminiscent of petrol/kerosene. Tannins have faded, if they were ever significant...they're soft and round now. The fruit carries on for a fairly long, pleasant finish. Overall impression would be more favorable without that petrol quality, but still mostly pleasant. Dark purple in color. Big wine. Needs to open up. Will be even better in 5 years. Is it worth $65 ... who cares\n",
      "Wine Variant: Red Bordeaux Blend\n",
      "Served at Al Gordon's with Saturday Group. Decanted for about 3 hours. Nice rich nose. Good attack. Not tannic. But here's the rub Limited notes, from memory dark purple; smoky red to blue fruits with touch leather and black tea; dusty more slight chocolate and mint thinning out a bit on the finish. nice mature tasting cali styled bordeaux blend. dark red, beautiful mature nose of cherry, tobacco and cedar; medium bodied elegant seamless wine with nice finish. really really nice and significantly better than last bottle. lots of sediment. Not the best offering from Achaval, given that thier wines didn't really come to form until the '02 vintage. Otherwise, the wine is reminscent of the latest style Quimera blend that they currently bottle. For the price, well worth the effort. Not that impressed. Preferred it upon immediately opening. Definitely has a bit of a S.American flavor profile (e.g. subtle eucalyptis), easily could have confused for a Chilean, despite the malbec. Lots of sentiment at end. Leather and eucalyptus on the nose immediately after opened. Decanted. An hour later, still a bit of leather, but the eucalyptus had faded (still there, but weak). Flavors of tart red cherry -- really not a terribly complex flavor profile. A long finish now, and good mouthfeel - though a bit tannic on the tongue, unclear if this needs to open even further or if there was a bit too much sediment. Ready to drink and we don't think it will improve with age, but we think this could last a bit longer if desired.\n",
      "Wine Variant: Red Bordeaux Blend\n",
      "This wine has a lot more potential than my score, but I wonder if it will achieve its potential. A large-scale efforts with even larger structure (tannins and acidity). It's a very high-altitude wine, so the acidity is not a big surprise, but it's near impenetrability is. This wine a a fair amount of sentiment, which I screened out on the way to the decanter. Even after 8+hours of decanting, it's still pretty stiff and needs more time. Regardless, it has good dark fruit flavors and solid depth of fruit. We'll see it it achieves its potential in a few years. Opaque deep purple appearance. Delivering mixed black fruits, ripe plums, graphite, spices, toast, floral and subtle hints of mint leaf. This is full-bodied and very well structured, developing a beautiful fresh character after some exposure to air. The finish is mouth-coating and very long. There is no rush on this, it still could use a bit of time and your patience will be rewarded. The final blend is composed of 40% Malbec, 22% Merlot, 20% Cabernet Sauvignon, 14% Cabernet Franc, and 4% Petit Verdot (Drink 2014-2023) Dark garnet color with violet overtones and spicy dark fruit, pencil lead,and violet aromas. On the palate approaching full-bodied, intense, layered and young - would benefit from aging - with firm tannins, and black currant, pencil lead, and spice flavors. Medium finish. Bordeaux blend of 40% Malbec, 22% Merlot, 20% Cabernet Sauvignon, 14% Cabernet Franc, and 4% Petit Verdot. The wine was aged in 40% new French oak.<br /><br />www.enofylzwineblog.com\n",
      "Wine Variant: Malbec\n",
      "Delicious nose. Really incredible. Cherry and strawberry and ripe rich luscious red fruits, along with pumpkin spice mix, mint and dust/chalk. THe nose even became darker over time, with more intense, dark fruit aromas. The palate was lighter in mouthfeel than the nose promised. Smooth tannins, chalky, dusty finish of sour cherry. Not a particularly long finish, either. More weight to the mouthfeel and a longer finish would make this a stellar bottle. LOTS OF SEDIMENT. NEED TO DECANT NEXT TIME. decanted about 2-3 hours prior to drinking<br />nose Beautiful nose of plums, cherries and a floral overtones. In the palate ripe cherries, minerals, and lively acidity, but excruciatingly firm and tannic at this stage and in need of many more years of bottle age.\n",
      "Wine Variant: Merlot\n",
      "Did not rate this time, but this is a greater than 90 point wine. Very big and young so will need some time in the bottle to round out. Nose with sweet bright fruit both red and black along with some mocha and oak. Palate is full but a bit tannic and slightly askew on the hind palate which I think is related to youth. I have a hard time giving this wine more than 90. I was very optimistic upon opening. I had heard good things from people I trust on this and found the nose very nice with lots of fruit and some floral, almost some candy on the nose as well. The problem I found was that the palate didn't match the nose, it had a tannic front month feel but a short abrupt finish. I found the lack of a finish very disappointing. On day two after corking the remainder of the bottle(I had decanted for a few hours on day one and poured the remainder back into the bottle) I found the nose to be much more muted and the palate more restrained, still drinkable but still a very abrupt and slight finish. At this price, I expect more. good-ageable, classic, opulant, gripping, and seductive according to my friends Very dark fruit. Tart cherry entry but opened up after 45 minutes. to show vanilla, blackberry and some cherry but the blackberry dominated. Chewy finish with some cocoa.\n",
      "Wine Variant: Cabernet Sauvignon\n",
      "Continues to show the terroir blasting through the fruit. Just wonderful. This is the EPITOME of Walla Walla Syrah. Deep earth...long finish. Great producer of quality juice! Loving it! Big red with lots of fruit up front. Still has much to show with additional time Still like this one. Dried fruit and meaty mixed with earthiness. A good wine - earth, some dried fruit, long finish. Really nicely done. Straight up dark cherries on the nose here. Some nice fruit shows up on the mid palate, but the wine is a bit disjointed toward the finish. A great job by a boutique Washington Winery. Deep earth and juice flows... Really enjoyed this wine. Tasted at the winery a few months ago and it was as good as we remember. Not on the the level of Trust Syrah in terms of Washington Syrahs, but suprisingly good. Nose of Dark Cherry, Blueberry, & Cranberry spiced jam with hints of savory herbs/slight anise. Still slightly young, showing good tannin structure for a syrah. Slightly leaner style of syrah than the full plush style. Quite nice. Max body, but with the typical Walla Walla nose, elegant and supple. Quite gorgeous and well worth the price point. Lots of fruit and could even use a few years in the cellar.\n",
      "Wine Variant: Syrah\n",
      "Decanted about an hour<br /><br />Color - dark and opaque garnet/ruby<br /><br />Nose - tobacco, chocolate, cinnamon<br /><br />Taste - blackberries, black cherries, dark chocolate, hint of licorice, full but dry mouthfeel<br /><br />Big dry finish that is smooth and lingers quite a while a nice cab. good structure. lots of oak Still young. Will age well. Dark berry and tannins. Daniel's Bellevue w MS Drank at Russell's in Bothell along with other wines. This one stood out as top notch Cab with ample backbone, laser focused fruit and precision. Remainder on Sunday still had all the stuffing. Fabulous wine. Beautiful fragrant nose that opens up with lavender, cocoa, baking spices. Mouthfeel proves it's non-filtered wine. Tannins are well integrated and long smooth finish. This wine came a long way in a year since I last tasted. It is now integrated and in balance though still quite young. The nose is beautiful though still a bit alcoholic, but with the smell of chocolate, black fruit and earth. In the mouth, the wine is singing. I have never experienced a wine with so much unsweetened chocolate flavor balanced with deep, ripe blackberries. A real beauty. Now if I can just force myself to wait a couple of years for the next one. While I am certain that this wine will be glorious in its old age, I am equally as certain it will not survive that long. This wine is very, very young but has enormous potential. A menthol and wet earth nose. The wine is dense and powerful - packed with black fruit and espresso flavors, with a tiny hint of chocolate on the finish. It tastes high in alcohol - 14.9% but tastes higher. It's not yet entirely integrated but it seems as if all the components are there for a gorgeous future - 5 years away yet. Very nice, smooth cab. A very nice smooth cab with good fruit and body. Friends and I tasted this at the winery on 7/28/12. It had a deep, dense, layered and smoky bouquet of violet, black currant, leather, cocoa, herb and spice aromas. The palate was rich, ripe, dense and full with flavors of black currant, blueberry, leather, cocoa and spice. 92+\n",
      "Wine Variant: Cabernet Sauvignon\n",
      "100% Cab all from one of the oldest vineyards in WA, Red Willow in Yakima Valley. A spectacular nose on this wine - vanilla, cardamom, perfume, Crème Brule, tobacco, and fig. An array of flavors with this wine including currant, pepper, fig and date. A very well balanced wine, with an excellent tannin structure that will make it a great keeper for a few years. Let open over two hours while Christmas dinner prepared. Once opened up fantastic aromas of plums, cassis, dark cherries, and spice. Cardomom maybe cinnamon, vanilla, caramel after sitting longer. Palate is full and silky with delicate notes too. Amazing mouthfeel unlike anything else I've ever tasted. End is long with plenty of tannins that will sustain this wine for a long time. My last tasting note on this wine was a yeqr and a half ago. I have confirmed the wine is a baby and I must learn restraint. Beautiful nose of cedar and cigar box. Sweet black fruit. So much cigar tobacco, not smoke, on the nose. Fantastically masculine and powerful. Still tannic and muscular though I decanted it a full ten hours before I even started drinking it. The fruit from a year ago seems to be expresing its recessive gene, if that is possible, and the flavors are all oak and tannin and leather. Cassis, but tannic, grippy cassis. I vow to wait on this wine until 2015. Maybe 2013, just to check. This is really quite a remarkable wine. First thing - this wine is at least 3 years away and is likely to be at its best in 10? 15? It is, simply put, an extraordinary wine, providing only glimpses now. I decanted it for four hours before drinking and it needed it. Over the course of two hours in the glass, it developed even more. On the nose, black plum, herbs, minerals and, as the wine developed, violets. The nose had prominent vanilla and the vanilla reappeared, later on, on the finish. In the mouth, the wine is peppery, black plum/black cherry and on the finish cassis - or at least, concentrated blackberry. The minerals also reappeared. The wine has a luxurious mouth feel. Right now it's highly tannic, but the tannins carry the structure and contribute to the remarkable and long (at least 30 seconds) finish. This is an amazing wine - perhaps not Quilceda Creek, as it doesn't have quite the concentration - but it's a third the price! A remarkable achievement. I am feeling very smart about my decision to buy a case based on a barrel sample. inky black in the glass with a slight reddish hue. the nose is massive, with thick blackberries, black cherries, mocha, and just a tinge of heat. so ripe and fruit-forward in the mouth, but layered, dense and complex at the same time. the finish lasts a good 35 seconds and unfolds with new oak, dense black fruits, and amazingly-concentrated wa cab sauv flavors. this is an outstanding wine. Color is dense burgundy. Nose is an amazing velvety fruit , cassis and cherry, with caramel, perfume, sweet cigar and eventual notes of cinnamon and nutmeg. My wife contends she could live inside a glass of this wine until she dies. Mouthfeel is full with same flavors firm tannins and finish lasting a long long time. Rated the '07 at 95 points and this one is better, a new benchmark. Nothing else like it in our cellar and I'm glad to have gotten an allocation pre-release. This will be gone immediately on release.<br /><br />Our Anniversary Dinner wine. Consistent with prior note. Drank with family side by side with 08 Rasa Creative Impulse and 08 JB Neufeld Artz. This was my wine of the night, such a lush gorgeous wine. Wow. Gorgeous aromatics of damp earth, smoke, cigar box and cassis. Hint of vanilla. Impressive depth of flavor with only one discordant note of aggressive acidity, even after 7 hours in decanter. Remarkable wine, but patience is a virtue.\n",
      "Wine Variant: Cabernet Sauvignon\n",
      "Decanted for 2 hours -<br /><br />Dark and inky in color with a mild nose of cherry and tobacco. Rich, dark chocolate dominates a full mouthfeel with deep notes of black cherry. A dry cocoa finish lingers for some time on the back palate.<br /><br />Still a young wine with lots of room to age. Needs a bit of decanting. But wonderful nose (once decanted) and berries on palate. I would drink soon however. This bottle was even better over a 2-day period than the previous bottle. Similar notes a before and as bothellwineguy's note below. Still young. Lots of tannin. Cocoa\n",
      "Wine Variant: Red Bordeaux Blend\n",
      "Young, fruit-forward but lush and very well integrated. A delicious wine. This bottle didn't need a whole lot of decanting and I noticed it was beginning to develop a little bacon fat and cheese on the nose after sitting for about 30 mins. The taste came across as somewhat minerallic with chocolate and ripe black cherries on the palate, followed quickly by some late heat on the finish. <br /><br />While this is an excellent wine that may still be a little on the young side, it comes across as approachable now and paired perfectly tonight with some filet mignon Huge dense nose of red and black fruits, barrel toast and herbs. Palate is forward, rich and chewy. Very much still a baby with primary fruits that coat the mouth. Suave tannins provide grip. A healthy dose of oak complements the rich, creamy fruit. Really like the leafy, tobacco note imparted by the Cab Franc. Needs a couple years to integrate in bottle. Has potential but way too hot. Decanted 90 minutes but still not long enough. 2 years from now will be a 90. Still young and tightly wound on opening. After an hour start to opened up with gorgeous velvety texture and soft deep fruit with multiple layers. Give a couple of hours at least and this wine sings. wow! fruitforward, very smooth, great mouth feel. Unbelievabvle with chocolate! the nose on this was very promising, with creosote, clay dust, hot bricks, and sweet if high-toned cherries. but the mouth was tight as a drum, with tannins that really shut everything down for me and kept the finish from doing anything interesting. the finish was a little bitter and unripe, which was strange since the nose didn't suggest any unripeness. Opened on a Friday early evening - the wine is tight, tannic and unapproachable. I left it decanted overnight in the cellar and drank it 26 hours later. The lengthy decanting provided a glimpse of the future - and what a brilliant future this wine has. Powerful aromas of asphalt, black licorice and flowers. Remarkable concentration with black fruit, tobacco and tar in the mouth. Grippy tannins on the lingering finish. My remaining bottles will be stashed in the corner for a few years. Friends and I tasted this at the winery on 7/28/12. It had a deep, fragrant and smoky bouquet of black currant, cocoa, tobacco, herb and spice aromas. The palate was rich and powerful with flavors that followed the nose. 91+ Yes. Opened this bottle and enjoyed the first half on day one. Letting it open up overnight and expecting even more tomorrow. Tannic? Sure, a little. Look past that and you'll find a lovely wine at a $40 price point.\n",
      "Wine Variant: Red Bordeaux Blend\n",
      "Fantastic wine at a great price! Rich - spicy, blackberry - full bodied. This will improve for 10 years or more. COTA Fairhope dinner Just as per the other entries...this is a well-made and nicely aged Shiraz, balanced and a beaut...tannins fully resolved, but plenty of fruit left...marvelous. We can only hope that the bevy of other Ozzies age as gracefully... Textbook oz Shiraz, abundant black fruit, warm spice, integrated tannin and long finish. Delicious, fully mature but several years ahead. Even better the next day - upgraded by one point. Aromatic and mellow, pretty much consistent with my previous note last year. This venerable shiraz is definitely aging gracefully. Inky black with a slight orange tinge. Spicy nose with nuances of pepper, cumin and menthol. The palate is medium full, smooth and slightly dry with the fruit core still intact. Very different from the typical S. Australian shiraz. Drinking beautifully now but still has the goods to last for another five years or so. Drinking very nicely. Tannins have disappeared. Smooth and spicy with plenty of fruit. The best bottle yet. A bit angular and disconnected initially. After a couple of days this opened out into absolutely delicious shiraz with a remarkable \"cool purity\" on the palate. Suggests this wine still has a long way to go if you're prepared to wait. Deep, intense berry, oak and fruit notes with a hint of sharpness. This can wait another couple of years and will only get better!\n",
      "Wine Variant: Shiraz, Syrah\n",
      "Drank half the bottle with homemade pizza...have been searching in vain for a $15-$20 pizza red and while this didn't blow me away it was the best of the bunchso far...primarily Sangiovese with some Sagrantino this exibited a nose of dark red fruits and fresh earth...light ruby color...nice dark cherry flavor...clean, short finish. Red garnet<br />Aromas of cherries and violet<br />Medium to full bodied. Mid- and end palate og dark stone fruits and black-berries.<br />Pretty lingering Light ruby red<br />Aroma Long taste, I liked the finish at first. Too tanic to be excellent though. First touch to the tongue, always hot and bland. All in all, good. Paid $20US, probably too much. Nose of cherries and spices (nut meg, pepper, cloves). Full bodied, with tannins slightly agressive. Long and warm finish of cherries. Slightly astringent and with a bitter aftertaste. Excellent value for money; paid less than 7 in the Umbria area.\n",
      "Wine Variant: Sangiovese Blend, Sangiovese\n",
      "Showing a clean color and a hint of evolution in the rim, the wine has a very attractive and complex nose. Cherries, Brown spice, a hint of leather and a floral undertone make it very appealing. In the mouth it is well structured with a good level of tannin and acidity and an extremely long finish on those floral undertones. Fantastic and very refined. This estate is located in the town of Bevagna. Oak and bottle aging for 3 years. A DOCG wine made from 100% Sagrantino grapes which are native to and only grown in Umbria. I was impressed by this wine and I think Eno liked it slightly better than I did. It was a deep red color. Firm tannins which lead me to conclude that my remaining bottle will sit until about 2009 to let the tannins settle. Not overly concentrated. Nice balance between the fruit and wood. This wine presented a similar profile as an upper level Sangiovese based wine. Cherry and cassis notes. Medium to full bodied. 91 points. outstanding deep and complex earthy tones are picked up very nice finish not too hot Pure deep garnet with a tiny bit of evolution apparent. Nose is a bit reticent but deep and complex with squash, earth, sweet red fruits and preserves, blood and iodine, some sweet / yeasty notes like pastry and fall spices. Copious but not harsh (though not sweet and too fine grained either) tannins and bracing acidity on the palate support a huge wall of red fruit dominated by red cherries and currants. Some molasses and baking spices in there perhaps as well. Beautiful rusticity comes through with leather, earth and a mild dose of good old farmy funk... finishes long and simultaneously mouth puckering and sweet with tannin, cherry preserves and zippy acidity that aren't quite integrated. This is, like many sagrantinos, hard to pin down but utterly engaging with huge depth and massive structure. A very big wine at 14% abv, this is a rocking experience now but in 3+ years should be sublime. Tannins are largely resolved. Soft and warm and inviting. Red fruits, spices, turned earth and a noticable but not offputting barnyard character. Elegant and integrated palate with a twinge of metallic / shrill metallic brett character that is ever so slightly offputting. Moderate finish. Drinking well now, very enjoyable to me, but to those very brett averse could be offputting. Deep dark color, wonderful subtle earthy nose. elegant, complex, moderate tannins, long finish. still had life. Not as interesting as some Sagrantinos. This one was fairly rustic with rough tannins that may outlive the fruit. There were nice underbrush and licorice notes, as well as good concentration though. I think I opened this one at the right time. The nose on this wine offers dark berries, chocolate, plums, and above all else, MEAT! The flavors of the wine have the same trajectory as the nose On the nose bright red fruit, leather, warm earth, a bit of spice, a hint of toast. Tannic and reasonably primary with perfectly bright but not obtrusive acidity. Clenchingly long finish. Give this 3-4 years and be happy. A tremendous QPR at $27. 90+ now, but if it performs as well or better than the 99 (which I anticipate) it has a LOT of upside. I love it. Hard to describe Nice sagrantino, young at 10 years old, with that dark sagrantino funk, roasted meat and a hint of wild herbs. This has a lot of the good qualitys I like in a sagrantino. There's dark cherry fruit, roasted meat, wild oregano, nice tannin, and a lot of remaining aging potential. Deep ruby red<br />Aromas of cherries and violets<br />Intense bouqet blackberries, dark stone fruits and forrest fruits. Full-bodied and fairly tannic.<br />Lingering and has a great potential This traditional Sagrantino is a real dark wine. Dark garnet red colour; dark nose of black fruit, black spices and liquorice. Medium+ bodied with strong and rough tannins. Long finish of liquorice.<br /><br />Rosso granato scuro ma limpidissimo. Naso inizialmente di frutti neri, liquirizia e spezie dolci. In bocca e di corpo medio sapido, con tannini ancora molto ruvidi. Finale lunghissimo, di radice di liquirizia appena amarognolo. Molto giovane, ha bisogno di affinarsi ancora. Sagrantino di stampo tradizionale. Rosso granato scuro ma limpidissimo. Naso inizialmente chiuso, di fruttini rossi, poi si apre su note di tabacco, cioccolato, liquirizia, spezie dolci. In bocca e di corpo medio sapido, potente, con tannini ancora molto ruvidi. Finale lunghissimo, di radice di liquirizia appena amarognolo. Ancora giovane, ha bisogno di qualche anno ulteriore in bottiglia\n",
      "Wine Variant: Sagrantino\n",
      "(Blend of Cabernet Franc, Merlot, Cabernet Sauvignon and Syrah) - Chocolate and berry nose; tart berry, with good acidity; medium finish (great value at $15 suggested retail) great red wine, it held its own the next day for a finish of the bottle. Bold, yet smooth and went very well with a spicy dish. This bold red wine is great with comfort food. We usually serve it with chili and bread. It is well structured with bold body Black fruit, blue fruit, menthol nose; black fruit, blue fruit, menthol palate; medium finish (43% Syrah, 39% Zinfandel, 13% Petite Sirah, 4% Cabernet Franc, 1% Petit Verdot) A big, yummy, smooth red blend of 43% Syrah, 39% Zinfandel, 13% Petite Sirah, 4% Cabernet Franc, 1% Petit Verdot. Abundant notes of dark chocolate, plum, and black cherry are echoed in the flavors. Goes down VERY easily, so remember it's 15% ABV. For those who like a big, bold red to go with beef stews, burgers, and even spaghetti and meatballs. Dark red violet color; baked black fruit, berry nose; baked black fruit, berry palate; medium-plus finish (55% Dolcetto, 33% Zinfandel, 12% Syrah)\n",
      "Wine Variant: Red Blend\n",
      "A nose of some muted dark fruit, dark garnet in color. A medium bodied red, with cherry, raspberry, and sweet spice finish, average at best. www.winelx.com\n",
      "Wine Variant: Menc&#237;a\n",
      "Deep garnet color. Lots of dark fruit and bright acidity over smooth tannins. Not likely getting any better; probably can easily last another 2-3 years. Soft nose of red berries. Tart berries with a bit of a bite. Not a deep dark Cab but friendly for early easy drinking. <br />\n"
     ]
    },
    {
     "ename": "KeyboardInterrupt",
     "evalue": "",
     "output_type": "error",
     "traceback": [
      "\u001b[0;31m---------------------------------------------------------------------------\u001b[0m",
      "\u001b[0;31mKeyboardInterrupt\u001b[0m                         Traceback (most recent call last)",
      "\u001b[0;32m<ipython-input-25-9f85355016c5>\u001b[0m in \u001b[0;36m<module>\u001b[0;34m()\u001b[0m\n\u001b[1;32m      5\u001b[0m         \u001b[0;32mprint\u001b[0m \u001b[0mreview\u001b[0m\u001b[0;34m[\u001b[0m\u001b[0;36m1\u001b[0m\u001b[0;34m]\u001b[0m\u001b[0;34m\u001b[0m\u001b[0m\n\u001b[1;32m      6\u001b[0m         \u001b[0mvariant\u001b[0m \u001b[0;34m=\u001b[0m \u001b[0mno_year_wines\u001b[0m\u001b[0;34m.\u001b[0m\u001b[0mfind\u001b[0m\u001b[0;34m(\u001b[0m\u001b[0;34m{\u001b[0m\u001b[0;34m'review/text'\u001b[0m\u001b[0;34m:\u001b[0m \u001b[0mreview\u001b[0m\u001b[0;34m[\u001b[0m\u001b[0;36m1\u001b[0m\u001b[0;34m]\u001b[0m\u001b[0;34m}\u001b[0m\u001b[0;34m,\u001b[0m \u001b[0;34m{\u001b[0m\u001b[0;34m'_id'\u001b[0m\u001b[0;34m:\u001b[0m \u001b[0;36m0\u001b[0m\u001b[0;34m,\u001b[0m \u001b[0;34m'wine/variant'\u001b[0m\u001b[0;34m:\u001b[0m \u001b[0;36m1\u001b[0m\u001b[0;34m}\u001b[0m\u001b[0;34m)\u001b[0m\u001b[0;34m\u001b[0m\u001b[0m\n\u001b[0;32m----> 7\u001b[0;31m         \u001b[0;32mprint\u001b[0m \u001b[0;34m'Wine Variant: {0}'\u001b[0m\u001b[0;34m.\u001b[0m\u001b[0mformat\u001b[0m\u001b[0;34m(\u001b[0m\u001b[0mstr\u001b[0m\u001b[0;34m(\u001b[0m\u001b[0mvariant\u001b[0m\u001b[0;34m.\u001b[0m\u001b[0mnext\u001b[0m\u001b[0;34m(\u001b[0m\u001b[0;34m)\u001b[0m\u001b[0;34m[\u001b[0m\u001b[0;34m'wine/variant'\u001b[0m\u001b[0;34m]\u001b[0m\u001b[0;34m)\u001b[0m\u001b[0;34m)\u001b[0m\u001b[0;34m\u001b[0m\u001b[0m\n\u001b[0m",
      "\u001b[0;32m/Users/josephdziados/anaconda/lib/python2.7/site-packages/pymongo/cursor.pyc\u001b[0m in \u001b[0;36mnext\u001b[0;34m(self)\u001b[0m\n\u001b[1;32m    981\u001b[0m             \u001b[0;32mraise\u001b[0m \u001b[0mStopIteration\u001b[0m\u001b[0;34m\u001b[0m\u001b[0m\n\u001b[1;32m    982\u001b[0m         \u001b[0m_db\u001b[0m \u001b[0;34m=\u001b[0m \u001b[0mself\u001b[0m\u001b[0;34m.\u001b[0m\u001b[0m__collection\u001b[0m\u001b[0;34m.\u001b[0m\u001b[0mdatabase\u001b[0m\u001b[0;34m\u001b[0m\u001b[0m\n\u001b[0;32m--> 983\u001b[0;31m         \u001b[0;32mif\u001b[0m \u001b[0mlen\u001b[0m\u001b[0;34m(\u001b[0m\u001b[0mself\u001b[0m\u001b[0;34m.\u001b[0m\u001b[0m__data\u001b[0m\u001b[0;34m)\u001b[0m \u001b[0;32mor\u001b[0m \u001b[0mself\u001b[0m\u001b[0;34m.\u001b[0m\u001b[0m_refresh\u001b[0m\u001b[0;34m(\u001b[0m\u001b[0;34m)\u001b[0m\u001b[0;34m:\u001b[0m\u001b[0;34m\u001b[0m\u001b[0m\n\u001b[0m\u001b[1;32m    984\u001b[0m             \u001b[0;32mif\u001b[0m \u001b[0mself\u001b[0m\u001b[0;34m.\u001b[0m\u001b[0m__manipulate\u001b[0m\u001b[0;34m:\u001b[0m\u001b[0;34m\u001b[0m\u001b[0m\n\u001b[1;32m    985\u001b[0m                 return _db._fix_outgoing(self.__data.popleft(),\n",
      "\u001b[0;32m/Users/josephdziados/anaconda/lib/python2.7/site-packages/pymongo/cursor.pyc\u001b[0m in \u001b[0;36m_refresh\u001b[0;34m(self)\u001b[0m\n\u001b[1;32m    906\u001b[0m                                        \u001b[0mself\u001b[0m\u001b[0;34m.\u001b[0m\u001b[0m__projection\u001b[0m\u001b[0;34m,\u001b[0m\u001b[0;34m\u001b[0m\u001b[0m\n\u001b[1;32m    907\u001b[0m                                        \u001b[0mself\u001b[0m\u001b[0;34m.\u001b[0m\u001b[0m__codec_options\u001b[0m\u001b[0;34m,\u001b[0m\u001b[0;34m\u001b[0m\u001b[0m\n\u001b[0;32m--> 908\u001b[0;31m                                        self.__read_preference))\n\u001b[0m\u001b[1;32m    909\u001b[0m             \u001b[0;32mif\u001b[0m \u001b[0;32mnot\u001b[0m \u001b[0mself\u001b[0m\u001b[0;34m.\u001b[0m\u001b[0m__id\u001b[0m\u001b[0;34m:\u001b[0m\u001b[0;34m\u001b[0m\u001b[0m\n\u001b[1;32m    910\u001b[0m                 \u001b[0mself\u001b[0m\u001b[0;34m.\u001b[0m\u001b[0m__killed\u001b[0m \u001b[0;34m=\u001b[0m \u001b[0mTrue\u001b[0m\u001b[0;34m\u001b[0m\u001b[0m\n",
      "\u001b[0;32m/Users/josephdziados/anaconda/lib/python2.7/site-packages/pymongo/cursor.pyc\u001b[0m in \u001b[0;36m__send_message\u001b[0;34m(self, operation)\u001b[0m\n\u001b[1;32m    811\u001b[0m             \u001b[0;32mtry\u001b[0m\u001b[0;34m:\u001b[0m\u001b[0;34m\u001b[0m\u001b[0m\n\u001b[1;32m    812\u001b[0m                 response = client._send_message_with_response(operation,\n\u001b[0;32m--> 813\u001b[0;31m                                                               **kwargs)\n\u001b[0m\u001b[1;32m    814\u001b[0m                 \u001b[0mself\u001b[0m\u001b[0;34m.\u001b[0m\u001b[0m__address\u001b[0m \u001b[0;34m=\u001b[0m \u001b[0mresponse\u001b[0m\u001b[0;34m.\u001b[0m\u001b[0maddress\u001b[0m\u001b[0;34m\u001b[0m\u001b[0m\n\u001b[1;32m    815\u001b[0m                 \u001b[0;32mif\u001b[0m \u001b[0mself\u001b[0m\u001b[0;34m.\u001b[0m\u001b[0m__exhaust\u001b[0m\u001b[0;34m:\u001b[0m\u001b[0;34m\u001b[0m\u001b[0m\n",
      "\u001b[0;32m/Users/josephdziados/anaconda/lib/python2.7/site-packages/pymongo/mongo_client.pyc\u001b[0m in \u001b[0;36m_send_message_with_response\u001b[0;34m(self, operation, read_preference, exhaust, address)\u001b[0m\n\u001b[1;32m    742\u001b[0m             \u001b[0mset_slave_ok\u001b[0m\u001b[0;34m,\u001b[0m\u001b[0;34m\u001b[0m\u001b[0m\n\u001b[1;32m    743\u001b[0m             \u001b[0mself\u001b[0m\u001b[0;34m.\u001b[0m\u001b[0m__all_credentials\u001b[0m\u001b[0;34m,\u001b[0m\u001b[0;34m\u001b[0m\u001b[0m\n\u001b[0;32m--> 744\u001b[0;31m             exhaust)\n\u001b[0m\u001b[1;32m    745\u001b[0m \u001b[0;34m\u001b[0m\u001b[0m\n\u001b[1;32m    746\u001b[0m     \u001b[0;32mdef\u001b[0m \u001b[0m_reset_on_error\u001b[0m\u001b[0;34m(\u001b[0m\u001b[0mself\u001b[0m\u001b[0;34m,\u001b[0m \u001b[0mserver\u001b[0m\u001b[0;34m,\u001b[0m \u001b[0mfunc\u001b[0m\u001b[0;34m,\u001b[0m \u001b[0;34m*\u001b[0m\u001b[0margs\u001b[0m\u001b[0;34m,\u001b[0m \u001b[0;34m**\u001b[0m\u001b[0mkwargs\u001b[0m\u001b[0;34m)\u001b[0m\u001b[0;34m:\u001b[0m\u001b[0;34m\u001b[0m\u001b[0m\n",
      "\u001b[0;32m/Users/josephdziados/anaconda/lib/python2.7/site-packages/pymongo/mongo_client.pyc\u001b[0m in \u001b[0;36m_reset_on_error\u001b[0;34m(self, server, func, *args, **kwargs)\u001b[0m\n\u001b[1;32m    753\u001b[0m         \"\"\"\n\u001b[1;32m    754\u001b[0m         \u001b[0;32mtry\u001b[0m\u001b[0;34m:\u001b[0m\u001b[0;34m\u001b[0m\u001b[0m\n\u001b[0;32m--> 755\u001b[0;31m             \u001b[0;32mreturn\u001b[0m \u001b[0mfunc\u001b[0m\u001b[0;34m(\u001b[0m\u001b[0;34m*\u001b[0m\u001b[0margs\u001b[0m\u001b[0;34m,\u001b[0m \u001b[0;34m**\u001b[0m\u001b[0mkwargs\u001b[0m\u001b[0;34m)\u001b[0m\u001b[0;34m\u001b[0m\u001b[0m\n\u001b[0m\u001b[1;32m    756\u001b[0m         \u001b[0;32mexcept\u001b[0m \u001b[0mNetworkTimeout\u001b[0m\u001b[0;34m:\u001b[0m\u001b[0;34m\u001b[0m\u001b[0m\n\u001b[1;32m    757\u001b[0m             \u001b[0;31m# The socket has been closed. Don't reset the server.\u001b[0m\u001b[0;34m\u001b[0m\u001b[0;34m\u001b[0m\u001b[0m\n",
      "\u001b[0;32m/Users/josephdziados/anaconda/lib/python2.7/site-packages/pymongo/server.pyc\u001b[0m in \u001b[0;36msend_message_with_response\u001b[0;34m(self, operation, set_slave_okay, all_credentials, exhaust)\u001b[0m\n\u001b[1;32m     86\u001b[0m             \u001b[0mrequest_id\u001b[0m\u001b[0;34m,\u001b[0m \u001b[0mdata\u001b[0m\u001b[0;34m,\u001b[0m \u001b[0mmax_doc_size\u001b[0m \u001b[0;34m=\u001b[0m \u001b[0mself\u001b[0m\u001b[0;34m.\u001b[0m\u001b[0m_split_message\u001b[0m\u001b[0;34m(\u001b[0m\u001b[0mmessage\u001b[0m\u001b[0;34m)\u001b[0m\u001b[0;34m\u001b[0m\u001b[0m\n\u001b[1;32m     87\u001b[0m             \u001b[0msock_info\u001b[0m\u001b[0;34m.\u001b[0m\u001b[0msend_message\u001b[0m\u001b[0;34m(\u001b[0m\u001b[0mdata\u001b[0m\u001b[0;34m,\u001b[0m \u001b[0mmax_doc_size\u001b[0m\u001b[0;34m)\u001b[0m\u001b[0;34m\u001b[0m\u001b[0m\n\u001b[0;32m---> 88\u001b[0;31m             \u001b[0mresponse_data\u001b[0m \u001b[0;34m=\u001b[0m \u001b[0msock_info\u001b[0m\u001b[0;34m.\u001b[0m\u001b[0mreceive_message\u001b[0m\u001b[0;34m(\u001b[0m\u001b[0;36m1\u001b[0m\u001b[0;34m,\u001b[0m \u001b[0mrequest_id\u001b[0m\u001b[0;34m)\u001b[0m\u001b[0;34m\u001b[0m\u001b[0m\n\u001b[0m\u001b[1;32m     89\u001b[0m             \u001b[0;32mif\u001b[0m \u001b[0mexhaust\u001b[0m\u001b[0;34m:\u001b[0m\u001b[0;34m\u001b[0m\u001b[0m\n\u001b[1;32m     90\u001b[0m                 return ExhaustResponse(\n",
      "\u001b[0;32m/Users/josephdziados/anaconda/lib/python2.7/site-packages/pymongo/pool.pyc\u001b[0m in \u001b[0;36mreceive_message\u001b[0;34m(self, operation, request_id)\u001b[0m\n\u001b[1;32m    214\u001b[0m             \u001b[0;32mreturn\u001b[0m \u001b[0mreceive_message\u001b[0m\u001b[0;34m(\u001b[0m\u001b[0mself\u001b[0m\u001b[0;34m.\u001b[0m\u001b[0msock\u001b[0m\u001b[0;34m,\u001b[0m \u001b[0moperation\u001b[0m\u001b[0;34m,\u001b[0m \u001b[0mrequest_id\u001b[0m\u001b[0;34m)\u001b[0m\u001b[0;34m\u001b[0m\u001b[0m\n\u001b[1;32m    215\u001b[0m         \u001b[0;32mexcept\u001b[0m \u001b[0mBaseException\u001b[0m \u001b[0;32mas\u001b[0m \u001b[0merror\u001b[0m\u001b[0;34m:\u001b[0m\u001b[0;34m\u001b[0m\u001b[0m\n\u001b[0;32m--> 216\u001b[0;31m             \u001b[0mself\u001b[0m\u001b[0;34m.\u001b[0m\u001b[0m_raise_connection_failure\u001b[0m\u001b[0;34m(\u001b[0m\u001b[0merror\u001b[0m\u001b[0;34m)\u001b[0m\u001b[0;34m\u001b[0m\u001b[0m\n\u001b[0m\u001b[1;32m    217\u001b[0m \u001b[0;34m\u001b[0m\u001b[0m\n\u001b[1;32m    218\u001b[0m     \u001b[0;32mdef\u001b[0m \u001b[0mlegacy_write\u001b[0m\u001b[0;34m(\u001b[0m\u001b[0mself\u001b[0m\u001b[0;34m,\u001b[0m \u001b[0mrequest_id\u001b[0m\u001b[0;34m,\u001b[0m \u001b[0mmsg\u001b[0m\u001b[0;34m,\u001b[0m \u001b[0mmax_doc_size\u001b[0m\u001b[0;34m,\u001b[0m \u001b[0mwith_last_error\u001b[0m\u001b[0;34m)\u001b[0m\u001b[0;34m:\u001b[0m\u001b[0;34m\u001b[0m\u001b[0m\n",
      "\u001b[0;32m/Users/josephdziados/anaconda/lib/python2.7/site-packages/pymongo/pool.pyc\u001b[0m in \u001b[0;36m_raise_connection_failure\u001b[0;34m(self, error)\u001b[0m\n\u001b[1;32m    314\u001b[0m             \u001b[0m_raise_connection_failure\u001b[0m\u001b[0;34m(\u001b[0m\u001b[0mself\u001b[0m\u001b[0;34m.\u001b[0m\u001b[0maddress\u001b[0m\u001b[0;34m,\u001b[0m \u001b[0merror\u001b[0m\u001b[0;34m)\u001b[0m\u001b[0;34m\u001b[0m\u001b[0m\n\u001b[1;32m    315\u001b[0m         \u001b[0;32melse\u001b[0m\u001b[0;34m:\u001b[0m\u001b[0;34m\u001b[0m\u001b[0m\n\u001b[0;32m--> 316\u001b[0;31m             \u001b[0;32mraise\u001b[0m \u001b[0merror\u001b[0m\u001b[0;34m\u001b[0m\u001b[0m\n\u001b[0m\u001b[1;32m    317\u001b[0m \u001b[0;34m\u001b[0m\u001b[0m\n\u001b[1;32m    318\u001b[0m     \u001b[0;32mdef\u001b[0m \u001b[0m__eq__\u001b[0m\u001b[0;34m(\u001b[0m\u001b[0mself\u001b[0m\u001b[0;34m,\u001b[0m \u001b[0mother\u001b[0m\u001b[0;34m)\u001b[0m\u001b[0;34m:\u001b[0m\u001b[0;34m\u001b[0m\u001b[0m\n",
      "\u001b[0;31mKeyboardInterrupt\u001b[0m: "
     ]
    }
   ],
   "source": [
    "clustered_reviews = zip(km.labels_, new_reviews)\n",
    "\n",
    "for review in clustered_reviews:\n",
    "    if review[0] == 17:\n",
    "        print review[1]\n",
    "        variant = no_year_wines.find({'review/text': review[1]}, {'_id': 0, 'wine/variant': 1})\n",
    "        print 'Wine Variant: {0}'.format(str(variant.next()['wine/variant']))"
   ]
  },
  {
   "cell_type": "code",
   "execution_count": 24,
   "metadata": {
    "collapsed": false
   },
   "outputs": [],
   "source": [
    "red_reviews = df['review/text'][X_reviews[:,1] < 0].values"
   ]
  },
  {
   "cell_type": "code",
   "execution_count": 27,
   "metadata": {
    "collapsed": false
   },
   "outputs": [
    {
     "name": "stdout",
     "output_type": "stream",
     "text": [
      "Shape of resulting tf-idf vectors: (91830, 5539775)\n"
     ]
    }
   ],
   "source": [
    "red_tfidf, red_vectorizer = vectorize_text(red_reviews)"
   ]
  },
  {
   "cell_type": "code",
   "execution_count": 30,
   "metadata": {
    "collapsed": false
   },
   "outputs": [
    {
     "name": "stdout",
     "output_type": "stream",
     "text": [
      "Shape of resulting principal components: (91830, 5)\n"
     ]
    }
   ],
   "source": [
    "red_svd = TruncatedSVD(n_components=5)\n",
    "redX_reviews = red_svd.fit(red_tfidf).transform(red_tfidf)\n",
    "print 'Shape of resulting principal components: {0}'.format(redX_reviews.shape)"
   ]
  },
  {
   "cell_type": "code",
   "execution_count": 31,
   "metadata": {
    "collapsed": true
   },
   "outputs": [
    {
     "name": "stdout",
     "output_type": "stream",
     "text": [
      "Principal Component 1: \n",
      "\n",
      "(u'fruit', u'finish', u'good', u'nice', u'dark', u'palate', u'red', u'cherry', u'tannins', u'medium', u'black', u'great', u'bit', u'little', u'color', u'oak', u'spice', u'notes', u'acidity', u'long', u'like', u'really', u'smooth', u'flavors', u'just', u'balanced', u'better', u'sweet', u'drink', u'fruits', u'light', u'bodied', u'ripe', u'pinot', u'drinking', u'quite', u'big', u'pepper', u'rich', u'balance', u'earth', u'cherries', u'hours', u'plum', u'blackberry', u'taste', u'deep', u'chocolate', u'vanilla', u'red fruit', u'cab', u'decanted', u'price', u'berry', u'tart', u'mouth', u'purple', u'dark fruit', u'ruby', u'lots', u'aromas', u'opened', u'soft', u'body', u'alcohol', u'structure', u'glass', u'raspberry', u'excellent', u'complex', u'long finish', u'leather', u'hint', u'day', u'tasted', u'berries', u'earthy', u'slightly', u'black fruit', u'young', u'nicely', u'tobacco', u'open', u'tannin', u'touch', u'right', u'medium bodied', u'black cherry', u'think', u'syrah', u'spicy', u'cassis', u'tannic', u'food', u'enjoyable', u'pretty', u'bright', u'tasting', u'complexity', u'needs')\n",
      "\n",
      "Principal Component 2: \n",
      "(u'tart', u'medium', u'palate medium', u'plus finish', u'medium plus', u'cherry', u'red', u'plus', u'berry', u'palate', u'color', u'black fruit', u'tart black', u'medium finish', u'tart cherry', u'red violet', u'violet color', u'black', u'violet', u'finish', u'tart red', u'pinot', u'red color', u'tart berry', u'plum', u'tart plum', u'cherry red', u'color tart', u'baked', u'red fruit', u'red berry', u'ruby color', u'ruby', u'berry palate', u'points', u'tart currant', u'berry tart', u'light', u'dark red', u'meniscus', u'medium dark', u'currant', u'cherry tart', u'raspberry', u'pale', u'pale meniscus', u'finish 88', u'color pale', u'pts', u'dark ruby', u'tasty', u'fruit tart', u'ripe', u'black cherry', u'strawberry', u'cherry palate', u'acidity medium', u'plum tart', u'baked cherry', u'fruit palate', u'tasty tart', u'medium cherry', u'finish 90', u'dried', u'currant tart', u'plum palate', u'needs medium', u'berry black', u'acidity', u'88 points', u'palate needs', u'medium red', u'mos', u'medium acidity', u'currant palate', u'cranberry', u'dried berry', u'finish 91', u'dark cherry', u'baked berry', u'88', u'tight tart', u'floral', u'mineral', u'finish 87', u'ripe cherry', u'tart raspberry', u'pinot noir', u'light medium', u'noir', u'ripe berry', u'purple red', u'plum berry', u'ripe currant', u'fruit berry', u'cola', u'medium ruby', u'roasted', u'berry ripe', u'raspberry palate')\n",
      "\n",
      "Principal Component 3: \n",
      "(u'pinot', u'cherry', u'light', u'red', u'pinot noir', u'noir', u'strawberry', u'red fruit', u'acidity', u'cherries', u'earth', u'cola', u'bright', u'spice', u'raspberry', u'pinots', u'burgundy', u'nice', u'earthy', u'oregon', u'sour', u'good', u'cranberry', u'red cherry', u'cherry fruit', u'red fruits', u'bit', u'strawberries', u'red color', u'pn', u'ruby', u'forest', u'tart cherry', u'sour cherry', u'little', u'lovely', u'cherry cola', u'floral', u'cherry red', u'nice pinot', u'fresh', u'floor', u'forest floor', u'oregon pinot', u'cherry strawberry', u'burgundian', u'simple', u'light red', u'cherry raspberry', u'acid', u'pale', u'notes', u'rose', u'funk', u'bright red', u'food', u'pretty', u'quite', u'slightly', u'light medium', u'salmon', u'elegant', u'delicate', u'mushroom', u'light bodied', u'orange', u'clear', u'cherry spice', u'dark cherry', u'good pinot', u'red berries', u'earthiness', u'black cherry', u'raspberries', u'lighter', u'acidic', u'touch', u'pinot fruit', u'darker', u'strawberry cherry', u'cinnamon', u'ruby red', u'weight', u'light ruby', u'flavors', u'cherry flavors', u'bright cherry', u'just', u'cherry palate', u'rrv', u'good acidity', u'pleasant', u'easy', u'mineral', u'like', u'red cherries', u'baking', u'medium bodied', u'rhubarb', u'light color')\n",
      "\n",
      "Principal Component 4: \n",
      "(u'corked', u'red', u'et', u'fruits', u'tannins', u'acidity', u'le', u'lovely', u'en', u'palate', u'la', u'quite', u'hours', u'est', u'young', u'leather', u'mature', u'long', u'colour', u'elegant', u'earth', u'vin', u'une', u'fresh', u'red fruit', u'barolo', u'red fruits', u'showing', u'bordeaux', u'tr\\xe8s', u'notes', u'dried', u'mais', u'rim', u'length', u'tar', u'avec', u'decanted', u'beautiful', u'nez', u'fine', u'bouche', u'tobacco', u'tannic', u'vintage', u'les', u'needs', u'old', u'herbs', u'tannin', u'cherries', u'des', u'burgundy', u'firm', u'bien', u'du', u'peu', u'closed', u'ripe', u'il', u'age', u'floral', u'mineral', u'structure', u'tight', u'intense', u'ce', u'pas', u'slightly', u'ruby', u'pure', u'powerful', u'youthful', u'qui', u'showed', u'nebbiolo', u'brunello', u'que', u'cassis', u'dark red', u'flowers', u'flavours', u'deep', u'classic', u'sur', u'core', u'licorice', u'meat', u'bricking', u'earthy', u'belle', u'au', u'orange', u'dense', u'cru', u'en bouche', u'roses', u'sweet', u'cork', u'minerals')\n",
      "\n",
      "Principal Component 5: \n",
      "(u'corked', u'alcohol', u'pinot', u'zin', u'syrah', u'big', u'pepper', u'black', u'fruit', u'pinot noir', u'spice', u'noir', u'blackberry', u'black fruit', u'jammy', u'heat', u'hot', u'flavors', u'zinfandel', u'like', u'tart', u'fruit forward', u'berry', u'forward', u'shiraz', u'finish', u'blueberry', u'blend', u'cola', u'tart black', u'zins', u'color', u'raspberry', u'flavor', u'dark', u'bomb', u'dark fruit', u'pinots', u'cherry', u'black cherry', u'rich', u'plus finish', u'fruit bomb', u'black pepper', u'palate medium', u'petite', u'high alcohol', u'medium plus', u'oregon', u'little', u'great', u'day', u'winery', u'sirah', u'price', u'bad', u'big fruit', u'badly corked', u'badly', u'15', u'petite sirah', u'california', u'port', u'past prime', u'purple color', u'bold', u'plum', u'past', u've', u'tasty', u'14', u'vanilla', u'smooth', u'peppery', u'purple', u'just', u'better', u'15 alcohol', u'violet color', u'jam', u'strawberry', u'spicy', u'enjoyed', u'aussie', u'prime', u'taste', u'14 alcohol', u'cherry cola', u'dark purple', u'huge', u'fruit spice', u'tastes', u'pn', u'tart berry', u'heavy', u'didn', u'turley', u'inky', u'vineyard', u'nice pinot')\n"
     ]
    }
   ],
   "source": [
    "redmax_ind = red_svd.components_[0].argsort()[-100:][::-1]\n",
    "redmax_ind2 = red_svd.components_[1].argsort()[-100:][::-1]\n",
    "redmax_ind3 = red_svd.components_[2].argsort()[-100:][::-1]\n",
    "redmax_ind4 = red_svd.components_[3].argsort()[-100:][::-1]\n",
    "redmax_ind5 = red_svd.components_[4].argsort()[-100:][::-1]\n",
    "\n",
    "# get feature names from the tf-idf vectorizer\n",
    "redfeat_names = red_vectorizer.get_feature_names()\n",
    "\n",
    "print 'Principal Component 1: '\n",
    "print itemgetter(*redmax_ind)(redfeat_names)\n",
    "print\n",
    "print 'Principal Component 2: '\n",
    "print itemgetter(*redmax_ind2)(redfeat_names)\n",
    "print\n",
    "print 'Principal Component 3: '\n",
    "print itemgetter(*redmax_ind3)(redfeat_names)\n",
    "print\n",
    "print 'Principal Component 4: '\n",
    "print itemgetter(*redmax_ind4)(redfeat_names)\n",
    "print\n",
    "print 'Principal Component 5: '\n",
    "print itemgetter(*redmax_ind5)(redfeat_names)"
   ]
  },
  {
   "cell_type": "markdown",
   "metadata": {},
   "source": [
    "### Topic Modeling"
   ]
  },
  {
   "cell_type": "code",
   "execution_count": 64,
   "metadata": {
    "collapsed": true
   },
   "outputs": [],
   "source": [
    "tags_collection = client.wines.tags_collection"
   ]
  },
  {
   "cell_type": "code",
   "execution_count": 67,
   "metadata": {
    "collapsed": false
   },
   "outputs": [],
   "source": [
    "review_count = review_cursor.count()"
   ]
  },
  {
   "cell_type": "code",
   "execution_count": 68,
   "metadata": {
    "collapsed": true
   },
   "outputs": [],
   "source": [
    "def load_stopwords():\n",
    "    more_stopwords = ['\\'s', 'wine', 'nose', 'br', 'drink', 'year', 'time']\n",
    "    stopwords = {}\n",
    "    with open('stopwords.txt', 'rU') as f:\n",
    "        for line in f:\n",
    "            stopwords[line.strip()] = 1\n",
    "        for char in string.punctuation:\n",
    "            stopwords[char] = 1\n",
    "    for more_words in more_stopwords:\n",
    "        stopwords[more_words] = 1\n",
    "\n",
    "    return stopwords\n",
    "\n",
    "\n",
    "def worker(identifier, skip, count):\n",
    "    done = 0\n",
    "    start = time.time()\n",
    "\n",
    "    stopwords = load_stopwords()\n",
    "\n",
    "    batch_size = 100\n",
    "    for batch in range(0, count, batch_size):\n",
    "        reviews_cursor = no_year_wines.find().skip(skip + batch).limit(batch_size)\n",
    "        for review in reviews_cursor:\n",
    "            words = []\n",
    "            sentences = nltk.sent_tokenize(review[\"review/text\"].lower())\n",
    "\n",
    "            for sentence in sentences:\n",
    "                tokens = nltk.word_tokenize(sentence)\n",
    "                text = [word for word in tokens if word not in stopwords]\n",
    "                tagged_text = nltk.pos_tag(text)\n",
    "\n",
    "                for word, tag in tagged_text:\n",
    "                    words.append({\"word\": word, \"pos\": tag})\n",
    "\n",
    "            tags_collection.insert({\n",
    "                \"wine/name\": review[\"wine/name\"],\n",
    "                \"wine/variant\": review[\"wine/variant\"],\n",
    "                \"review/points\": review['review/points'],\n",
    "                \"review/text\": review[\"review/text\"],\n",
    "                \"words\": words\n",
    "            })\n",
    "\n",
    "            done += 1\n",
    "            if done % 100 == 0:\n",
    "                end = time.time()\n",
    "                print 'Worker' + str(identifier) + ': Done ' + str(done) + ' out of ' + str(count) + ' in ' + (\n",
    "                    \"%.2f\" % (end - start)) + ' sec ~ ' + (\"%.2f\" % (done / (end - start))) + '/sec'\n",
    "                sys.stdout.flush()\n",
    "                \n",
    "def main():\n",
    "    reviews_cursor = no_year_wines.find()\n",
    "    count = reviews_cursor.count()\n",
    "    workers = 3\n",
    "    batch = count / workers\n",
    "    left = count % workers\n",
    "\n",
    "    jobs = []\n",
    "    for i in range(workers):\n",
    "        size = count / workers\n",
    "        if i == (workers - 1):\n",
    "            size += left\n",
    "        p = multiprocessing.Process(target=worker, args=((i + 1), i * batch, size))\n",
    "        jobs.append(p)\n",
    "        p.start()\n",
    "\n",
    "    for j in jobs:\n",
    "        j.join()\n",
    "        print '%s.exitcode = %s' % (j.name, j.exitcode)"
   ]
  },
  {
   "cell_type": "code",
   "execution_count": 69,
   "metadata": {
    "collapsed": true
   },
   "outputs": [
    {
     "name": "stdout",
     "output_type": "stream",
     "text": [
      "Process-1.exitcode = -9\n",
      "Process-2.exitcode = -9Worker3: Done 100 out of 66426 in 12.89 sec ~ 7.76/sec\n",
      "Worker2: Done 100 out of 66426 in 16.17 sec ~ 6.18/sec\n",
      "Worker1: Done 100 out of 66426 in 24.80 sec ~ 4.03/sec\n",
      "Worker3: Done 200 out of 66426 in 34.11 sec ~ 5.86/sec\n",
      "Worker2: Done 200 out of 66426 in 45.53 sec ~ 4.39/sec\n",
      "Worker1: Done 200 out of 66426 in 38.62 sec ~ 5.18/sec\n",
      "Worker3: Done 300 out of 66426 in 41.71 sec ~ 7.19/sec\n",
      "Worker2: Done 300 out of 66426 in 90.65 sec ~ 3.31/sec\n",
      "Worker1: Done 300 out of 66426 in 52.77 sec ~ 5.68/sec\n",
      "Worker3: Done 400 out of 66426 in 45.53 sec ~ 8.79/sec\n",
      "Worker2: Done 400 out of 66426 in 104.30 sec ~ 3.84/sec\n",
      "Worker1: Done 400 out of 66426 in 64.43 sec ~ 6.21/sec\n",
      "Worker3: Done 500 out of 66426 in 50.27 sec ~ 9.95/sec\n",
      "Worker2: Done 500 out of 66426 in 118.15 sec ~ 4.23/sec\n",
      "Worker1: Done 500 out of 66426 in 92.73 sec ~ 5.39/sec\n",
      "Worker3: Done 600 out of 66426 in 67.59 sec ~ 8.88/sec\n",
      "Worker2: Done 600 out of 66426 in 184.38 sec ~ 3.25/sec\n",
      "Worker1: Done 600 out of 66426 in 128.80 sec ~ 4.66/sec\n",
      "Worker3: Done 700 out of 66426 in 78.15 sec ~ 8.96/sec\n",
      "Worker2: Done 700 out of 66426 in 190.74 sec ~ 3.67/sec\n",
      "Worker1: Done 700 out of 66426 in 172.83 sec ~ 4.05/sec\n",
      "Worker3: Done 800 out of 66426 in 84.09 sec ~ 9.51/sec\n",
      "Worker2: Done 800 out of 66426 in 206.46 sec ~ 3.87/sec\n",
      "Worker1: Done 800 out of 66426 in 194.55 sec ~ 4.11/sec\n",
      "Worker3: Done 900 out of 66426 in 94.82 sec ~ 9.49/sec\n",
      "Worker2: Done 900 out of 66426 in 225.84 sec ~ 3.99/sec\n",
      "Worker1: Done 900 out of 66426 in 211.45 sec ~ 4.26/sec\n",
      "Worker3: Done 1000 out of 66426 in 102.84 sec ~ 9.72/sec\n",
      "Worker2: Done 1000 out of 66426 in 236.88 sec ~ 4.22/sec\n",
      "Worker1: Done 1000 out of 66426 in 237.04 sec ~ 4.22/sec\n",
      "Worker3: Done 1100 out of 66426 in 107.86 sec ~ 10.20/sec\n",
      "Worker2: Done 1100 out of 66426 in 245.20 sec ~ 4.49/sec\n",
      "Worker1: Done 1100 out of 66426 in 275.71 sec ~ 3.99/sec\n",
      "Worker3: Done 1200 out of 66426 in 111.64 sec ~ 10.75/sec\n",
      "Worker2: Done 1200 out of 66426 in 272.82 sec ~ 4.40/sec\n",
      "Worker1: Done 1200 out of 66426 in 285.39 sec ~ 4.20/sec\n",
      "Worker3: Done 1300 out of 66426 in 119.98 sec ~ 10.83/sec\n",
      "Worker2: Done 1300 out of 66426 in 282.58 sec ~ 4.60/sec\n",
      "Worker1: Done 1300 out of 66426 in 298.37 sec ~ 4.36/sec\n",
      "Worker3: Done 1400 out of 66426 in 135.59 sec ~ 10.33/sec\n",
      "Worker2: Done 1400 out of 66426 in 296.31 sec ~ 4.72/sec\n",
      "Worker1: Done 1400 out of 66426 in 310.64 sec ~ 4.51/sec\n",
      "Worker3: Done 1500 out of 66426 in 141.57 sec ~ 10.60/sec\n",
      "Worker2: Done 1500 out of 66426 in 311.86 sec ~ 4.81/sec\n",
      "Worker1: Done 1500 out of 66426 in 337.18 sec ~ 4.45/sec\n",
      "Worker3: Done 1600 out of 66426 in 146.12 sec ~ 10.95/sec\n",
      "Worker2: Done 1600 out of 66426 in 351.66 sec ~ 4.55/sec\n",
      "Worker1: Done 1600 out of 66426 in 344.15 sec ~ 4.65/sec\n",
      "Worker3: Done 1700 out of 66426 in 156.34 sec ~ 10.87/sec\n",
      "Worker2: Done 1700 out of 66426 in 360.24 sec ~ 4.72/sec\n",
      "Worker1: Done 1700 out of 66426 in 355.84 sec ~ 4.78/sec\n",
      "Worker3: Done 1800 out of 66426 in 170.61 sec ~ 10.55/sec\n",
      "Worker2: Done 1800 out of 66426 in 379.53 sec ~ 4.74/sec\n",
      "Worker1: Done 1800 out of 66426 in 370.72 sec ~ 4.86/sec\n",
      "Worker3: Done 1900 out of 66426 in 174.33 sec ~ 10.90/sec\n",
      "Worker2: Done 1900 out of 66426 in 394.47 sec ~ 4.82/sec\n",
      "Worker1: Done 1900 out of 66426 in 386.90 sec ~ 4.91/sec\n",
      "Worker3: Done 2000 out of 66426 in 180.50 sec ~ 11.08/sec\n",
      "Worker2: Done 2000 out of 66426 in 425.19 sec ~ 4.70/sec\n",
      "Worker1: Done 2000 out of 66426 in 392.26 sec ~ 5.10/sec\n",
      "Worker3: Done 2100 out of 66426 in 186.59 sec ~ 11.25/sec\n",
      "Worker2: Done 2100 out of 66426 in 462.82 sec ~ 4.54/sec\n",
      "Worker1: Done 2100 out of 66426 in 404.00 sec ~ 5.20/sec\n",
      "Worker3: Done 2200 out of 66426 in 195.28 sec ~ 11.27/sec\n",
      "Worker2: Done 2200 out of 66426 in 497.75 sec ~ 4.42/sec\n",
      "Worker1: Done 2200 out of 66426 in 416.12 sec ~ 5.29/sec\n",
      "Worker3: Done 2300 out of 66426 in 200.96 sec ~ 11.45/sec\n",
      "Worker2: Done 2300 out of 66426 in 516.38 sec ~ 4.45/sec\n",
      "Worker1: Done 2300 out of 66426 in 462.60 sec ~ 4.97/sec\n",
      "Worker3: Done 2400 out of 66426 in 212.09 sec ~ 11.32/sec\n",
      "Worker2: Done 2400 out of 66426 in 578.99 sec ~ 4.15/sec\n",
      "Worker1: Done 2400 out of 66426 in 474.61 sec ~ 5.06/sec\n",
      "Worker3: Done 2500 out of 66426 in 221.05 sec ~ 11.31/sec\n",
      "Worker2: Done 2500 out of 66426 in 588.75 sec ~ 4.25/sec\n",
      "Worker1: Done 2500 out of 66426 in 535.62 sec ~ 4.67/sec\n",
      "Worker3: Done 2600 out of 66426 in 246.52 sec ~ 10.55/sec\n",
      "Worker2: Done 2600 out of 66426 in 604.90 sec ~ 4.30/sec\n",
      "Worker1: Done 2600 out of 66426 in 562.55 sec ~ 4.62/sec\n",
      "Worker3: Done 2700 out of 66426 in 263.75 sec ~ 10.24/sec\n",
      "Worker2: Done 2700 out of 66426 in 621.88 sec ~ 4.34/sec\n",
      "Worker1: Done 2700 out of 66426 in 579.02 sec ~ 4.66/sec\n",
      "Worker3: Done 2800 out of 66426 in 270.18 sec ~ 10.36/sec\n",
      "Worker2: Done 2800 out of 66426 in 645.34 sec ~ 4.34/sec\n",
      "Worker1: Done 2800 out of 66426 in 591.72 sec ~ 4.73/sec\n",
      "Worker3: Done 2900 out of 66426 in 275.60 sec ~ 10.52/sec\n",
      "Worker2: Done 2900 out of 66426 in 821.87 sec ~ 3.53/sec\n",
      "Worker1: Done 2900 out of 66426 in 612.40 sec ~ 4.74/sec\n",
      "Worker3: Done 3000 out of 66426 in 287.63 sec ~ 10.43/sec\n",
      "Worker2: Done 3000 out of 66426 in 831.63 sec ~ 3.61/sec\n",
      "Worker1: Done 3000 out of 66426 in 621.13 sec ~ 4.83/sec\n",
      "Worker3: Done 3100 out of 66426 in 303.45 sec ~ 10.22/sec\n",
      "Worker2: Done 3100 out of 66426 in 840.58 sec ~ 3.69/sec\n",
      "Worker1: Done 3100 out of 66426 in 638.73 sec ~ 4.85/sec\n",
      "Worker3: Done 3200 out of 66426 in 312.36 sec ~ 10.24/sec\n",
      "Worker2: Done 3200 out of 66426 in 850.81 sec ~ 3.76/sec\n",
      "Worker1: Done 3200 out of 66426 in 648.38 sec ~ 4.94/sec\n",
      "Worker3: Done 3300 out of 66426 in 322.37 sec ~ 10.24/sec\n",
      "Worker2: Done 3300 out of 66426 in 860.67 sec ~ 3.83/sec\n",
      "Worker1: Done 3300 out of 66426 in 657.13 sec ~ 5.02/sec\n",
      "Worker3: Done 3400 out of 66426 in 333.49 sec ~ 10.20/sec\n",
      "Worker2: Done 3400 out of 66426 in 868.56 sec ~ 3.91/sec\n",
      "Worker1: Done 3400 out of 66426 in 667.74 sec ~ 5.09/sec\n",
      "Worker3: Done 3500 out of 66426 in 345.95 sec ~ 10.12/sec\n",
      "Worker2: Done 3500 out of 66426 in 881.38 sec ~ 3.97/sec\n",
      "Worker1: Done 3500 out of 66426 in 711.97 sec ~ 4.92/sec\n",
      "Worker3: Done 3600 out of 66426 in 358.04 sec ~ 10.05/sec\n",
      "Worker2: Done 3600 out of 66426 in 909.79 sec ~ 3.96/sec\n",
      "Worker1: Done 3600 out of 66426 in 727.29 sec ~ 4.95/sec\n",
      "Worker3: Done 3700 out of 66426 in 363.07 sec ~ 10.19/sec\n",
      "Worker2: Done 3700 out of 66426 in 927.84 sec ~ 3.99/sec\n",
      "Worker1: Done 3700 out of 66426 in 746.98 sec ~ 4.95/sec\n",
      "Worker3: Done 3800 out of 66426 in 370.73 sec ~ 10.25/sec\n",
      "Worker2: Done 3800 out of 66426 in 948.40 sec ~ 4.01/sec\n",
      "Worker1: Done 3800 out of 66426 in 762.38 sec ~ 4.98/sec\n",
      "Worker3: Done 3900 out of 66426 in 380.63 sec ~ 10.25/sec\n",
      "Worker2: Done 3900 out of 66426 in 955.39 sec ~ 4.08/sec\n",
      "Worker1: Done 3900 out of 66426 in 786.35 sec ~ 4.96/sec\n",
      "Worker3: Done 4000 out of 66426 in 395.64 sec ~ 10.11/sec\n",
      "Worker2: Done 4000 out of 66426 in 987.99 sec ~ 4.05/sec\n",
      "Worker1: Done 4000 out of 66426 in 810.25 sec ~ 4.94/sec\n",
      "Worker3: Done 4100 out of 66426 in 400.57 sec ~ 10.24/sec\n",
      "Worker2: Done 4100 out of 66426 in 996.77 sec ~ 4.11/sec\n",
      "Worker1: Done 4100 out of 66426 in 850.86 sec ~ 4.82/sec\n",
      "Worker3: Done 4200 out of 66426 in 406.26 sec ~ 10.34/sec\n",
      "Worker2: Done 4200 out of 66426 in 1021.69 sec ~ 4.11/sec\n",
      "Worker1: Done 4200 out of 66426 in 886.56 sec ~ 4.74/sec\n",
      "Worker3: Done 4300 out of 66426 in 416.12 sec ~ 10.33/sec\n",
      "Worker2: Done 4300 out of 66426 in 1048.64 sec ~ 4.10/sec\n",
      "Worker1: Done 4300 out of 66426 in 897.98 sec ~ 4.79/sec\n",
      "\n",
      "Process-3.exitcode = -9\n",
      "Worker3: Done 4400 out of 66426 in 420.98 sec ~ 10.45/sec\n",
      "Worker2: Done 4400 out of 66426 in 1055.15 sec ~ 4.17/sec\n",
      "Worker1: Done 4400 out of 66426 in 915.37 sec ~ 4.81/sec\n",
      "Worker3: Done 4500 out of 66426 in 423.95 sec ~ 10.61/sec\n",
      "Worker2: Done 4500 out of 66426 in 1081.59 sec ~ 4.16/sec\n",
      "Worker1: Done 4500 out of 66426 in 934.98 sec ~ 4.81/sec\n",
      "Worker3: Done 4600 out of 66426 in 426.43 sec ~ 10.79/sec\n",
      "Worker2: Done 4600 out of 66426 in 1096.19 sec ~ 4.20/sec\n",
      "Worker1: Done 4600 out of 66426 in 946.00 sec ~ 4.86/sec\n",
      "Worker3: Done 4700 out of 66426 in 441.00 sec ~ 10.66/sec\n",
      "Worker2: Done 4700 out of 66426 in 1114.92 sec ~ 4.22/sec\n",
      "Worker1: Done 4700 out of 66426 in 956.52 sec ~ 4.91/sec\n",
      "Worker3: Done 4800 out of 66426 in 455.89 sec ~ 10.53/sec\n",
      "Worker2: Done 4800 out of 66426 in 1128.70 sec ~ 4.25/sec\n",
      "Worker1: Done 4800 out of 66426 in 972.80 sec ~ 4.93/sec\n",
      "Worker3: Done 4900 out of 66426 in 460.18 sec ~ 10.65/sec\n",
      "Worker2: Done 4900 out of 66426 in 1138.67 sec ~ 4.30/sec\n",
      "Worker1: Done 4900 out of 66426 in 1024.41 sec ~ 4.78/sec\n",
      "Worker3: Done 5000 out of 66426 in 464.50 sec ~ 10.76/sec\n",
      "Worker2: Done 5000 out of 66426 in 1149.81 sec ~ 4.35/sec\n",
      "Worker1: Done 5000 out of 66426 in 1038.85 sec ~ 4.81/sec\n",
      "Worker3: Done 5100 out of 66426 in 469.06 sec ~ 10.87/sec\n",
      "Worker2: Done 5100 out of 66426 in 1168.61 sec ~ 4.36/sec\n",
      "Worker1: Done 5100 out of 66426 in 1049.78 sec ~ 4.86/sec\n",
      "Worker3: Done 5200 out of 66426 in 476.24 sec ~ 10.92/sec\n",
      "Worker2: Done 5200 out of 66426 in 1194.24 sec ~ 4.35/sec\n",
      "Worker1: Done 5200 out of 66426 in 1057.68 sec ~ 4.92/sec\n",
      "Worker3: Done 5300 out of 66426 in 482.28 sec ~ 10.99/sec\n",
      "Worker2: Done 5300 out of 66426 in 1214.60 sec ~ 4.36/sec\n",
      "Worker1: Done 5300 out of 66426 in 1078.42 sec ~ 4.91/sec\n",
      "Worker3: Done 5400 out of 66426 in 489.70 sec ~ 11.03/sec\n",
      "Worker2: Done 5400 out of 66426 in 1223.34 sec ~ 4.41/sec\n",
      "Worker1: Done 5400 out of 66426 in 1121.01 sec ~ 4.82/sec\n",
      "Worker3: Done 5500 out of 66426 in 494.73 sec ~ 11.12/sec\n",
      "Worker2: Done 5500 out of 66426 in 1236.01 sec ~ 4.45/sec\n",
      "Worker1: Done 5500 out of 66426 in 1129.29 sec ~ 4.87/sec\n",
      "Worker3: Done 5600 out of 66426 in 516.52 sec ~ 10.84/sec\n",
      "Worker2: Done 5600 out of 66426 in 1248.33 sec ~ 4.49/sec\n",
      "Worker1: Done 5600 out of 66426 in 1137.75 sec ~ 4.92/sec\n",
      "Worker3: Done 5700 out of 66426 in 528.85 sec ~ 10.78/sec\n",
      "Worker2: Done 5700 out of 66426 in 1262.42 sec ~ 4.52/sec\n",
      "Worker1: Done 5700 out of 66426 in 1148.42 sec ~ 4.96/sec\n",
      "Worker3: Done 5800 out of 66426 in 533.41 sec ~ 10.87/sec\n",
      "Worker2: Done 5800 out of 66426 in 1277.55 sec ~ 4.54/sec\n",
      "Worker1: Done 5800 out of 66426 in 1161.51 sec ~ 4.99/sec\n",
      "Worker3: Done 5900 out of 66426 in 546.49 sec ~ 10.80/sec\n",
      "Worker2: Done 5900 out of 66426 in 1290.88 sec ~ 4.57/sec\n",
      "Worker1: Done 5900 out of 66426 in 1167.87 sec ~ 5.05/sec\n",
      "Worker3: Done 6000 out of 66426 in 551.61 sec ~ 10.88/sec\n",
      "Worker2: Done 6000 out of 66426 in 1300.13 sec ~ 4.61/sec\n",
      "Worker1: Done 6000 out of 66426 in 1195.53 sec ~ 5.02/sec\n",
      "Worker3: Done 6100 out of 66426 in 557.39 sec ~ 10.94/sec\n",
      "Worker1: Done 6100 out of 66426 in 1233.15 sec ~ 4.95/sec\n",
      "Worker3: Done 6200 out of 66426 in 561.42 sec ~ 11.04/sec\n",
      "Worker1: Done 6200 out of 66426 in 1264.41 sec ~ 4.90/sec\n",
      "Worker3: Done 6300 out of 66426 in 574.82 sec ~ 10.96/sec\n",
      "Worker1: Done 6300 out of 66426 in 1276.42 sec ~ 4.94/sec\n",
      "Worker3: Done 6400 out of 66426 in 580.04 sec ~ 11.03/sec\n",
      "Worker3: Done 6500 out of 66426 in 585.56 sec ~ 11.10/sec\n",
      "Worker3: Done 6600 out of 66426 in 599.28 sec ~ 11.01/sec\n",
      "Worker3: Done 6700 out of 66426 in 604.68 sec ~ 11.08/sec\n",
      "Worker3: Done 6800 out of 66426 in 611.94 sec ~ 11.11/sec\n",
      "Worker3: Done 6900 out of 66426 in 646.43 sec ~ 10.67/sec\n",
      "Worker3: Done 7000 out of 66426 in 686.44 sec ~ 10.20/sec\n",
      "Worker3: Done 7100 out of 66426 in 697.55 sec ~ 10.18/sec\n",
      "Worker3: Done 7200 out of 66426 in 709.61 sec ~ 10.15/sec\n",
      "Worker3: Done 7300 out of 66426 in 740.05 sec ~ 9.86/sec\n",
      "Worker3: Done 7400 out of 66426 in 775.13 sec ~ 9.55/sec\n",
      "Worker3: Done 7500 out of 66426 in 798.58 sec ~ 9.39/sec\n",
      "Worker3: Done 7600 out of 66426 in 828.38 sec ~ 9.17/sec\n",
      "Worker3: Done 7700 out of 66426 in 848.70 sec ~ 9.07/sec\n",
      "Worker3: Done 7800 out of 66426 in 869.36 sec ~ 8.97/sec\n",
      "Worker3: Done 7900 out of 66426 in 900.00 sec ~ 8.78/sec\n",
      "Worker3: Done 8000 out of 66426 in 918.60 sec ~ 8.71/sec\n",
      "Worker3: Done 8100 out of 66426 in 932.55 sec ~ 8.69/sec\n",
      "Worker3: Done 8200 out of 66426 in 947.17 sec ~ 8.66/sec\n",
      "Worker3: Done 8300 out of 66426 in 961.14 sec ~ 8.64/sec\n",
      "Worker3: Done 8400 out of 66426 in 977.57 sec ~ 8.59/sec\n",
      "Worker3: Done 8500 out of 66426 in 994.44 sec ~ 8.55/sec\n",
      "Worker3: Done 8600 out of 66426 in 1006.34 sec ~ 8.55/sec\n",
      "Worker3: Done 8700 out of 66426 in 1074.25 sec ~ 8.10/sec\n",
      "Worker3: Done 8800 out of 66426 in 1083.06 sec ~ 8.13/sec\n",
      "Worker3: Done 8900 out of 66426 in 1111.13 sec ~ 8.01/sec\n",
      "Worker3: Done 9000 out of 66426 in 1117.36 sec ~ 8.05/sec\n",
      "Worker3: Done 9100 out of 66426 in 1127.93 sec ~ 8.07/sec\n",
      "Worker3: Done 9200 out of 66426 in 1138.49 sec ~ 8.08/sec\n",
      "Worker3: Done 9300 out of 66426 in 1151.87 sec ~ 8.07/sec\n",
      "Worker3: Done 9400 out of 66426 in 1187.30 sec ~ 7.92/sec\n",
      "Worker3: Done 9500 out of 66426 in 1193.60 sec ~ 7.96/sec\n",
      "Worker3: Done 9600 out of 66426 in 1205.45 sec ~ 7.96/sec\n",
      "Worker3: Done 9700 out of 66426 in 1230.01 sec ~ 7.89/sec\n",
      "Worker3: Done 9800 out of 66426 in 1246.72 sec ~ 7.86/sec\n",
      "Worker3: Done 9900 out of 66426 in 1257.83 sec ~ 7.87/sec\n",
      "Worker3: Done 10000 out of 66426 in 1271.00 sec ~ 7.87/sec\n"
     ]
    }
   ],
   "source": [
    "main()"
   ]
  },
  {
   "cell_type": "code",
   "execution_count": 100,
   "metadata": {
    "collapsed": true
   },
   "outputs": [
    {
     "name": "stdout",
     "output_type": "stream",
     "text": [
      "Worker3: Done 8600 out of 159918 in 730.30 sec ~ 11.78/sec\n",
      "Worker2: Done 8700 out of 159916 in 860.99 sec ~ 10.10/sec\n",
      "Worker1: Done 8700 out of 159916 in 691.54 sec ~ 12.58/sec\n",
      "Worker3: Done 8700 out of 159918 in 738.65 sec ~ 11.78/sec\n",
      "Worker2: Done 8800 out of 159916 in 868.22 sec ~ 10.14/sec\n",
      "Worker1: Done 8800 out of 159916 in 699.59 sec ~ 12.58/sec\n",
      "Worker3: Done 8800 out of 159918 in 744.27 sec ~ 11.82/sec\n",
      "Worker2: Done 8900 out of 159916 in 890.50 sec ~ 9.99/sec\n",
      "Worker1: Done 8900 out of 159916 in 708.04 sec ~ 12.57/sec\n",
      "Worker3: Done 8900 out of 159918 in 752.12 sec ~ 11.83/sec\n",
      "Worker2: Done 9000 out of 159916 in 901.35 sec ~ 9.99/sec\n",
      "Worker1: Done 9000 out of 159916 in 714.51 sec ~ 12.60/sec\n",
      "Worker3: Done 9000 out of 159918 in 761.11 sec ~ 11.82/sec\n",
      "Worker2: Done 9100 out of 159916 in 910.09 sec ~ 10.00/sec\n",
      "Worker1: Done 9100 out of 159916 in 723.78 sec ~ 12.57/sec\n",
      "Worker3: Done 9100 out of 159918 in 774.67 sec ~ 11.75/sec\n",
      "Worker2: Done 9200 out of 159916 in 917.93 sec ~ 10.02/sec\n",
      "Worker1: Done 9200 out of 159916 in 736.11 sec ~ 12.50/sec\n",
      "Worker3: Done 9200 out of 159918 in 785.88 sec ~ 11.71/sec\n",
      "Worker2: Done 9300 out of 159916 in 925.46 sec ~ 10.05/sec\n",
      "Worker1: Done 9300 out of 159916 in 741.86 sec ~ 12.54/sec\n",
      "Worker3: Done 9300 out of 159918 in 793.32 sec ~ 11.72/sec\n",
      "Worker2: Done 9400 out of 159916 in 930.89 sec ~ 10.10/sec\n",
      "Worker1: Done 9400 out of 159916 in 747.63 sec ~ 12.57/sec\n",
      "Worker3: Done 9400 out of 159918 in 802.61 sec ~ 11.71/sec\n",
      "Worker2: Done 9500 out of 159916 in 938.75 sec ~ 10.12/sec\n",
      "Worker1: Done 9500 out of 159916 in 753.52 sec ~ 12.61/sec\n",
      "Worker3: Done 9500 out of 159918 in 814.78 sec ~ 11.66/sec\n",
      "Worker2: Done 9600 out of 159916 in 945.44 sec ~ 10.15/sec\n",
      "Worker1: Done 9600 out of 159916 in 759.36 sec ~ 12.64/sec\n",
      "Worker3: Done 9600 out of 159918 in 829.28 sec ~ 11.58/sec\n",
      "Worker2: Done 9700 out of 159916 in 953.97 sec ~ 10.17/sec\n",
      "Worker1: Done 9700 out of 159916 in 764.40 sec ~ 12.69/sec\n",
      "Worker3: Done 9700 out of 159918 in 834.85 sec ~ 11.62/sec\n",
      "Worker2: Done 9800 out of 159916 in 963.11 sec ~ 10.18/sec\n",
      "Worker1: Done 9800 out of 159916 in 770.77 sec ~ 12.71/sec\n",
      "Worker3: Done 9800 out of 159918 in 845.53 sec ~ 11.59/sec\n",
      "Worker2: Done 9900 out of 159916 in 971.62 sec ~ 10.19/sec\n",
      "Worker1: Done 9900 out of 159916 in 778.23 sec ~ 12.72/sec\n",
      "Worker3: Done 9900 out of 159918 in 852.04 sec ~ 11.62/sec\n",
      "Worker2: Done 10000 out of 159916 in 979.00 sec ~ 10.21/sec\n",
      "Worker1: Done 10000 out of 159916 in 783.68 sec ~ 12.76/sec\n",
      "Worker3: Done 10000 out of 159918 in 862.88 sec ~ 11.59/sec\n",
      "Worker2: Done 10100 out of 159916 in 992.36 sec ~ 10.18/sec\n",
      "Worker1: Done 10100 out of 159916 in 789.52 sec ~ 12.79/sec\n",
      "Worker3: Done 10100 out of 159918 in 871.99 sec ~ 11.58/sec\n",
      "Worker2: Done 10200 out of 159916 in 1003.68 sec ~ 10.16/sec\n",
      "Worker1: Done 10200 out of 159916 in 796.00 sec ~ 12.81/sec\n",
      "Worker3: Done 10200 out of 159918 in 884.62 sec ~ 11.53/sec\n",
      "Worker2: Done 10300 out of 159916 in 1009.48 sec ~ 10.20/sec\n",
      "Worker1: Done 10300 out of 159916 in 807.31 sec ~ 12.76/sec\n",
      "Worker3: Done 10300 out of 159918 in 896.86 sec ~ 11.48/sec\n",
      "Worker2: Done 10400 out of 159916 in 1016.56 sec ~ 10.23/sec\n",
      "Worker1: Done 10400 out of 159916 in 823.35 sec ~ 12.63/sec\n",
      "Worker3: Done 10400 out of 159918 in 904.45 sec ~ 11.50/sec\n",
      "Worker2: Done 10500 out of 159916 in 1024.47 sec ~ 10.25/sec\n",
      "Worker1: Done 10500 out of 159916 in 828.92 sec ~ 12.67/sec\n",
      "Worker3: Done 10500 out of 159918 in 926.24 sec ~ 11.34/sec\n",
      "Worker2: Done 10600 out of 159916 in 1037.38 sec ~ 10.22/sec\n",
      "Worker1: Done 10600 out of 159916 in 835.59 sec ~ 12.69/sec\n",
      "Worker3: Done 10600 out of 159918 in 935.36 sec ~ 11.33/sec\n",
      "Worker2: Done 10700 out of 159916 in 1051.30 sec ~ 10.18/sec\n",
      "Worker1: Done 10700 out of 159916 in 846.51 sec ~ 12.64/sec\n",
      "Worker3: Done 10700 out of 159918 in 949.44 sec ~ 11.27/sec\n",
      "Worker2: Done 10800 out of 159916 in 1070.64 sec ~ 10.09/sec\n",
      "Worker1: Done 10800 out of 159916 in 851.85 sec ~ 12.68/sec\n",
      "Worker3: Done 10800 out of 159918 in 956.50 sec ~ 11.29/sec\n",
      "Worker2: Done 10900 out of 159916 in 1095.14 sec ~ 9.95/sec\n",
      "Worker1: Done 10900 out of 159916 in 861.58 sec ~ 12.65/sec\n",
      "Worker3: Done 10900 out of 159918 in 964.31 sec ~ 11.30/sec\n",
      "Worker2: Done 11000 out of 159916 in 1104.86 sec ~ 9.96/sec\n",
      "Worker1: Done 11000 out of 159916 in 901.56 sec ~ 12.20/sec\n",
      "Worker3: Done 11000 out of 159918 in 974.72 sec ~ 11.29/sec\n",
      "Worker2: Done 11100 out of 159916 in 1131.20 sec ~ 9.81/sec\n",
      "Worker1: Done 11100 out of 159916 in 956.14 sec ~ 11.61/sec\n",
      "Worker3: Done 11100 out of 159918 in 981.52 sec ~ 11.31/sec\n",
      "Worker2: Done 11200 out of 159916 in 1149.74 sec ~ 9.74/sec\n",
      "Worker1: Done 11200 out of 159916 in 981.53 sec ~ 11.41/sec\n",
      "Worker3: Done 11200 out of 159918 in 988.85 sec ~ 11.33/sec\n",
      "Worker2: Done 11300 out of 159916 in 1162.77 sec ~ 9.72/sec\n",
      "Worker1: Done 11300 out of 159916 in 989.23 sec ~ 11.42/sec\n",
      "Worker3: Done 11300 out of 159918 in 997.96 sec ~ 11.32/sec\n",
      "Worker2: Done 11400 out of 159916 in 1174.83 sec ~ 9.70/sec\n",
      "Worker1: Done 11400 out of 159916 in 996.47 sec ~ 11.44/sec\n",
      "Worker3: Done 11400 out of 159918 in 1005.29 sec ~ 11.34/sec\n",
      "Worker2: Done 11500 out of 159916 in 1185.42 sec ~ 9.70/sec\n",
      "Worker1: Done 11500 out of 159916 in 1004.39 sec ~ 11.45/sec\n",
      "Worker3: Done 11500 out of 159918 in 1013.15 sec ~ 11.35/sec\n",
      "Worker2: Done 11600 out of 159916 in 1196.53 sec ~ 9.69/sec\n",
      "Worker1: Done 11600 out of 159916 in 1009.90 sec ~ 11.49/sec\n",
      "Worker3: Done 11600 out of 159918 in 1017.90 sec ~ 11.40/sec\n",
      "Worker2: Done 11700 out of 159916 in 1201.33 sec ~ 9.74/sec\n",
      "Worker1: Done 11700 out of 159916 in 1019.95 sec ~ 11.47/sec\n",
      "Worker3: Done 11700 out of 159918 in 1027.67 sec ~ 11.38/sec\n",
      "Worker2: Done 11800 out of 159916 in 1213.67 sec ~ 9.72/sec\n",
      "Worker1: Done 11800 out of 159916 in 1025.80 sec ~ 11.50/sec\n",
      "Worker3: Done 11800 out of 159918 in 1035.06 sec ~ 11.40/sec\n",
      "Worker2: Done 11900 out of 159916 in 1227.28 sec ~ 9.70/sec\n",
      "Worker1: Done 11900 out of 159916 in 1032.23 sec ~ 11.53/sec\n",
      "Worker3: Done 11900 out of 159918 in 1041.33 sec ~ 11.43/sec\n",
      "Worker2: Done 12000 out of 159916 in 1233.32 sec ~ 9.73/sec\n",
      "Worker1: Done 12000 out of 159916 in 1037.81 sec ~ 11.56/sec\n",
      "Worker3: Done 12000 out of 159918 in 1048.04 sec ~ 11.45/sec\n",
      "Worker2: Done 12100 out of 159916 in 1240.23 sec ~ 9.76/sec\n",
      "Worker1: Done 12100 out of 159916 in 1058.35 sec ~ 11.43/sec\n",
      "Worker3: Done 12100 out of 159918 in 1056.52 sec ~ 11.45/sec\n",
      "Worker2: Done 12200 out of 159916 in 1254.12 sec ~ 9.73/sec\n",
      "Worker1: Done 12200 out of 159916 in 1090.95 sec ~ 11.18/sec\n",
      "Worker3: Done 12200 out of 159918 in 1065.77 sec ~ 11.45/sec\n",
      "Worker2: Done 12300 out of 159916 in 1262.14 sec ~ 9.75/sec\n",
      "Worker1: Done 12300 out of 159916 in 1101.32 sec ~ 11.17/sec\n",
      "Worker3: Done 12300 out of 159918 in 1074.98 sec ~ 11.44/sec\n",
      "Worker2: Done 12400 out of 159916 in 1273.82 sec ~ 9.73/sec\n",
      "Worker1: Done 12400 out of 159916 in 1108.90 sec ~ 11.18/sec\n",
      "Worker3: Done 12400 out of 159918 in 1087.63 sec ~ 11.40/sec\n",
      "Worker2: Done 12500 out of 159916 in 1286.42 sec ~ 9.72/sec\n",
      "Worker1: Done 12500 out of 159916 in 1119.35 sec ~ 11.17/sec\n",
      "Worker3: Done 12500 out of 159918 in 1098.23 sec ~ 11.38/sec\n",
      "Worker2: Done 12600 out of 159916 in 1302.54 sec ~ 9.67/sec\n",
      "Worker1: Done 12600 out of 159916 in 1127.05 sec ~ 11.18/sec\n",
      "Worker3: Done 12600 out of 159918 in 1112.12 sec ~ 11.33/sec\n",
      "Worker2: Done 12700 out of 159916 in 1310.56 sec ~ 9.69/sec\n",
      "Worker1: Done 12700 out of 159916 in 1131.91 sec ~ 11.22/sec\n",
      "Worker3: Done 12700 out of 159918 in 1120.19 sec ~ 11.34/sec\n",
      "Worker2: Done 12800 out of 159916 in 1317.03 sec ~ 9.72/sec\n",
      "Worker1: Done 12800 out of 159916 in 1136.34 sec ~ 11.26/sec\n",
      "Worker3: Done 12800 out of 159918 in 1129.10 sec ~ 11.34/sec\n",
      "Worker2: Done 12900 out of 159916 in 1323.47 sec ~ 9.75/sec\n",
      "Worker1: Done 12900 out of 159916 in 1145.84 sec ~ 11.26/sec\n",
      "Worker3: Done 12900 out of 159918 in 1141.22 sec ~ 11.30/sec\n",
      "Worker2: Done 13000 out of 159916 in 1333.50 sec ~ 9.75/sec\n",
      "Worker1: Done 13000 out of 159916 in 1152.79 sec ~ 11.28/sec\n",
      "Worker3: Done 13000 out of 159918 in 1151.56 sec ~ 11.29/sec\n",
      "Worker2: Done 13100 out of 159916 in 1362.47 sec ~ 9.61/sec\n",
      "Worker1: Done 13100 out of 159916 in 1157.58 sec ~ 11.32/sec\n",
      "Worker3: Done 13100 out of 159918 in 1160.05 sec ~ 11.29/sec\n",
      "Worker2: Done 13200 out of 159916 in 1373.48 sec ~ 9.61/sec\n",
      "Worker1: Done 13200 out of 159916 in 1163.39 sec ~ 11.35/sec\n",
      "Worker3: Done 13200 out of 159918 in 1169.85 sec ~ 11.28/sec\n",
      "Worker2: Done 13300 out of 159916 in 1382.85 sec ~ 9.62/sec\n",
      "Worker1: Done 13300 out of 159916 in 1171.90 sec ~ 11.35/sec\n",
      "Worker3: Done 13300 out of 159918 in 1183.45 sec ~ 11.24/sec\n",
      "Worker2: Done 13400 out of 159916 in 1394.28 sec ~ 9.61/sec\n",
      "Worker1: Done 13400 out of 159916 in 1178.54 sec ~ 11.37/sec\n",
      "Worker3: Done 13400 out of 159918 in 1193.01 sec ~ 11.23/sec\n",
      "Worker2: Done 13500 out of 159916 in 1406.09 sec ~ 9.60/sec\n",
      "Worker1: Done 13500 out of 159916 in 1185.89 sec ~ 11.38/sec\n",
      "Worker3: Done 13500 out of 159918 in 1200.35 sec ~ 11.25/sec\n",
      "Worker2: Done 13600 out of 159916 in 1416.03 sec ~ 9.60/sec\n",
      "Worker1: Done 13600 out of 159916 in 1191.15 sec ~ 11.42/sec\n",
      "Worker3: Done 13600 out of 159918 in 1207.67 sec ~ 11.26/sec\n",
      "Worker2: Done 13700 out of 159916 in 1423.63 sec ~ 9.62/sec\n",
      "Worker1: Done 13700 out of 159916 in 1200.03 sec ~ 11.42/sec\n",
      "Worker3: Done 13700 out of 159918 in 1211.98 sec ~ 11.30/sec\n",
      "Worker2: Done 13800 out of 159916 in 1431.88 sec ~ 9.64/sec\n",
      "Worker1: Done 13800 out of 159916 in 1206.00 sec ~ 11.44/sec\n",
      "Worker3: Done 13800 out of 159918 in 1216.30 sec ~ 11.35/sec\n",
      "Worker2: Done 13900 out of 159916 in 1452.18 sec ~ 9.57/sec\n",
      "Worker1: Done 13900 out of 159916 in 1225.60 sec ~ 11.34/sec\n",
      "Worker3: Done 13900 out of 159918 in 1232.90 sec ~ 11.27/sec\n",
      "Worker2: Done 14000 out of 159916 in 1470.20 sec ~ 9.52/sec\n",
      "Worker1: Done 14000 out of 159916 in 1258.54 sec ~ 11.12/sec\n",
      "Worker3: Done 14000 out of 159918 in 1239.61 sec ~ 11.29/sec\n",
      "Worker2: Done 14100 out of 159916 in 1478.80 sec ~ 9.53/sec\n",
      "Worker1: Done 14100 out of 159916 in 1277.01 sec ~ 11.04/sec\n",
      "Worker3: Done 14100 out of 159918 in 1248.70 sec ~ 11.29/sec\n",
      "Worker2: Done 14200 out of 159916 in 1494.96 sec ~ 9.50/sec\n",
      "Worker1: Done 14200 out of 159916 in 1284.09 sec ~ 11.06/sec\n",
      "Worker3: Done 14200 out of 159918 in 1257.55 sec ~ 11.29/sec\n",
      "Worker2: Done 14300 out of 159916 in 1514.46 sec ~ 9.44/sec\n",
      "Worker1: Done 14300 out of 159916 in 1293.81 sec ~ 11.05/sec\n",
      "Worker3: Done 14300 out of 159918 in 1267.33 sec ~ 11.28/sec\n",
      "Worker2: Done 14400 out of 159916 in 1532.69 sec ~ 9.40/sec\n",
      "Worker1: Done 14400 out of 159916 in 1302.98 sec ~ 11.05/sec\n",
      "Worker3: Done 14400 out of 159918 in 1277.36 sec ~ 11.27/sec\n",
      "Worker2: Done 14500 out of 159916 in 1548.35 sec ~ 9.36/sec\n",
      "Worker1: Done 14500 out of 159916 in 1317.90 sec ~ 11.00/sec\n",
      "Worker3: Done 14500 out of 159918 in 1292.53 sec ~ 11.22/sec\n",
      "Worker2: Done 14600 out of 159916 in 1570.20 sec ~ 9.30/sec\n",
      "Worker1: Done 14600 out of 159916 in 1332.65 sec ~ 10.96/sec\n",
      "Worker3: Done 14600 out of 159918 in 1303.31 sec ~ 11.20/sec\n",
      "Worker2: Done 14700 out of 159916 in 1586.75 sec ~ 9.26/sec\n",
      "Worker1: Done 14700 out of 159916 in 1342.05 sec ~ 10.95/sec\n",
      "Worker3: Done 14700 out of 159918 in 1313.59 sec ~ 11.19/sec\n",
      "Worker2: Done 14800 out of 159916 in 1610.61 sec ~ 9.19/sec\n",
      "Worker1: Done 14800 out of 159916 in 1352.36 sec ~ 10.94/sec\n",
      "Worker3: Done 14800 out of 159918 in 1325.63 sec ~ 11.16/sec\n",
      "Worker2: Done 14900 out of 159916 in 1625.65 sec ~ 9.17/sec\n",
      "Worker1: Done 14900 out of 159916 in 1359.56 sec ~ 10.96/sec\n",
      "Worker3: Done 14900 out of 159918 in 1332.89 sec ~ 11.18/sec\n",
      "Worker2: Done 15000 out of 159916 in 1639.65 sec ~ 9.15/sec\n",
      "Worker1: Done 15000 out of 159916 in 1370.92 sec ~ 10.94/sec\n",
      "Worker3: Done 15000 out of 159918 in 1344.15 sec ~ 11.16/sec\n",
      "Worker2: Done 15100 out of 159916 in 1670.83 sec ~ 9.04/sec\n",
      "Worker1: Done 15100 out of 159916 in 1382.38 sec ~ 10.92/sec\n",
      "Worker3: Done 15100 out of 159918 in 1360.92 sec ~ 11.10/sec\n",
      "Worker2: Done 15200 out of 159916 in 1684.96 sec ~ 9.02/sec\n",
      "Worker1: Done 15200 out of 159916 in 1398.08 sec ~ 10.87/sec\n",
      "Worker3: Done 15200 out of 159918 in 1377.62 sec ~ 11.03/sec\n",
      "Worker2: Done 15300 out of 159916 in 1701.45 sec ~ 8.99/sec\n",
      "Worker1: Done 15300 out of 159916 in 1407.57 sec ~ 10.87/sec\n",
      "Worker3: Done 15300 out of 159918 in 1390.90 sec ~ 11.00/sec\n",
      "Worker2: Done 15400 out of 159916 in 1724.14 sec ~ 8.93/sec\n",
      "Worker1: Done 15400 out of 159916 in 1417.46 sec ~ 10.86/sec\n",
      "Worker3: Done 15400 out of 159918 in 1398.88 sec ~ 11.01/sec\n",
      "Worker2: Done 15500 out of 159916 in 1731.42 sec ~ 8.95/sec\n",
      "Worker1: Done 15500 out of 159916 in 1425.92 sec ~ 10.87/sec\n",
      "Worker3: Done 15500 out of 159918 in 1406.95 sec ~ 11.02/sec\n",
      "Worker2: Done 15600 out of 159916 in 1738.52 sec ~ 8.97/sec\n",
      "Worker1: Done 15600 out of 159916 in 1451.74 sec ~ 10.75/sec\n",
      "Worker3: Done 15600 out of 159918 in 1413.84 sec ~ 11.03/sec\n",
      "Worker2: Done 15700 out of 159916 in 1747.65 sec ~ 8.98/sec\n",
      "Worker1: Done 15700 out of 159916 in 1489.04 sec ~ 10.54/sec\n",
      "Worker3: Done 15700 out of 159918 in 1423.42 sec ~ 11.03/sec\n",
      "Worker2: Done 15800 out of 159916 in 1757.60 sec ~ 8.99/sec\n",
      "Worker1: Done 15800 out of 159916 in 1539.60 sec ~ 10.26/sec\n",
      "Worker3: Done 15800 out of 159918 in 1444.69 sec ~ 10.94/sec\n",
      "Worker2: Done 15900 out of 159916 in 1764.76 sec ~ 9.01/sec\n",
      "Worker1: Done 15900 out of 159916 in 1547.00 sec ~ 10.28/sec\n",
      "Worker3: Done 15900 out of 159918 in 1454.18 sec ~ 10.93/sec\n",
      "Worker2: Done 16000 out of 159916 in 1778.03 sec ~ 9.00/sec\n",
      "Worker1: Done 16000 out of 159916 in 1554.41 sec ~ 10.29/sec\n",
      "Worker3: Done 16000 out of 159918 in 1468.61 sec ~ 10.89/sec\n",
      "Worker2: Done 16100 out of 159916 in 1796.64 sec ~ 8.96/sec\n",
      "Worker1: Done 16100 out of 159916 in 1563.72 sec ~ 10.30/sec\n",
      "Worker3: Done 16100 out of 159918 in 1475.78 sec ~ 10.91/sec\n",
      "Worker2: Done 16200 out of 159916 in 1811.63 sec ~ 8.94/sec\n",
      "Worker1: Done 16200 out of 159916 in 1571.44 sec ~ 10.31/sec\n",
      "Worker3: Done 16200 out of 159918 in 1485.45 sec ~ 10.91/sec\n",
      "Worker2: Done 16300 out of 159916 in 1818.43 sec ~ 8.96/sec\n",
      "Worker1: Done 16300 out of 159916 in 1580.98 sec ~ 10.31/sec\n",
      "Worker3: Done 16300 out of 159918 in 1495.53 sec ~ 10.90/sec\n",
      "Worker2: Done 16400 out of 159916 in 1831.20 sec ~ 8.96/sec\n",
      "Worker1: Done 16400 out of 159916 in 1591.94 sec ~ 10.30/sec\n",
      "Worker3: Done 16400 out of 159918 in 1505.71 sec ~ 10.89/sec\n",
      "Worker2: Done 16500 out of 159916 in 1842.53 sec ~ 8.96/sec\n",
      "Worker1: Done 16500 out of 159916 in 1600.90 sec ~ 10.31/sec\n",
      "Worker3: Done 16500 out of 159918 in 1513.03 sec ~ 10.91/sec\n",
      "Worker2: Done 16600 out of 159916 in 1857.49 sec ~ 8.94/sec\n",
      "Worker1: Done 16600 out of 159916 in 1608.01 sec ~ 10.32/sec\n",
      "Worker3: Done 16600 out of 159918 in 1519.20 sec ~ 10.93/sec\n",
      "Worker2: Done 16700 out of 159916 in 1881.77 sec ~ 8.87/sec\n",
      "Worker1: Done 16700 out of 159916 in 1617.03 sec ~ 10.33/sec\n",
      "Worker3: Done 16700 out of 159918 in 1531.10 sec ~ 10.91/sec\n",
      "Worker2: Done 16800 out of 159916 in 1898.67 sec ~ 8.85/sec\n",
      "Worker1: Done 16800 out of 159916 in 1624.35 sec ~ 10.34/sec\n",
      "Worker3: Done 16800 out of 159918 in 1546.76 sec ~ 10.86/sec\n",
      "Worker2: Done 16900 out of 159916 in 1913.40 sec ~ 8.83/sec\n",
      "Worker1: Done 16900 out of 159916 in 1632.28 sec ~ 10.35/sec\n",
      "Worker3: Done 16900 out of 159918 in 1555.33 sec ~ 10.87/sec\n",
      "Worker2: Done 17000 out of 159916 in 1937.88 sec ~ 8.77/sec\n",
      "Worker1: Done 17000 out of 159916 in 1643.96 sec ~ 10.34/sec\n",
      "Worker3: Done 17000 out of 159918 in 1564.06 sec ~ 10.87/sec\n",
      "Worker2: Done 17100 out of 159916 in 1949.44 sec ~ 8.77/sec\n",
      "Worker1: Done 17100 out of 159916 in 1651.56 sec ~ 10.35/sec\n",
      "Worker3: Done 17100 out of 159918 in 1572.61 sec ~ 10.87/sec\n"
     ]
    }
   ],
   "source": [
    "corpus_collection = client.wines.corpus_collections\n",
    "\n",
    "reviews_cursor = tags_collection.find()\n",
    "reviewsCount = reviews_cursor.count()\n",
    "reviews_cursor.batch_size(5000)\n",
    "\n",
    "lem = WordNetLemmatizer()\n",
    "\n",
    "done = 0\n",
    "start = time.time()\n",
    "\n",
    "for review in reviews_cursor:\n",
    "    nouns = []\n",
    "    words = [word for word in review[\"words\"] if word[\"pos\"] in [\"NN\"]]\n",
    "\n",
    "    for word in words:\n",
    "        nouns.append(lem.lemmatize(word[\"word\"]))\n",
    "\n",
    "    corpus_collection.insert({\n",
    "        \"wine/name\": review[\"wine/name\"],\n",
    "        \"wine/variant\": review[\"wine/variant\"],\n",
    "        \"review/points\": review['review/points'],\n",
    "        \"review/text\": review[\"review/text\"],\n",
    "        \"words\": nouns\n",
    "    })\n",
    "\n",
    "    done += 1\n",
    "    if done % 100 == 0:\n",
    "        end = time.time()\n",
    "        os.system('cls')"
   ]
  },
  {
   "cell_type": "code",
   "execution_count": 16,
   "metadata": {
    "collapsed": true
   },
   "outputs": [],
   "source": [
    "class Corpus(object):\n",
    "    def __init__(self, cursor, reviews_dictionary, corpus_path):\n",
    "        self.cursor = cursor\n",
    "        self.reviews_dictionary = reviews_dictionary\n",
    "        self.corpus_path = corpus_path\n",
    "\n",
    "    def __iter__(self):\n",
    "        self.cursor.rewind()\n",
    "        for review in self.cursor:\n",
    "            yield self.reviews_dictionary.doc2bow(review[\"words\"])\n",
    "\n",
    "    def serialize(self):\n",
    "        BleiCorpus.serialize(self.corpus_path, self, id2word=self.reviews_dictionary)\n",
    "\n",
    "        return self\n",
    "\n",
    "\n",
    "class Dictionary(object):\n",
    "    def __init__(self, cursor, dictionary_path):\n",
    "        self.cursor = cursor\n",
    "        self.dictionary_path = dictionary_path\n",
    "\n",
    "    def build(self):\n",
    "        self.cursor.rewind()\n",
    "        dictionary = corpora.Dictionary(review[\"words\"] for review in self.cursor)\n",
    "        dictionary.filter_extremes(keep_n=10000)\n",
    "        dictionary.compactify()\n",
    "        corpora.Dictionary.save(dictionary, self.dictionary_path)\n",
    "\n",
    "        return dictionary\n",
    "\n",
    "\n",
    "class Train:\n",
    "    def __init__(self):\n",
    "        pass\n",
    "\n",
    "    @staticmethod\n",
    "    def run(lda_model_path, corpus_path, num_topics, id2word):\n",
    "        corpus = corpora.BleiCorpus(corpus_path)\n",
    "        lda = LdaModel(corpus, num_topics=num_topics, id2word=id2word)\n",
    "        lda.save(lda_model_path)\n",
    "\n",
    "        return lda\n",
    "\n",
    "\n",
    "def main():\n",
    "    logging.basicConfig(format='%(asctime)s : %(levelname)s : %(message)s', level=logging.INFO)\n",
    "\n",
    "    dictionary_path = \"models/dictionary.dict\"\n",
    "    corpus_path = \"models/corpus.lda-c\"\n",
    "    lda_num_topics = 25\n",
    "    lda_model_path = \"models/lda_model_50_topics.lda\"\n",
    "\n",
    "    reviews_cursor = red_corpus_collection.find()\n",
    "\n",
    "    dictionary = Dictionary(reviews_cursor, dictionary_path).build()\n",
    "    Corpus(reviews_cursor, dictionary, corpus_path).serialize()\n",
    "    Train.run(lda_model_path, corpus_path, lda_num_topics, dictionary)"
   ]
  },
  {
   "cell_type": "code",
   "execution_count": 17,
   "metadata": {
    "collapsed": false
   },
   "outputs": [
    {
     "name": "stderr",
     "output_type": "stream",
     "text": [
      "WARNING:gensim.models.ldamodel:too few updates, training might not converge; consider increasing the number of passes or iterations to improve accuracy\n"
     ]
    }
   ],
   "source": [
    "main()"
   ]
  },
  {
   "cell_type": "code",
   "execution_count": 18,
   "metadata": {
    "collapsed": false,
    "scrolled": true
   },
   "outputs": [
    {
     "name": "stdout",
     "output_type": "stream",
     "text": [
      "#0: 0.015*tempranillo + 0.013*spanish + 0.010*und + 0.008*leather + 0.006*tobacco + 0.006*dry + 0.006*der + 0.006*mit + 0.006*aloha + 0.006*food\n",
      "#1: 0.012*en + 0.012*bedrock + 0.011*fresh + 0.010*floral + 0.009*mineral + 0.008*village + 0.007*elegant + 0.007*van + 0.007*pure + 0.007*beautiful\n",
      "#2: 0.018*cdp + 0.015*licorice + 0.012*grenache + 0.012*tar + 0.011*garrigue + 0.010*raspberry + 0.007*floral + 0.007*tight + 0.006*leather + 0.006*kirsch\n",
      "#3: 0.030*bordeaux + 0.016*cedar + 0.010*cassis + 0.010*leather + 0.009*classic + 0.009*tobacco + 0.008*pencil + 0.007*dry + 0.006*beautiful + 0.006*baudry\n",
      "#4: 0.043*syrah + 0.015*rhone + 0.012*meat + 0.009*smoke + 0.007*bacon + 0.007*meaty + 0.006*floral + 0.006*blueberry + 0.006*raspberry + 0.006*cdr\n",
      "#5: 0.018*le + 0.015*vin + 0.013*la + 0.011*en + 0.011*une + 0.010*avec + 0.009*nez + 0.009*est + 0.008*ce + 0.007*bouche\n",
      "#6: 0.085*zin + 0.022*zinfandel + 0.015*jammy + 0.014*raspberry + 0.013*turley + 0.012*heat + 0.010*hot + 0.008*fruity + 0.008*ridge + 0.008*carlisle\n",
      "#7: 0.020*port + 0.010*tawny + 0.008*cluster + 0.008*cayuse + 0.006*heat + 0.005*blueberry + 0.005*caramel + 0.005*wonderful + 0.004*vintage + 0.004*night\n",
      "#8: 0.029*shiraz + 0.014*blueberry + 0.012*aussie + 0.010*bomb + 0.010*heat + 0.010*licorice + 0.008*huge + 0.008*jammy + 0.008*hot + 0.007*inky\n",
      "#9: 0.115*gamay + 0.046*prisoner + 0.029*orin + 0.013*foillard + 0.009*loire + 0.009*cork + 0.009*charbono + 0.008*kirkland + 0.008*semaine + 0.007*bordeaux\n",
      "#10: 0.019*food + 0.014*qpr + 0.012*dry + 0.010*simple + 0.009*fruity + 0.009*decent + 0.009*tart + 0.009*easy + 0.008*pleasant + 0.008*leather\n",
      "#11: 0.015*qpr + 0.010*cab + 0.008*decent + 0.008*fruity + 0.007*buy + 0.007*blend + 0.006*point + 0.006*bad + 0.006*solid + 0.006*easy\n",
      "#12: 0.023*kutch + 0.014*jamie + 0.012*dusi + 0.011*non-vintage + 0.010*now-12/14 + 0.009*leather + 0.009*rivers-marie + 0.009*summa + 0.009*coastal + 0.008*beautiful\n",
      "#13: 0.020*och + 0.019*barbera + 0.010*fresh + 0.007*är + 0.007*lite + 0.007*körsbär + 0.007*food + 0.007*floral + 0.006*fine + 0.006*av\n",
      "#14: 0.197*chianti + 0.031*classico + 0.025*'09 + 0.010*cc + 0.009*tobacco + 0.008*riserva + 0.008*tart + 0.007*classic + 0.006*leather + 0.006*tight\n",
      "#15: 0.041*bordeaux + 0.016*cassis + 0.012*tobacco + 0.011*vintage + 0.010*cedar + 0.009*green + 0.008*leather + 0.007*pleasant + 0.007*length + 0.007*dry\n",
      "#16: 0.012*bordeaux + 0.010*vintage + 0.009*tobacco + 0.009*elegant + 0.008*coffee + 0.008*cassis + 0.007*cedar + 0.007*leather + 0.006*ugc + 0.006*green\n",
      "#17: 0.037*og + 0.012*er + 0.011*en + 0.009*av + 0.009*af + 0.007*til + 0.007*vintage + 0.007*den + 0.007*som + 0.007*elegant\n",
      "#18: 0.041*rioja + 0.021*sqn + 0.015*garnacha + 0.010*tempranillo + 0.009*spanish + 0.008*leather + 0.007*smoke + 0.007*elegant + 0.007*tart + 0.007*tobacco\n",
      "#19: 0.037*merlot + 0.018*franc + 0.013*cassis + 0.012*coffee + 0.011*cabernet + 0.010*mocha + 0.008*tight + 0.008*licorice + 0.007*sauvignon + 0.007*tobacco\n",
      "#20: 0.031*cassis + 0.015*bordeaux + 0.015*tobacco + 0.014*fresh + 0.013*cedar + 0.012*elegant + 0.009*pencil + 0.009*vintage + 0.009*fine + 0.009*classic\n",
      "#21: 0.010*beautiful + 0.008*huge + 0.008*wow + 0.007*wonderful + 0.006*tight + 0.006*long + 0.006*cassis + 0.006*decant + 0.006*silky + 0.006*powerful\n",
      "#22: 0.045*cab + 0.022*napa + 0.017*cassis + 0.014*cabernet + 0.010*currant + 0.009*cedar + 0.008*decant + 0.007*tobacco + 0.006*beautiful + 0.005*wonderful\n",
      "#23: 0.021*pinot + 0.015*strawberry + 0.014*raspberry + 0.011*tart + 0.011*cola + 0.011*bright + 0.008*noir + 0.007*floral + 0.007*cranberry + 0.006*fresh\n",
      "#24: 0.007*cassis + 0.006*foley + 0.006*tobacco + 0.006*cedar + 0.005*leather + 0.005*wonderful + 0.005*decant + 0.005*night + 0.005*long + 0.004*feel\n"
     ]
    }
   ],
   "source": [
    "logging.basicConfig(format='%(asctime)s : %(levelname)s : %(message)s', level=logging.INFO)\n",
    "\n",
    "dictionary_path = \"models/dictionary.dict\"\n",
    "corpus_path = \"models/corpus.lda-c\"\n",
    "lda_num_topics = 25\n",
    "lda_model_path = \"models/lda_model_50_topics.lda\"\n",
    "\n",
    "dictionary = corpora.Dictionary.load(dictionary_path)\n",
    "corpus = corpora.BleiCorpus(corpus_path)\n",
    "lda = LdaModel.load(lda_model_path)\n",
    "\n",
    "i = 0\n",
    "for topic in lda.show_topics(num_topics=lda_num_topics):\n",
    "    print '#' + str(i) + ': ' + topic\n",
    "    i += 1"
   ]
  }
 ],
 "metadata": {
  "kernelspec": {
   "display_name": "Python 2",
   "language": "python",
   "name": "python2"
  },
  "language_info": {
   "codemirror_mode": {
    "name": "ipython",
    "version": 2
   },
   "file_extension": ".py",
   "mimetype": "text/x-python",
   "name": "python",
   "nbconvert_exporter": "python",
   "pygments_lexer": "ipython2",
   "version": "2.7.10"
  }
 },
 "nbformat": 4,
 "nbformat_minor": 0
}
